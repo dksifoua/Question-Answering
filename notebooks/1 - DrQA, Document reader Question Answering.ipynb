{
 "cells": [
  {
   "cell_type": "markdown",
   "metadata": {
    "colab_type": "text",
    "id": "view-in-github",
    "pycharm": {
     "name": "#%% md\n"
    }
   },
   "source": [
    "<a href=\"https://colab.research.google.com/github/dksifoua/Question-Answering/blob/master/1%20-%20DrQA%2C%20Document%20reader%20Question%20Answering.ipynb\" target=\"_parent\"><img src=\"https://colab.research.google.com/assets/colab-badge.svg\" alt=\"Open In Colab\"/></a>"
   ]
  },
  {
   "cell_type": "code",
   "execution_count": 1,
   "metadata": {
    "colab": {
     "base_uri": "https://localhost:8080/"
    },
    "id": "LMGpLvYNKR78",
    "outputId": "a44642e8-e103-4b7c-eb0f-625a56ebe146",
    "pycharm": {
     "is_executing": true,
     "name": "#%%\n"
    }
   },
   "outputs": [
    {
     "name": "stdout",
     "output_type": "stream",
     "text": [
      "Tue Oct  4 19:31:03 2022       \r\n",
      "+-----------------------------------------------------------------------------+\r\n",
      "| NVIDIA-SMI 515.43.01    Driver Version: 516.01       CUDA Version: 11.7     |\r\n",
      "|-------------------------------+----------------------+----------------------+\r\n",
      "| GPU  Name        Persistence-M| Bus-Id        Disp.A | Volatile Uncorr. ECC |\r\n",
      "| Fan  Temp  Perf  Pwr:Usage/Cap|         Memory-Usage | GPU-Util  Compute M. |\r\n",
      "|                               |                      |               MIG M. |\r\n",
      "|===============================+======================+======================|\r\n",
      "|   0  NVIDIA GeForce ...  On   | 00000000:08:00.0  On |                  N/A |\r\n",
      "|  0%   38C    P8    15W / 170W |    519MiB / 12288MiB |      2%      Default |\r\n",
      "|                               |                      |                  N/A |\r\n",
      "+-------------------------------+----------------------+----------------------+\r\n",
      "                                                                               \r\n",
      "+-----------------------------------------------------------------------------+\r\n",
      "| Processes:                                                                  |\r\n",
      "|  GPU   GI   CI        PID   Type   Process name                  GPU Memory |\r\n",
      "|        ID   ID                                                   Usage      |\r\n",
      "|=============================================================================|\r\n",
      "|  No running processes found                                                 |\r\n",
      "+-----------------------------------------------------------------------------+\r\n"
     ]
    }
   ],
   "source": [
    "!nvidia-smi"
   ]
  },
  {
   "cell_type": "markdown",
   "metadata": {
    "id": "lP-9tyjdylTg",
    "pycharm": {
     "name": "#%% md\n"
    }
   },
   "source": [
    "## Load dependencies"
   ]
  },
  {
   "cell_type": "code",
   "execution_count": 2,
   "metadata": {
    "id": "Bm6QVw_hzHB7",
    "pycharm": {
     "name": "#%%\n"
    }
   },
   "outputs": [],
   "source": [
    "# !pip install tqdm --upgrade >> /dev/null 2>&1\n",
    "# !pip install spacy --upgrade >> /dev/null 2>&1\n",
    "# !python -m spacy download en_core_web_lg >> /dev/null 2>&1"
   ]
  },
  {
   "cell_type": "code",
   "execution_count": 91,
   "metadata": {
    "id": "bJQv4DSelwnB",
    "pycharm": {
     "name": "#%%\n"
    }
   },
   "outputs": [],
   "source": [
    "import os\n",
    "import re\n",
    "import json\n",
    "import time\n",
    "import tqdm\n",
    "import spacy\n",
    "import pickle\n",
    "import random\n",
    "import string\n",
    "import itertools\n",
    "import functools\n",
    "import collections\n",
    "import dataclasses\n",
    "import numpy as np\n",
    "import matplotlib.pyplot as plt\n",
    "from spacy.tokens import Doc\n",
    "from typing import Any, Dict, List, NamedTuple, Union, Tuple\n",
    "%matplotlib inline\n",
    "\n",
    "from IPython.core.display import display, HTML\n",
    "\n",
    "import torch\n",
    "import torch.nn as nn\n",
    "import torch.nn.functional as F\n",
    "import torch.optim as optim\n",
    "from torch import Tensor\n",
    "from torch.nn.utils.rnn import pack_padded_sequence, pad_sequence, pad_packed_sequence\n",
    "from torch.utils.data import Dataset, DataLoader"
   ]
  },
  {
   "cell_type": "code",
   "execution_count": 4,
   "metadata": {
    "pycharm": {
     "name": "#%%\n"
    }
   },
   "outputs": [
    {
     "name": "stdout",
     "output_type": "stream",
     "text": [
      "Current working directory: /mnt/c/Users/dimit/PycharmProjects/Question-Answering/notebooks\n",
      "New current working directory: /mnt/c/Users/dimit/PycharmProjects/Question-Answering\n"
     ]
    }
   ],
   "source": [
    "current_working_directory = os.getcwd()\n",
    "print(f\"Current working directory: {current_working_directory}\")\n",
    "\n",
    "if current_working_directory.split('/')[-1] == \"notebooks\":\n",
    "    os.chdir(\"../\")\n",
    "\n",
    "print(f\"New current working directory: {os.getcwd()}\")"
   ]
  },
  {
   "cell_type": "code",
   "execution_count": 5,
   "metadata": {
    "pycharm": {
     "name": "#%%\n"
    }
   },
   "outputs": [],
   "source": [
    "def seed_everything(seed: int) -> None:\n",
    "    random.seed(seed)\n",
    "    np.random.seed(seed)\n",
    "    torch.manual_seed(seed)\n",
    "    torch.cuda.manual_seed(seed)\n",
    "\n",
    "    # https://pytorch.org/docs/stable/notes/randomness.html\n",
    "    # torch.use_deterministic_algorithms(True)\n",
    "    # torch.backends.cudnn.benchmark = False"
   ]
  },
  {
   "cell_type": "code",
   "execution_count": 6,
   "metadata": {
    "colab": {
     "base_uri": "https://localhost:8080/"
    },
    "id": "cw16-fZCDHHu",
    "outputId": "29d412de-e92b-46dc-d61e-f679089028fc",
    "pycharm": {
     "name": "#%%\n"
    }
   },
   "outputs": [
    {
     "name": "stdout",
     "output_type": "stream",
     "text": [
      "Device: cuda\n"
     ]
    }
   ],
   "source": [
    "SEED = 546\n",
    "seed_everything(seed=SEED)\n",
    "\n",
    "DEVICE = torch.device(\"cuda\" if torch.cuda.is_available() else \"cpu\")\n",
    "print(f\"Device: {DEVICE}\")"
   ]
  },
  {
   "cell_type": "markdown",
   "metadata": {
    "id": "xx9pL3Hiyn7c",
    "pycharm": {
     "name": "#%% md\n"
    }
   },
   "source": [
    "## Prepare data\n",
    "\n",
    "***Download data***"
   ]
  },
  {
   "cell_type": "code",
   "execution_count": 7,
   "metadata": {
    "colab": {
     "base_uri": "https://localhost:8080/"
    },
    "id": "kBy3v4Pke7dq",
    "outputId": "4d0d9d8a-d05a-4d3f-b1dd-545aa92ad6f1",
    "pycharm": {
     "name": "#%%\n"
    }
   },
   "outputs": [],
   "source": [
    "# !rm -rf ./data\n",
    "# !mkdir ./data\n",
    "#\n",
    "# !wget --no-check-certificate \\\n",
    "#     https://rajpurkar.github.io/SQuAD-explorer/dataset/train-v1.1.json \\\n",
    "#     -O ./data/train-v1.1.json\n",
    "#\n",
    "# !wget --no-check-certificate \\\n",
    "#     https://rajpurkar.github.io/SQuAD-explorer/dataset/dev-v1.1.json \\\n",
    "#     -O ./data/dev-v1.1.json"
   ]
  },
  {
   "cell_type": "markdown",
   "metadata": {
    "id": "L9H59xUnyvAR",
    "pycharm": {
     "name": "#%% md\n"
    }
   },
   "source": [
    "***Load JSON data***"
   ]
  },
  {
   "cell_type": "code",
   "execution_count": 8,
   "metadata": {
    "pycharm": {
     "name": "#%%\n"
    }
   },
   "outputs": [],
   "source": [
    "@dataclasses.dataclass\n",
    "class _UnpackingDataClassMixin:\n",
    "\n",
    "    def __iter__(self):\n",
    "        return iter(dataclasses.astuple(self))\n",
    "\n",
    "\n",
    "@dataclasses.dataclass\n",
    "class Target(_UnpackingDataClassMixin):\n",
    "    start_index: int\n",
    "    end_index: int\n",
    "\n",
    "\n",
    "@dataclasses.dataclass\n",
    "class RawDatasetItem(_UnpackingDataClassMixin):\n",
    "    id_: str\n",
    "    context: Doc\n",
    "    question: Doc\n",
    "    answer: Doc\n",
    "    answer_start_index: int\n",
    "    target: Target = None"
   ]
  },
  {
   "cell_type": "code",
   "execution_count": 9,
   "metadata": {
    "id": "IbZQjhA5roqo",
    "pycharm": {
     "name": "#%%\n"
    }
   },
   "outputs": [],
   "source": [
    "class IO:\n",
    "\n",
    "    @staticmethod\n",
    "    def load_from_json(path: str) -> Dict:\n",
    "        try:\n",
    "            with open(path, mode='r', encoding=\"utf-8\") as json_file:\n",
    "                return json.load(json_file)\n",
    "        except IOError:\n",
    "            raise IOError"
   ]
  },
  {
   "cell_type": "code",
   "execution_count": 10,
   "metadata": {
    "colab": {
     "base_uri": "https://localhost:8080/"
    },
    "id": "rqjrkTxHr3rA",
    "outputId": "aeed0ca6-a730-499b-cd3c-8f2bed254f81",
    "pycharm": {
     "name": "#%%\n"
    }
   },
   "outputs": [
    {
     "name": "stdout",
     "output_type": "stream",
     "text": [
      "Length of raw train data: 442\n",
      "Length of raw valid data: 48\n",
      "CPU times: user 407 ms, sys: 44.8 ms, total: 452 ms\n",
      "Wall time: 675 ms\n"
     ]
    }
   ],
   "source": [
    "%%time\n",
    "train_raw_data = IO.load_from_json(path=\"./data/train-v1.1.json\")\n",
    "valid_raw_data = IO.load_from_json(path=\"./data/dev-v1.1.json\")\n",
    "print(f\"Length of raw train data: {len(train_raw_data['data']):,}\")\n",
    "print(f\"Length of raw valid data: {len(valid_raw_data['data']):,}\")"
   ]
  },
  {
   "cell_type": "markdown",
   "metadata": {
    "id": "n4sypWlVyxx-",
    "pycharm": {
     "name": "#%% md\n"
    }
   },
   "source": [
    "***Parse JSON data***"
   ]
  },
  {
   "cell_type": "code",
   "execution_count": 11,
   "metadata": {
    "id": "O-6GE3YxsQsl",
    "pycharm": {
     "name": "#%%\n"
    }
   },
   "outputs": [],
   "source": [
    "def parse_squad_v1_data(data: Dict, spacy_nlp: spacy.language.Language) -> List[RawDatasetItem]:\n",
    "    qas = []\n",
    "    disabled_components = [\"parser\", \"lemmatizer\", \"tagger\", \"ner\"]\n",
    "    for paragraphs in tqdm.tqdm(data[\"data\"]):\n",
    "        for paragraph in paragraphs[\"paragraphs\"]:\n",
    "            context = spacy_nlp(paragraph[\"context\"], disable=disabled_components[:1])\n",
    "            for qa in paragraph[\"qas\"]:\n",
    "                id_ = qa[\"id\"]\n",
    "                question = spacy_nlp(qa[\"question\"], disable=disabled_components)\n",
    "                for answer in qa[\"answers\"]:\n",
    "                    qas.append(RawDatasetItem(id_=id_, context=context, question=question,\n",
    "                                              answer=spacy_nlp(answer[\"text\"], disable=disabled_components),\n",
    "                                              answer_start_index=answer[\"answer_start\"]))\n",
    "    return qas"
   ]
  },
  {
   "cell_type": "code",
   "execution_count": 12,
   "metadata": {
    "colab": {
     "base_uri": "https://localhost:8080/"
    },
    "id": "6MeqBr7Ov9ZU",
    "outputId": "2dad6d53-186e-41d5-dd61-0da6ac26c314",
    "pycharm": {
     "name": "#%%\n"
    }
   },
   "outputs": [
    {
     "name": "stderr",
     "output_type": "stream",
     "text": [
      "100%|██████████| 442/442 [07:30<00:00,  1.02s/it]\n",
      "100%|██████████| 48/48 [01:21<00:00,  1.69s/it]"
     ]
    },
    {
     "name": "stdout",
     "output_type": "stream",
     "text": [
      "Length of train qa pairs: 87,599\n",
      "Length of valid qa pairs: 34,726\n",
      "Train example: RawDatasetItem(id_='56cc100b6d243a140015ee8d', context=During the summers at Nohant, particularly in the years 1839–43, Chopin found quiet, productive days during which he composed many works, including his Polonaise in A-flat major, Op. 53. Among the visitors to Nohant were Delacroix and the mezzo-soprano Pauline Viardot, whom Chopin had advised on piano technique and composition. Delacroix gives an account of staying at Nohant in a letter of 7 June 1842:, question=On what date did Delacroix write a letter based on his visit at Nohant?, answer=7 June 1842, answer_start_index=393, target=None)\n",
      "CPU times: user 8min 50s, sys: 3.45 s, total: 8min 53s\n",
      "Wall time: 8min 53s\n"
     ]
    },
    {
     "name": "stderr",
     "output_type": "stream",
     "text": [
      "\n"
     ]
    }
   ],
   "source": [
    "%%time\n",
    "language = spacy.load(name=\"en_core_web_lg\")\n",
    "\n",
    "train_qas = parse_squad_v1_data(data=train_raw_data, spacy_nlp=language)\n",
    "valid_qas = parse_squad_v1_data(data=valid_raw_data, spacy_nlp=language)\n",
    "print(f\"Length of train qa pairs: {len(train_qas):,}\")\n",
    "print(f\"Length of valid qa pairs: {len(valid_qas):,}\")\n",
    "print(f\"Train example: {train_qas[random.randint(a=0, b=len(train_qas) - 1)]}\")"
   ]
  },
  {
   "cell_type": "code",
   "execution_count": 13,
   "metadata": {
    "id": "bafKgiFv1GHa",
    "pycharm": {
     "name": "#%%\n"
    }
   },
   "outputs": [],
   "source": [
    "def test_answer_start_indexes(qas: List[RawDatasetItem]) -> None:\n",
    "    for qa in tqdm.tqdm(qas):  # type: RawDatasetItem\n",
    "        assert qa.answer.text == qa.context.text[qa.answer_start_index:qa.answer_start_index + len(qa.answer.text)]"
   ]
  },
  {
   "cell_type": "code",
   "execution_count": 14,
   "metadata": {
    "colab": {
     "base_uri": "https://localhost:8080/"
    },
    "id": "3tTDTQod23-g",
    "outputId": "022c7d5f-cfbf-4b12-b4f9-e6882a9cef07",
    "pycharm": {
     "name": "#%%\n"
    }
   },
   "outputs": [
    {
     "name": "stderr",
     "output_type": "stream",
     "text": [
      "100%|██████████| 87599/87599 [00:03<00:00, 21973.32it/s]\n",
      "100%|██████████| 34726/34726 [00:01<00:00, 22938.37it/s]\n"
     ]
    }
   ],
   "source": [
    "test_answer_start_indexes(qas=train_qas)\n",
    "test_answer_start_indexes(qas=valid_qas)"
   ]
  },
  {
   "cell_type": "markdown",
   "metadata": {
    "id": "pxhCfiNY28zs",
    "pycharm": {
     "name": "#%% md\n"
    }
   },
   "source": [
    "***Add targets***"
   ]
  },
  {
   "cell_type": "code",
   "execution_count": 15,
   "metadata": {
    "id": "k4bpqV3S27SQ",
    "pycharm": {
     "name": "#%%\n"
    }
   },
   "outputs": [],
   "source": [
    "def add_targets_to_squad_v1_data(qas: List[RawDatasetItem]) -> None:\n",
    "    for qa in tqdm.tqdm(qas):  # type: RawDatasetItem\n",
    "        for i in range(len(qa.context)):\n",
    "            if qa.context[i].idx == qa.answer_start_index:\n",
    "                answer = qa.context[i:i + len(qa.answer)]\n",
    "                qa.target = Target(start_index=answer[0].i, end_index=answer[-1].i)"
   ]
  },
  {
   "cell_type": "code",
   "execution_count": 16,
   "metadata": {
    "colab": {
     "base_uri": "https://localhost:8080/"
    },
    "id": "waJedA674CCH",
    "outputId": "84672e5a-a68e-473b-8be8-c7a2e10a0698",
    "pycharm": {
     "name": "#%%\n"
    }
   },
   "outputs": [
    {
     "name": "stderr",
     "output_type": "stream",
     "text": [
      "100%|██████████| 87599/87599 [00:02<00:00, 38221.87it/s]\n",
      "100%|██████████| 34726/34726 [00:00<00:00, 39306.71it/s]"
     ]
    },
    {
     "name": "stdout",
     "output_type": "stream",
     "text": [
      "CPU times: user 3.15 s, sys: 50 ms, total: 3.2 s\n",
      "Wall time: 3.18 s\n"
     ]
    },
    {
     "name": "stderr",
     "output_type": "stream",
     "text": [
      "\n"
     ]
    }
   ],
   "source": [
    "%%time\n",
    "add_targets_to_squad_v1_data(qas=train_qas)\n",
    "add_targets_to_squad_v1_data(qas=valid_qas)"
   ]
  },
  {
   "cell_type": "code",
   "execution_count": 17,
   "metadata": {
    "id": "lT65eePm4F9w",
    "pycharm": {
     "name": "#%%\n"
    }
   },
   "outputs": [],
   "source": [
    "def is_bad_item(qa: RawDatasetItem) -> bool:\n",
    "    \"\"\"Return True if either the target is None or target indexes don't match the answer. Return False otherwise\"\"\"\n",
    "    if qa.target is None:\n",
    "        return False\n",
    "    return qa.answer.text == qa.context[qa.target.start_index:qa.target.end_index + 1].text"
   ]
  },
  {
   "cell_type": "code",
   "execution_count": 18,
   "metadata": {
    "colab": {
     "base_uri": "https://localhost:8080/"
    },
    "id": "V_nUlM_n4Mgc",
    "outputId": "cde0cb35-dd18-4ba5-f4a4-a63a46ec6db7",
    "pycharm": {
     "name": "#%%\n"
    }
   },
   "outputs": [
    {
     "name": "stdout",
     "output_type": "stream",
     "text": [
      "Length of train qa pairs after filtering out bad qa pairs: 86,676\n",
      "Length of valid qa pairs after filtering out bad qa pairs: 34,364\n",
      "CPU times: user 740 ms, sys: 80 µs, total: 740 ms\n",
      "Wall time: 738 ms\n"
     ]
    }
   ],
   "source": [
    "%%time\n",
    "train_qas = [*filter(is_bad_item, train_qas)]\n",
    "valid_qas = [*filter(is_bad_item, valid_qas)]\n",
    "print(f\"Length of train qa pairs after filtering out bad qa pairs: {len(train_qas):,}\")\n",
    "print(f\"Length of valid qa pairs after filtering out bad qa pairs: {len(valid_qas):,}\")"
   ]
  },
  {
   "cell_type": "code",
   "execution_count": 19,
   "metadata": {
    "id": "qKEhn4eI4P5B",
    "pycharm": {
     "name": "#%%\n"
    }
   },
   "outputs": [],
   "source": [
    "def test_targets(qas: List[RawDatasetItem]) -> None:\n",
    "    for qa in qas:\n",
    "        assert qa.answer.text == qa.context[qa.target.start_index:qa.target.end_index + 1].text"
   ]
  },
  {
   "cell_type": "code",
   "execution_count": 20,
   "metadata": {
    "colab": {
     "base_uri": "https://localhost:8080/"
    },
    "id": "6O_fmDJl5R7V",
    "outputId": "999e5ada-e4ec-44ae-f40c-682b08cbb7b6",
    "pycharm": {
     "name": "#%%\n"
    }
   },
   "outputs": [
    {
     "name": "stdout",
     "output_type": "stream",
     "text": [
      "CPU times: user 680 ms, sys: 0 ns, total: 680 ms\n",
      "Wall time: 678 ms\n"
     ]
    }
   ],
   "source": [
    "%%time\n",
    "test_targets(qas=train_qas)\n",
    "test_targets(qas=valid_qas)"
   ]
  },
  {
   "cell_type": "markdown",
   "metadata": {
    "id": "AkLppZOP5Vju",
    "pycharm": {
     "name": "#%% md\n"
    }
   },
   "source": [
    "***Add features***"
   ]
  },
  {
   "cell_type": "code",
   "execution_count": 21,
   "metadata": {
    "id": "O8Y038pt5VIc",
    "pycharm": {
     "name": "#%%\n"
    }
   },
   "outputs": [],
   "source": [
    "@dataclasses.dataclass\n",
    "class TokenFeature(_UnpackingDataClassMixin):\n",
    "    exact_match: List[bool]\n",
    "    part_of_speech: List[str]\n",
    "    named_entity_type: List[str]\n",
    "    normalized_term_frequency: List[float]\n",
    "\n",
    "\n",
    "@dataclasses.dataclass\n",
    "class DrQARawDatasetItem(RawDatasetItem):\n",
    "    token_feature: TokenFeature = None\n",
    "\n",
    "\n",
    "def add_extra_features_squad_v1(qas: List[RawDatasetItem]) -> List[DrQARawDatasetItem]:\n",
    "    \"\"\"Add extra features: Exact Match, Part-of-Speech, Name Entity Recognition & Normalized Term Frequency\"\"\"\n",
    "    qa_token_features = []\n",
    "    for qa in tqdm.tqdm(qas):  # type: RawDatasetItem\n",
    "        question = [token.text.lower() for token in qa.question]\n",
    "        count_context_tokens = collections.Counter(map(lambda token: token.text.lower(), qa.context))\n",
    "\n",
    "        frequency_context_tokens: Dict[int, int] = {}\n",
    "        for index, token in enumerate(qa.context):  # type: int, Token\n",
    "            frequency_context_tokens[index] = count_context_tokens[token.text.lower()]\n",
    "        norm_frequency_context_tokens = sum(frequency_context_tokens.values())\n",
    "\n",
    "        token_feature = TokenFeature(\n",
    "            exact_match=[qa.context[index].text.lower() in question for index in range(len(qa.context))],\n",
    "            part_of_speech=[qa.context[index].tag_ for index in range(len(qa.context))],\n",
    "            named_entity_type=[qa.context[index].ent_type_ for index in range(len(qa.context))],\n",
    "            normalized_term_frequency=[\n",
    "                frequency_context_tokens[index] / norm_frequency_context_tokens for index in range(len(qa.context))\n",
    "            ]\n",
    "        )\n",
    "\n",
    "        qa_token_features.append(\n",
    "            DrQARawDatasetItem(\n",
    "                id_=qa.id_,\n",
    "                context=qa.context,\n",
    "                question=qa.question,\n",
    "                answer=qa.answer,\n",
    "                answer_start_index=qa.answer_start_index,\n",
    "                target=qa.target,\n",
    "                token_feature=token_feature\n",
    "            )\n",
    "        )\n",
    "\n",
    "    return qa_token_features"
   ]
  },
  {
   "cell_type": "code",
   "execution_count": 22,
   "metadata": {
    "colab": {
     "base_uri": "https://localhost:8080/"
    },
    "id": "jqwcbDgPSmp8",
    "outputId": "8df2a4a8-4c18-478b-980e-16ab98a78e3a",
    "pycharm": {
     "name": "#%%\n"
    }
   },
   "outputs": [
    {
     "name": "stderr",
     "output_type": "stream",
     "text": [
      "100%|██████████| 86676/86676 [00:27<00:00, 3155.07it/s]\n",
      "100%|██████████| 34364/34364 [00:10<00:00, 3360.51it/s]"
     ]
    },
    {
     "name": "stdout",
     "output_type": "stream",
     "text": [
      "CPU times: user 36.6 s, sys: 1.33 s, total: 37.9 s\n",
      "Wall time: 37.7 s\n"
     ]
    },
    {
     "name": "stderr",
     "output_type": "stream",
     "text": [
      "\n"
     ]
    }
   ],
   "source": [
    "%%time\n",
    "train_qas = add_extra_features_squad_v1(qas=train_qas)\n",
    "valid_qas = add_extra_features_squad_v1(qas=valid_qas)"
   ]
  },
  {
   "cell_type": "markdown",
   "metadata": {
    "id": "X8SrKXlfoU5y",
    "pycharm": {
     "name": "#%% md\n"
    }
   },
   "source": [
    "***Build vocabularies***"
   ]
  },
  {
   "cell_type": "code",
   "execution_count": 57,
   "metadata": {
    "pycharm": {
     "name": "#%%\n"
    }
   },
   "outputs": [],
   "source": [
    "class Vocabulary:\n",
    "\n",
    "    def __init__(self, padding_token: str, unknown_token: str):\n",
    "        self.padding_token = padding_token\n",
    "        self.unknown_token = unknown_token\n",
    "\n",
    "        self.vocabulary: List[str] = []\n",
    "        self.word2count: Dict[str, int] = {}\n",
    "        self.word2index: Dict[str, int] = {}\n",
    "        self.index2word: Dict[int, str] = {}\n",
    "\n",
    "    def build(self, data: List[Union[Doc, str]], min_word_frequency: int) -> None:\n",
    "        words = []\n",
    "\n",
    "        type_ = type(data[0])\n",
    "        if type_ == Doc:\n",
    "            for item in data:  # Doc\n",
    "                words += [word.text.lower() for word in item]\n",
    "        elif type_ == str:\n",
    "            words += data\n",
    "        else:\n",
    "            raise TypeError(f\"The type {type_} is not supported!\")\n",
    "\n",
    "        self.word2count = collections.Counter(words)\n",
    "        self.vocabulary = [self.padding_token] + sorted(filter(\n",
    "            lambda word: self.word2count[word] >= min_word_frequency,\n",
    "            self.word2count\n",
    "        )) + [self.unknown_token]\n",
    "        self.word2index = {word: index for index, word in enumerate(self.vocabulary)}\n",
    "        self.index2word = {index: word for index, word in enumerate(self.vocabulary)}\n",
    "\n",
    "    def __len__(self) -> int:\n",
    "        return len(self.vocabulary)\n",
    "\n",
    "    def stoi(self, word: str) -> int:\n",
    "        \"\"\"\n",
    "        Return the index of the word in the vocabulary.\n",
    "        Return the index of the unknown token if that word doesn't exist in the vocabulary.\n",
    "        \"\"\"\n",
    "        return self.word2index.get(word, self.word2index[self.unknown_token])\n",
    "\n",
    "    def itos(self, index: int) -> str:\n",
    "        \"\"\"Return the word of the index in the vocabulary.\"\"\"\n",
    "        return self.index2word[index]"
   ]
  },
  {
   "cell_type": "code",
   "execution_count": 58,
   "metadata": {
    "pycharm": {
     "name": "#%%\n"
    }
   },
   "outputs": [
    {
     "name": "stdout",
     "output_type": "stream",
     "text": [
      "Length of id vocabulary: 97,200\n",
      "Length of text vocabulary: 26,884\n",
      "Length of part of speech vocabulary: 52\n",
      "Length of named entity type vocabulary: 21\n",
      "CPU times: user 14.4 s, sys: 170 ms, total: 14.6 s\n",
      "Wall time: 14.6 s\n"
     ]
    }
   ],
   "source": [
    "%%time\n",
    "PADDING_TOKEN = \"<pad>\"\n",
    "UNKNOWN_TOKEN = \"<unk>\"\n",
    "MIN_FREQUENCY = 5\n",
    "\n",
    "ids = [*map(lambda qa: qa.id_, train_qas)] + [*map(lambda qa: qa.id_, valid_qas)]\n",
    "contexts, questions = zip(*map(lambda qa: (qa.context, qa.question), train_qas))\n",
    "part_of_speeches = [*itertools.chain.from_iterable(map(lambda qa: qa.token_feature.part_of_speech, train_qas))]\n",
    "named_entity_types = [*itertools.chain.from_iterable(map(lambda qa: qa.token_feature.named_entity_type, train_qas))]\n",
    "\n",
    "id_vocabulary = Vocabulary(padding_token=PADDING_TOKEN, unknown_token=UNKNOWN_TOKEN)\n",
    "text_vocabulary = Vocabulary(padding_token=PADDING_TOKEN, unknown_token=UNKNOWN_TOKEN)\n",
    "part_of_speech_vocabulary = Vocabulary(padding_token=PADDING_TOKEN, unknown_token=UNKNOWN_TOKEN)\n",
    "named_entity_types_vocabulary = Vocabulary(padding_token=PADDING_TOKEN, unknown_token=UNKNOWN_TOKEN)\n",
    "\n",
    "id_vocabulary.build(data=[*set(ids)], min_word_frequency=0)\n",
    "text_vocabulary.build(data=[*set(contexts + questions)], min_word_frequency=MIN_FREQUENCY)\n",
    "part_of_speech_vocabulary.build(data=[*set(part_of_speeches)], min_word_frequency=0)\n",
    "named_entity_types_vocabulary.build(data=[*set(named_entity_types)], min_word_frequency=0)\n",
    "\n",
    "print(f\"Length of id vocabulary: {len(id_vocabulary):,}\")\n",
    "print(f\"Length of text vocabulary: {len(text_vocabulary):,}\")\n",
    "print(f\"Length of part of speech vocabulary: {len(part_of_speech_vocabulary):,}\")\n",
    "print(f\"Length of named entity type vocabulary: {len(named_entity_types_vocabulary):,}\")"
   ]
  },
  {
   "cell_type": "markdown",
   "metadata": {
    "pycharm": {
     "name": "#%% md\n"
    }
   },
   "source": [
    "***Build datasets***"
   ]
  },
  {
   "cell_type": "code",
   "execution_count": 59,
   "metadata": {
    "id": "iotg02zlAflQ",
    "pycharm": {
     "name": "#%%\n"
    }
   },
   "outputs": [],
   "source": [
    "@dataclasses.dataclass\n",
    "class DrQATensorDatasetItem(_UnpackingDataClassMixin):\n",
    "    id_: torch.LongTensor\n",
    "    context: Union[torch.LongTensor, Tuple[torch.LongTensor, torch.LongTensor]]\n",
    "    question: Union[torch.LongTensor, Tuple[torch.LongTensor, torch.LongTensor]]\n",
    "    target: torch.LongTensor\n",
    "    exact_match: torch.LongTensor\n",
    "    part_of_speech: torch.LongTensor\n",
    "    named_entity_type: torch.LongTensor\n",
    "    normalized_term_frequency: torch.FloatTensor\n",
    "\n",
    "\n",
    "class SquadV1Dataset(Dataset):\n",
    "\n",
    "    def __init__(self, data: List[DrQARawDatasetItem], id_vocab: Vocabulary, text_vocab: Vocabulary,\n",
    "                 pos_vocab: Vocabulary, ner_vocab: Vocabulary):\n",
    "        self.data = data\n",
    "        self.id_vocab = id_vocab\n",
    "        self.pos_vocab = pos_vocab\n",
    "        self.ner_vocab = ner_vocab\n",
    "        self.text_vocab = text_vocab\n",
    "\n",
    "    def __len__(self) -> int:\n",
    "        return len(self.data)\n",
    "\n",
    "    def __getitem__(self, idx) -> DrQATensorDatasetItem:\n",
    "        item: DrQARawDatasetItem = self.data[idx]\n",
    "        id_ = torch.LongTensor([self.id_vocab.stoi(item.id_)])\n",
    "        context = torch.LongTensor([*map(lambda token: self.text_vocab.stoi(token.text.lower()), item.context)])\n",
    "        question = torch.LongTensor([*map(lambda token: self.text_vocab.stoi(token.text.lower()), item.question)])\n",
    "        target = torch.LongTensor([item.target.start_index, item.target.end_index])\n",
    "        exact_match = torch.LongTensor(item.token_feature.exact_match)\n",
    "        part_of_speech = torch.LongTensor(\n",
    "            [*map(lambda token: self.pos_vocab.stoi(token), item.token_feature.part_of_speech)])\n",
    "        named_entity_type = torch.LongTensor(\n",
    "            [*map(lambda token: self.ner_vocab.stoi(token), item.token_feature.named_entity_type)])\n",
    "        normalized_term_frequency = torch.FloatTensor(item.token_feature.normalized_term_frequency)\n",
    "        return DrQATensorDatasetItem(\n",
    "            id_=id_,\n",
    "            context=context,\n",
    "            question=question,\n",
    "            target=target,\n",
    "            exact_match=exact_match,\n",
    "            part_of_speech=part_of_speech,\n",
    "            named_entity_type=named_entity_type,\n",
    "            normalized_term_frequency=normalized_term_frequency\n",
    "        )"
   ]
  },
  {
   "cell_type": "code",
   "execution_count": 60,
   "metadata": {
    "colab": {
     "base_uri": "https://localhost:8080/"
    },
    "id": "XMgSisEt8ARe",
    "outputId": "735861e8-f6c2-49bb-b8e8-7d5da12ef11a",
    "pycharm": {
     "name": "#%%\n"
    }
   },
   "outputs": [
    {
     "name": "stdout",
     "output_type": "stream",
     "text": [
      "id_ shape: torch.Size([1])\n",
      "context shape: torch.Size([142])\n",
      "question shape: torch.Size([14])\n",
      "target shape: torch.Size([2])\n",
      "exact_match shape: torch.Size([142])\n",
      "part_of_speech shape: torch.Size([142])\n",
      "named_entity_type shape: torch.Size([142])\n",
      "normalized_term_frequency shape: torch.Size([142])\n"
     ]
    }
   ],
   "source": [
    "train_dataset = SquadV1Dataset(\n",
    "    data=train_qas,\n",
    "    id_vocab=id_vocabulary,\n",
    "    text_vocab=text_vocabulary,\n",
    "    pos_vocab=part_of_speech_vocabulary,\n",
    "    ner_vocab=named_entity_types_vocabulary\n",
    ")\n",
    "valid_dataset = SquadV1Dataset(\n",
    "    data=valid_qas,\n",
    "    id_vocab=id_vocabulary,\n",
    "    text_vocab=text_vocabulary,\n",
    "    pos_vocab=part_of_speech_vocabulary,\n",
    "    ner_vocab=named_entity_types_vocabulary\n",
    ")\n",
    "\n",
    "train_dataset_item = train_dataset[0]\n",
    "print(f\"id_ shape: {train_dataset_item.id_.shape}\")\n",
    "print(f\"context shape: {train_dataset_item.context.shape}\")\n",
    "print(f\"question shape: {train_dataset_item.question.shape}\")\n",
    "print(f\"target shape: {train_dataset_item.target.shape}\")\n",
    "print(f\"exact_match shape: {train_dataset_item.exact_match.shape}\")\n",
    "print(f\"part_of_speech shape: {train_dataset_item.part_of_speech.shape}\")\n",
    "print(f\"named_entity_type shape: {train_dataset_item.named_entity_type.shape}\")\n",
    "print(f\"normalized_term_frequency shape: {train_dataset_item.normalized_term_frequency.shape}\")"
   ]
  },
  {
   "cell_type": "markdown",
   "metadata": {
    "id": "3ZQaVaHt_MDc",
    "pycharm": {
     "name": "#%% md\n"
    }
   },
   "source": [
    "***Build data loaders***"
   ]
  },
  {
   "cell_type": "code",
   "execution_count": 61,
   "metadata": {
    "id": "cYMYz3-SBYzf",
    "pycharm": {
     "name": "#%%\n"
    }
   },
   "outputs": [],
   "source": [
    "DrQATensorDatasetBatch = DrQATensorDatasetItem\n",
    "\n",
    "def add_padding_and_batch_data(batch: List[DrQATensorDatasetItem], id_vocab: Vocabulary, text_vocab: Vocabulary,\n",
    "                               pos_vocab: Vocabulary, ner_vocab: Vocabulary, include_lengths: bool,\n",
    "                               device: torch.device) -> DrQATensorDatasetBatch:\n",
    "    batch_id = [item.id_ for item in batch]\n",
    "    batch_context = [item.context for item in batch]\n",
    "    batch_question = [item.question for item in batch]\n",
    "    batch_target = [item.target for item in batch]\n",
    "    batch_exact_match = [item.exact_match for item in batch]\n",
    "    batch_part_of_speech = [item.part_of_speech for item in batch]\n",
    "    batch_named_entity_type = [item.named_entity_type for item in batch]\n",
    "    batch_normalized_term_frequency = [item.normalized_term_frequency for item in batch]\n",
    "\n",
    "    length_context, length_question = None, None\n",
    "    if include_lengths:\n",
    "        length_context = torch.LongTensor([context.size(0) for context in batch_context])  # .to(device)\n",
    "        length_question = torch.LongTensor([question.size(0) for question in batch_question])  # .to(device)\n",
    "\n",
    "    batch_padded_id = pad_sequence(batch_id,\n",
    "                                   batch_first=True,\n",
    "                                   padding_value=id_vocab.stoi(id_vocab.padding_token)).to(device)\n",
    "    batch_padded_context = pad_sequence(batch_context,\n",
    "                                        batch_first=True,\n",
    "                                        padding_value=text_vocab.stoi(text_vocab.padding_token)).to(device)\n",
    "    batch_padded_question = pad_sequence(batch_question,\n",
    "                                         batch_first=True,\n",
    "                                         padding_value=text_vocab.stoi(text_vocab.padding_token)).to(device)\n",
    "    batch_padded_target = pad_sequence(batch_target, batch_first=True).to(device)\n",
    "    batch_padded_exact_match = pad_sequence(batch_exact_match, batch_first=True).to(device)\n",
    "    batch_padded_part_of_speech = pad_sequence(batch_part_of_speech,\n",
    "                                               batch_first=True,\n",
    "                                               padding_value=pos_vocab.stoi(pos_vocab.padding_token)).to(device)\n",
    "    batch_padded_normalized_term_frequency = pad_sequence(batch_normalized_term_frequency, batch_first=True).to(device)\n",
    "    batch_padded_named_entity_type = pad_sequence(batch_named_entity_type,\n",
    "                                                  batch_first=True,\n",
    "                                                  padding_value=ner_vocab.stoi(ner_vocab.padding_token)).to(device)\n",
    "    return DrQATensorDatasetBatch(\n",
    "        id_=batch_padded_id,\n",
    "        context=(batch_padded_context, length_context),\n",
    "        question=(batch_padded_question, length_question),\n",
    "        target=batch_padded_target,\n",
    "        exact_match=batch_padded_exact_match,\n",
    "        part_of_speech=batch_padded_part_of_speech,\n",
    "        named_entity_type=batch_padded_named_entity_type,\n",
    "        normalized_term_frequency=batch_padded_normalized_term_frequency\n",
    "    )"
   ]
  },
  {
   "cell_type": "code",
   "execution_count": 76,
   "metadata": {
    "colab": {
     "base_uri": "https://localhost:8080/"
    },
    "id": "Zu2ovPqxA7Ix",
    "outputId": "02a52daa-a8ec-45de-c916-995fe7e860c4",
    "pycharm": {
     "name": "#%%\n"
    }
   },
   "outputs": [
    {
     "name": "stdout",
     "output_type": "stream",
     "text": [
      "IDs: torch.Size([32, 1])\n",
      "Context: torch.Size([32, 253]) torch.Size([32])\n",
      "Question: torch.Size([32, 19]) torch.Size([32])\n",
      "Target: torch.Size([32, 2])\n",
      "Exact match: torch.Size([32, 253])\n",
      "Part of speech: torch.Size([32, 253])\n",
      "Named entity type: torch.Size([32, 253])\n",
      "Normalized term frequency: torch.Size([32, 253])\n"
     ]
    }
   ],
   "source": [
    "BATCH_SIZE = 32\n",
    "\n",
    "collate_function = functools.partial(add_padding_and_batch_data,\n",
    "                                     id_vocab=id_vocabulary,\n",
    "                                     text_vocab=text_vocabulary,\n",
    "                                     pos_vocab=part_of_speech_vocabulary,\n",
    "                                     ner_vocab=named_entity_types_vocabulary,\n",
    "                                     include_lengths=True,\n",
    "                                     device=DEVICE)\n",
    "\n",
    "train_dataloader = DataLoader(train_dataset, batch_size=BATCH_SIZE, collate_fn=collate_function)\n",
    "valid_dataloader = DataLoader(valid_dataset, batch_size=BATCH_SIZE, collate_fn=collate_function)\n",
    "\n",
    "for batch in train_dataloader:  # type: DrQATensorDatasetBatch\n",
    "    print(\"IDs:\", batch.id_.shape)\n",
    "    print(\"Context:\", batch.context[0].shape, batch.context[1].shape)\n",
    "    print(\"Question:\", batch.question[0].shape, batch.question[1].shape)\n",
    "    print(\"Target:\", batch.target.shape)\n",
    "    print(\"Exact match:\", batch.exact_match.shape)\n",
    "    print(\"Part of speech:\", batch.part_of_speech.shape)\n",
    "    print(\"Named entity type:\", batch.named_entity_type.shape)\n",
    "    print(\"Normalized term frequency:\", batch.normalized_term_frequency.shape)\n",
    "    break"
   ]
  },
  {
   "cell_type": "markdown",
   "metadata": {
    "id": "z2O79r_CLvGu",
    "pycharm": {
     "name": "#%% md\n"
    }
   },
   "source": [
    "***Download pretrained GloVe embedding***"
   ]
  },
  {
   "cell_type": "code",
   "execution_count": 83,
   "metadata": {
    "colab": {
     "base_uri": "https://localhost:8080/"
    },
    "id": "hrSXYalOmRak",
    "outputId": "bc303808-01ad-4f75-c884-0a337681eb7b",
    "pycharm": {
     "name": "#%%\n"
    }
   },
   "outputs": [],
   "source": [
    "# %%time\n",
    "# !wget --no-check-certificate \\\n",
    "#     http://nlp.stanford.edu/data/glove.840B.300d.zip \\\n",
    "#     -O ./data/glove.840B.300d.zip\n",
    "# !unzip -q ./data/glove.840B.300d.zip -d ./data\n",
    "# !rm -r ./data/glove.840B.300d.zip"
   ]
  },
  {
   "cell_type": "code",
   "execution_count": 84,
   "metadata": {
    "id": "BL0JZuEmmf5C",
    "pycharm": {
     "name": "#%%\n"
    }
   },
   "outputs": [],
   "source": [
    "# def load_glove_embeddings(path: str) -> Dict[str, np.ndarray]:\n",
    "#     glove_embeddings = {}\n",
    "#     try:\n",
    "#         file = open(path, mode='r', encoding=\"utf-8\")\n",
    "#         for line in tqdm.tqdm(file):\n",
    "#             values = line.split(' ')\n",
    "#             glove_embeddings[values[0]] = np.asarray(values[1:], dtype=\"float32\")\n",
    "#         return glove_embeddings\n",
    "#     except IOError:\n",
    "#         raise IOError"
   ]
  },
  {
   "cell_type": "code",
   "execution_count": 85,
   "metadata": {
    "colab": {
     "base_uri": "https://localhost:8080/"
    },
    "id": "BDX8b2EJm1uZ",
    "outputId": "c477bc5e-4b5f-4880-8916-fa53fd7ef300",
    "pycharm": {
     "name": "#%%\n"
    }
   },
   "outputs": [],
   "source": [
    "# %%time\n",
    "# glove = load_glove_embeddings(path=\"./data/glove.840B.300d.zip\")"
   ]
  },
  {
   "cell_type": "code",
   "execution_count": 86,
   "metadata": {
    "pycharm": {
     "name": "#%%\n"
    }
   },
   "outputs": [],
   "source": [
    "# text_vocabulary.word2count.most_common(10)"
   ]
  },
  {
   "cell_type": "code",
   "execution_count": 87,
   "metadata": {
    "id": "ELVYepbbm7ny",
    "pycharm": {
     "name": "#%%\n"
    }
   },
   "outputs": [],
   "source": [
    "# def extract_embeddings(glove_embeddings: Dict[str, np.ndarray], text_vocab: Vocabulary, embedding_size: int, most_common: int) -> Tuple[np.ndarray, int, List[int]]:\n",
    "#     most_common_words = [*map(lambda x: x[0], text_vocab.word2count.most_common(most_common))]\n",
    "#     most_common_words = [*filter(lambda word: word in text_vocab.vocabulary, most_common_words)]\n",
    "#     embedding_matrix = np.zeros((len(text_vocab), embedding_size))\n",
    "#     most_common_indexes, n_words = [], 0\n",
    "#     for index, word in enumerate(text_vocab.vocabulary):\n",
    "#         if word in most_common_words:\n",
    "#             most_common_indexes.append(index)\n",
    "#         try:\n",
    "#             embedding_matrix[index] = glove[word]\n",
    "#             n_words += 1\n",
    "#         except KeyError:\n",
    "#             pass\n",
    "#         except ValueError:\n",
    "#             pass\n",
    "#     return embedding_matrix, n_words, most_common_indexes"
   ]
  },
  {
   "cell_type": "code",
   "execution_count": 88,
   "metadata": {
    "colab": {
     "base_uri": "https://localhost:8080/"
    },
    "id": "3CUDosl_n5HA",
    "outputId": "ce6edfc0-2a4e-41ba-dc6d-8ddf703b6501",
    "pycharm": {
     "name": "#%%\n"
    }
   },
   "outputs": [],
   "source": [
    "# embedding_matrix, n_words, most_common_indexes = extract_embeddings(glove_embeddings=glove, text_vocab=text_vocabulary, embedding_size=300, most_common=1000)\n",
    "# print(f\"Words found: {n_words}/{len(text_vocabulary)}\")\n",
    "# np.save(\"../data/GloVe_DrQA.npy\", embedding_matrix)"
   ]
  },
  {
   "cell_type": "code",
   "execution_count": 89,
   "metadata": {
    "pycharm": {
     "name": "#%%\n"
    }
   },
   "outputs": [],
   "source": [
    "# n_words = 0\n",
    "# for word in tqdm.tqdm(text_vocabulary.vocabulary, total=len(text_vocabulary.vocabulary)):\n",
    "#     if nlp(word).has_vector:\n",
    "#         n_words += 1\n",
    "# print(f\"Words found: {n_words}/{len(text_vocabulary)}\")"
   ]
  },
  {
   "cell_type": "code",
   "execution_count": 90,
   "metadata": {
    "id": "JZzbAOFAmfnT",
    "pycharm": {
     "name": "#%%\n"
    }
   },
   "outputs": [],
   "source": [
    "# # Free up the RAM\n",
    "# del glove\n",
    "# del embedding_matrix"
   ]
  },
  {
   "cell_type": "markdown",
   "metadata": {
    "id": "bxnYdks-L31E",
    "pycharm": {
     "name": "#%% md\n"
    }
   },
   "source": [
    "## Modeling\n",
    "\n",
    "***Stacked Bidirectional LSTM Layer***"
   ]
  },
  {
   "cell_type": "code",
   "execution_count": 92,
   "metadata": {
    "id": "DoHYvqQQCEGw",
    "pycharm": {
     "name": "#%%\n"
    }
   },
   "outputs": [],
   "source": [
    "class StackedBiLSTMsLayer(nn.Module):\n",
    "\n",
    "    def __init__(self, embedding_size: int, hidden_size: int, n_layers: int, dropout: float):\n",
    "        \"\"\"\n",
    "        :param embedding_size: Size of word embedding.\n",
    "        :param hidden_size: Hidden size of lstm layers.\n",
    "        :param n_layers: Number of layers.\n",
    "        :param dropout: Dropout value in [0, 1).\n",
    "        \"\"\"\n",
    "        super(StackedBiLSTMsLayer, self).__init__()\n",
    "        self.embedding_size = embedding_size\n",
    "        self.hidden_size = hidden_size\n",
    "        self.n_layers = n_layers\n",
    "        self.dropout = nn.Dropout(p=dropout)\n",
    "\n",
    "        self.lstm_layers = nn.ModuleList([\n",
    "            nn.LSTM(\n",
    "                input_size=embedding_size if i == 0 else hidden_size * 2, hidden_size=hidden_size,\n",
    "                batch_first=True, num_layers=n_layers, bidirectional=True\n",
    "            ) for i in range(n_layers)\n",
    "        ])\n",
    "\n",
    "    def __forward_lstm(self, layer: nn.Module, inputs: Tensor, lengths: Tensor) -> Tuple[Tensor, Tensor]:\n",
    "        \"\"\"\n",
    "        :param layer: LSTM layer.\n",
    "        :param inputs: Sequence inputs. FloatTensor[batch_size, seq_len, embedding_size|hidden_size * 2]\n",
    "        :param lengths: Sequence lengths. LongTensor[batch_size,]\n",
    "        :return:\n",
    "            padded_outputs FloatTensor[batch_size, seq_len, hidden_size * 2]\n",
    "            outputs_lengths LongTensor[batch_size,]\n",
    "        \"\"\"\n",
    "        seq_len = inputs.size(1)\n",
    "        inputs = self.dropout(inputs)\n",
    "        packed_inputs = pack_padded_sequence(input=inputs, lengths=lengths, batch_first=True, enforce_sorted=False)\n",
    "        packed_outputs, _ = layer(packed_inputs)\n",
    "        padded_outputs, outputs_lengths = pad_packed_sequence(sequence=packed_outputs,\n",
    "                                                              batch_first=True,\n",
    "                                                              total_length=seq_len)\n",
    "        return padded_outputs, outputs_lengths\n",
    "\n",
    "    def forward(self, embedded_inputs: Tensor, sequence_lengths: Tensor) -> Tensor:\n",
    "        \"\"\"\n",
    "        :param embedded_inputs: Sequence inputs. FloatTensor[batch_size, seq_len, embedding_size]\n",
    "        :param sequence_lengths: Sequence lengths. LongTensor[batch_size,]\n",
    "        :return: FloatTensor[batch_size, sequence_lengths, n_layers * hidden_size * 2]\n",
    "        \"\"\"\n",
    "        outputs, lens = [embedded_inputs], sequence_lengths\n",
    "        for lstm_layer in self.lstm_layers:\n",
    "            out, lens = self.__forward_lstm(layer=lstm_layer, inputs=outputs[-1], lengths=lens)\n",
    "            outputs.append(out)\n",
    "        return self.dropout(torch.cat(outputs[1:], dim=-1))"
   ]
  },
  {
   "cell_type": "markdown",
   "metadata": {
    "id": "5oazq30eW3_T",
    "pycharm": {
     "name": "#%% md\n"
    }
   },
   "source": [
    "***Aligned Question Embedding Layer***"
   ]
  },
  {
   "cell_type": "code",
   "execution_count": 93,
   "metadata": {
    "id": "ATOQC6-pWzq_",
    "pycharm": {
     "name": "#%%\n"
    }
   },
   "outputs": [],
   "source": [
    "class AlignedQuestionEmbeddingLayer(nn.Module):\n",
    "\n",
    "    def __init__(self, embedding_size: int, hidden_size: int):\n",
    "        \"\"\"\n",
    "        Aligned Question Embedding\n",
    "        $$f_{align}(p_i) = \\sum_j a_{i, j}E(q_j)$$\n",
    "        where the attention score $a_{i, j}$ captures the similarity between $p_i$ and each question words $q_j$.\n",
    "        Specifically, $a_{i, j}$ is computed by the dot products between nonlinear mappings of word embeddings:\n",
    "        $$a_{i, j} = \\frac{exp(\\alpha(E(p_i)).\\alpha(E(q_j)))}{\\sum_{j'}exp(\\alpha(E(p_i)).\\alpha(E(q_{j'})))}$$,\n",
    "        and $\\alpha(.)$ is a single dense layer with ReLU non-linearity. Compared to the exact match features, these\n",
    "        features add soft alignments between similar but non-identical words (e.g., car and vehicle)\n",
    "\n",
    "        :param embedding_size: Size of word embedding.\n",
    "        :param hidden_size: Hidden size of the dense layer.\n",
    "        \"\"\"\n",
    "        super(AlignedQuestionEmbeddingLayer, self).__init__()\n",
    "        self.embedding_size = embedding_size\n",
    "        self.hidden_size = hidden_size\n",
    "\n",
    "        self.dense = nn.Linear(in_features=embedding_size, out_features=hidden_size)\n",
    "\n",
    "    def forward(self, context_sequence: Tensor, question_sequence: Tensor, question_mask: Tensor) -> Tensor:\n",
    "        \"\"\"\n",
    "        :param context_sequence: Sequence context inputs. FloatTensor[batch_size, ctx_seq_len, embedding_size]\n",
    "        :param question_sequence: Sequence question inputs. FloatTensor[batch_size, qst_seq_len, embedding_size]\n",
    "        :param question_mask: Mask of question regarding if it is a padding token or not.\n",
    "            IntTensor[batch_size, qst_seq_len]\n",
    "        :return: FloatTensor[batch_size, ctx_seq_len, hidden_size]\n",
    "        \"\"\"\n",
    "        context_logits = F.relu(self.dense(context_sequence))  # [batch_size, ctx_seq_len, hidden_size]\n",
    "        question_logits = F.relu(self.dense(question_sequence))  # [batch_size, qst_seq_len, hidden_size]\n",
    "        scores = torch.bmm(context_logits, question_logits.transpose(-1, -2))  # [batch_size, ctx_seq_len, qst_seq_len]\n",
    "        # Mask scores in order to force attention weights corresponding to padding tokens to be 0.\n",
    "        scores = scores.masked_fill(question_mask.unsqueeze(1) == 0, float(\"-inf\"))\n",
    "        attention_weights = F.softmax(scores, dim=-1)  # [batch_size, ctx_seq_len, qst_seq_len]\n",
    "        return torch.bmm(attention_weights, question_logits)"
   ]
  },
  {
   "cell_type": "markdown",
   "metadata": {
    "id": "ImX8ayztYjsK",
    "pycharm": {
     "name": "#%% md\n"
    }
   },
   "source": [
    "***Question Encoding Layer***"
   ]
  },
  {
   "cell_type": "code",
   "execution_count": 94,
   "metadata": {
    "id": "Whil-FgVYhgy",
    "pycharm": {
     "name": "#%%\n"
    }
   },
   "outputs": [],
   "source": [
    "class QuestionEncodingLayer(nn.Module):\n",
    "    \n",
    "    def __init__(self, embedding_size: int, hidden_size: int, n_layers: int, dropout: float):\n",
    "        \"\"\"\n",
    "        The question encoding consists of applying a recurrent neural network on top of the word embeddings of $q_i$\n",
    "        and combine the resulting hidden units into one single vector: $\\{q_1, ..., q_l\\} \\rightarrow q$. We compute\n",
    "        $q = \\sum_j{b_j q_j}$ where $b_j$ encodes the importance of each question word:\n",
    "        $$b_j = \\frac{exp(w.q_j)}{\\sum_{j'}{exp(w.q_{j'})}}$$\n",
    "        and $w$ is a weight vector to learn\n",
    "\n",
    "        :param embedding_size:\n",
    "        :param hidden_size:\n",
    "        :param n_layers:\n",
    "        :param dropout:\n",
    "        \"\"\"\n",
    "        super(QuestionEncodingLayer, self).__init__()\n",
    "        self.embedding_size = embedding_size\n",
    "        self.hidden_size = hidden_size\n",
    "        self.n_layers = n_layers\n",
    "        self.dropout = nn.Dropout(p=dropout)\n",
    "\n",
    "        self.stacked_bilstm_layers = StackedBiLSTMsLayer(\n",
    "            embedding_size=embedding_size, hidden_size=hidden_size, n_layers=n_layers, dropout=dropout\n",
    "        )\n",
    "        self.dense = nn.Linear(in_features=embedding_size, out_features=1, bias=False)\n",
    "\n",
    "    def __linear_self_attention(self, question_embedded: Tensor, question_mask: Tensor) -> Tensor:\n",
    "        \"\"\"\n",
    "        :param question_embedded: FloatTensor[batch_size, qst_seq_len, embedding_size]\n",
    "        :param question_mask: Mask of question regarding if it is a padding token or not.\n",
    "            IntTensor[batch_size, qst_seq_len]\n",
    "        :return: FloatTensor[batch_size, qst_seq_len]\n",
    "        \"\"\"\n",
    "        scores = self.dense(question_embedded).squeeze(-1)  # [batch_size, qst_seq_len]\n",
    "        scores = scores.masked_fill(question_mask == 0, float(\"-inf\"))\n",
    "        return F.softmax(scores, dim=-1)\n",
    "\n",
    "    def forward(self, question_embedded: Tensor, question_lengths: Tensor, question_mask: Tensor) -> Tensor:\n",
    "        \"\"\"\n",
    "        :param question_embedded: FloatTensor[batch_size, qst_seq_len, embedding_size]\n",
    "        :param question_lengths: Sequence question lengths. LongTensor[batch_size,]\n",
    "        :param question_mask: Mask of question regarding if it is a padding token or not.\n",
    "            IntTensor[batch_size, qst_seq_len]\n",
    "        :return: FloatTensor[batch_size, n_layers * hidden_size * 2]\n",
    "        \"\"\"\n",
    "        lstm_outputs = self.stacked_bilstm_layers(embedded_inputs=question_embedded, sequence_lengths=question_lengths)\n",
    "        # lstm_outputs: [batch_size, qst_seq_len, n_layers * hidden_size * 2]\n",
    "        attention_weights = self.__linear_self_attention(\n",
    "            question_embedded=question_embedded, question_mask=question_mask\n",
    "        )  # [batch_size, qst_seq_len]\n",
    "        return torch.bmm(attention_weights.unsqueeze(1), lstm_outputs).squeeze(1)"
   ]
  },
  {
   "cell_type": "markdown",
   "metadata": {
    "id": "4hFIZnmUaFAu",
    "pycharm": {
     "name": "#%% md\n"
    }
   },
   "source": [
    "***BiLinear Attention Layer***"
   ]
  },
  {
   "cell_type": "code",
   "execution_count": 95,
   "metadata": {
    "id": "JZGOH3IhaEZw",
    "pycharm": {
     "name": "#%%\n"
    }
   },
   "outputs": [],
   "source": [
    "class BiLinearAttentionLayer(nn.Module):\n",
    "    \n",
    "    def __init__(self, context_hidden_size: int, question_hidden_size: int):\n",
    "        \"\"\"\n",
    "        At the paragraph level, the goal is to predict the span of tokens that is most likely the correct answer.\n",
    "        We take the paragraph vectors $\\{p_1, ... , p_m\\}$ and the question vector $q$ as input, and simply train two\n",
    "        classifiers independently for predicting the two ends of the span.\n",
    "        Concretely, we use a bi-linear term to capture the similarity between $p_i$ and $q$ and compute the\n",
    "        probabilities of each token being start and end as:\n",
    "        $$\n",
    "        P_{start}(i) \\propto exp(p_i W_s q) \\\\\n",
    "        P_{end}(i) \\propto exp(p_i W_e q)\n",
    "        $$\n",
    "\n",
    "        :param context_hidden_size:\n",
    "        :param question_hidden_size:\n",
    "        \"\"\"\n",
    "        super(BiLinearAttentionLayer, self).__init__()\n",
    "        self.context_hidden_size = context_hidden_size\n",
    "        self.question_hidden_size = question_hidden_size\n",
    "\n",
    "        self.dense = nn.Linear(in_features=question_hidden_size, out_features=context_hidden_size, bias=False)\n",
    "\n",
    "    def forward(self, context_encoded: Tensor, question_encoded: Tensor, context_mask: Tensor) -> Tensor:\n",
    "        \"\"\"\n",
    "        :param context_encoded: FloatTensor[batch_size, ctx_seq_len, ctx_hid_size]\n",
    "        :param question_encoded: FloatTensor[batch_size, qst_seq_len]\n",
    "        :param context_mask: IntTensor[batch_size, ctx_seq_len]\n",
    "        :return FloatTensor[batch_size, ctx_seq_len]\n",
    "        \"\"\"\n",
    "        question_encoded = self.dense(question_encoded)  # [batch_size, ctx_hid_size]\n",
    "        scores = torch.bmm(context_encoded, question_encoded.unsqueeze(-1)).squeeze(-1)  # [batch_size, ctx_seq_len]\n",
    "        return scores.masked_fill(context_mask == 0, float(\"-inf\"))"
   ]
  },
  {
   "cell_type": "markdown",
   "metadata": {
    "id": "tzrmk6D7agHH",
    "pycharm": {
     "name": "#%% md\n"
    }
   },
   "source": [
    "***Document reader Question Answering Model***"
   ]
  },
  {
   "cell_type": "code",
   "execution_count": 96,
   "metadata": {
    "id": "qlZlTFXOae_o",
    "pycharm": {
     "name": "#%%\n"
    }
   },
   "outputs": [],
   "source": [
    "class BaseModel(nn.Module):\n",
    "\n",
    "    def __init__(self):\n",
    "        super(BaseModel, self).__init__()\n",
    "\n",
    "    def make_sequence_mask(self, input_sequence: Tensor) -> Tensor:\n",
    "        return input_sequence != self.padding_index\n",
    "\n",
    "    @staticmethod\n",
    "    def decode(starts: Tensor, ends: Tensor) -> Tuple[List[int], List[int], List[float]]:\n",
    "        \"\"\"\n",
    "        :param starts: FloatTensor[batch_size, ctx_seq_len]\n",
    "        :param ends: FloatTensor[batch_size, ctx_seq_len]\n",
    "        :return: Tuple[List[int], List[int], List[float]]\n",
    "        \"\"\"\n",
    "        start_indexes, end_indexes, predicted_probabilities = [], [], []\n",
    "        for i in range(starts.size(0)):\n",
    "            probabilities = torch.ger(starts[i], ends[i])  # [ctx_seq_len, ctx_seq_len]\n",
    "            probability, index = torch.topk(probabilities.view(-1), k=1)\n",
    "\n",
    "            start_indexes.append(index.tolist()[0] // probabilities.size(0))\n",
    "            end_indexes.append(index.tolist()[0] % probabilities.size(1))\n",
    "\n",
    "            predicted_probabilities.append(probability.tolist()[0])\n",
    "\n",
    "        return start_indexes, end_indexes, predicted_probabilities\n",
    "\n",
    "    def count_parameters(self) -> int:\n",
    "        return sum(parameter.numel() for parameter in self.parameters() if parameter.requires_grad)\n",
    "\n",
    "\n",
    "class DrQA(BaseModel):\n",
    "    \n",
    "    def __init__(self, vocabulary_size: int, embedding_size, n_extra_features: int, hidden_size: int, n_layers: int,\n",
    "                 dropout: float, padding_index: int):\n",
    "        \"\"\"\n",
    "        During prediction, we choose the best span from token $i$ to token $i'$ such that $i ≤ i' ≤ i + 15$ and\n",
    "        $P_{start}(i)×P_{end}(i')$ is maximized. To make score compatible across paragraphs in one or several retrieved\n",
    "        documents, we use the un-normalized exponential and take argmax over all considered paragraph spans for our\n",
    "        final prediction.\n",
    "\n",
    "        :param vocabulary_size:\n",
    "        :param embedding_size:\n",
    "        :param n_extra_features:\n",
    "        :param hidden_size:\n",
    "        :param n_layers:\n",
    "        :param dropout:\n",
    "        :param padding_index:\n",
    "        \"\"\"\n",
    "        super(DrQA, self).__init__()\n",
    "        self.vocabulary_size = vocabulary_size\n",
    "        self.embedding_size = embedding_size\n",
    "        self.n_extra_features = n_extra_features\n",
    "        self.hidden_size = hidden_size\n",
    "        self.n_layers = n_layers\n",
    "        self.dropout = nn.Dropout(p=dropout)\n",
    "        self.padding_index = padding_index\n",
    "\n",
    "        self.embedding_layer = nn.Embedding(\n",
    "            num_embeddings=vocabulary_size,\n",
    "            embedding_dim=embedding_size,\n",
    "            padding_idx=padding_index\n",
    "        )\n",
    "        self.aligned_question_embedding_layer = AlignedQuestionEmbeddingLayer(\n",
    "            embedding_size=embedding_size,\n",
    "            hidden_size=hidden_size\n",
    "        )\n",
    "        self.context_lstm_layer = StackedBiLSTMsLayer(\n",
    "            embedding_size=embedding_size + hidden_size + n_extra_features,\n",
    "            hidden_size=hidden_size,\n",
    "            n_layers=n_layers,\n",
    "            dropout=dropout\n",
    "        )\n",
    "        self.question_encoding_layer = QuestionEncodingLayer(\n",
    "            embedding_size=embedding_size,\n",
    "            hidden_size=hidden_size,\n",
    "            dropout=dropout,\n",
    "            n_layers=n_layers\n",
    "        )\n",
    "        self.bilinear_attention_start_layer = BiLinearAttentionLayer(\n",
    "            context_hidden_size=hidden_size * n_layers * 2,\n",
    "            question_hidden_size=hidden_size * n_layers * 2\n",
    "        )\n",
    "        self.bilinear_attention_end_layer = BiLinearAttentionLayer(\n",
    "            context_hidden_size=hidden_size * n_layers * 2,\n",
    "            question_hidden_size=hidden_size * n_layers * 2\n",
    "        )\n",
    "\n",
    "    def forward(self, batch: DrQATensorDatasetBatch) -> Tuple[Tensor, Tensor]:\n",
    "        \"\"\"\n",
    "        :param batch: DrQATensorDatasetBatch\n",
    "        :return: Tuple[FloatTensor[batch_size, ctx_seq_len], FloatTensor[batch_size, ctx_seq_len]]\n",
    "        \"\"\"\n",
    "        context_sequence = batch.context[0]  # [batch_size, ctx_seq_len]\n",
    "        context_lengths = batch.context[1]  # [batch_size,]\n",
    "        question_sequence = batch.question[0]  # [batch_size, qst_seq_len]\n",
    "        question_lengths = batch.question[1]  # [batch_size,]\n",
    "        exact_matches = batch.exact_match  # [batch_size, ctx_seq_len]\n",
    "        part_of_speeches = batch.part_of_speech  # [batch_size, ctx_seq_len]\n",
    "        named_entity_types = batch.named_entity_type  # [batch_size, ctx_seq_len]\n",
    "        normalized_term_frequencies = batch.normalized_term_frequency  # [batch_size, ctx_seq_len]\n",
    "\n",
    "        context_mask = self.make_sequence_mask(input_sequence=context_sequence)  # [batch_size, ctx_seq_len]\n",
    "        question_mask = self.make_sequence_mask(input_sequence=question_sequence)  # [batch_size, qst_seq_len]\n",
    "\n",
    "        context_embedded = self.embedding_layer(context_sequence)  # [batch_size, ctx_seq_len, embedding_size]\n",
    "        question_embedded = self.embedding_layer(question_sequence)  # [batch_size, qst_seq_len, embedding_size]\n",
    "\n",
    "        context_aligned = self.aligned_question_embedding_layer(\n",
    "            context_sequence=context_embedded,\n",
    "            question_sequence=question_embedded,\n",
    "            question_mask=question_mask\n",
    "        )  # [batch_size, ctx_len, embedding_size]\n",
    "\n",
    "        context_inputs = torch.cat([\n",
    "            context_aligned, context_embedded, exact_matches.unsqueeze(-1), part_of_speeches.unsqueeze(-1),\n",
    "            named_entity_types.unsqueeze(-1), normalized_term_frequencies.unsqueeze(-1)\n",
    "        ], dim=-1)  # [batch_size, ctx_seq_len, embedding_size + hidden_size + 4]\n",
    "\n",
    "        context_encoded = self.context_lstm_layer(\n",
    "            embedded_inputs=context_inputs,\n",
    "            sequence_lengths=context_lengths\n",
    "        )  # [batch_size, ctx_seq_len, n_layers * hidden_size * 2]\n",
    "        question_encoded = self.question_encoding_layer(\n",
    "            question_embedded=question_embedded,\n",
    "            question_lengths=question_lengths,\n",
    "            question_mask=question_mask\n",
    "        )  # [batch_size, n_layers * hidden_size * 2]\n",
    "\n",
    "        start_scores = self.bilinear_attention_start_layer(\n",
    "            context_encoded=context_encoded,\n",
    "            question_encoded=question_encoded,\n",
    "            context_mask=context_mask\n",
    "        )  # [batch_size, ctx_seq_len]\n",
    "        end_scores = self.bilinear_attention_end_layer(\n",
    "            context_encoded=context_encoded,\n",
    "            question_encoded=question_encoded,\n",
    "            context_mask=context_mask\n",
    "        )  # [batch_size, ctx_seq_len]\n",
    "        return start_scores, end_scores"
   ]
  },
  {
   "cell_type": "markdown",
   "metadata": {
    "id": "x575iXlz3w4m",
    "pycharm": {
     "name": "#%% md\n"
    }
   },
   "source": [
    "***Training routines***"
   ]
  },
  {
   "cell_type": "code",
   "execution_count": 97,
   "metadata": {
    "id": "31k5BZf43uV4",
    "pycharm": {
     "name": "#%%\n"
    }
   },
   "outputs": [],
   "source": [
    "class AverageMeter:\n",
    "    # TODO\n",
    "    #  Add typing\n",
    "\n",
    "    def __init__(self):\n",
    "        self.value = 0.\n",
    "        self.sum = 0.\n",
    "        self.count = 0\n",
    "        self.average = 0.\n",
    "\n",
    "    def reset(self):\n",
    "        self.value = 0.\n",
    "        self.sum = 0.\n",
    "        self.count = 0\n",
    "        self.average = 0.\n",
    "\n",
    "    def update(self, value, n=1):\n",
    "        self.value = value\n",
    "        self.sum += value * n\n",
    "        self.count += n\n",
    "        self.average = self.sum / self.count"
   ]
  },
  {
   "cell_type": "code",
   "execution_count": 98,
   "metadata": {
    "id": "qSmh2GmU4KXH",
    "pycharm": {
     "name": "#%%\n"
    }
   },
   "outputs": [],
   "source": [
    "def normalize(answer: str) -> str:\n",
    "    \"\"\"Performs a series of cleaning steps on the ground truth and predicted answer.\"\"\"\n",
    "\n",
    "    def remove_articles(text):\n",
    "        return re.sub(r'\\b(a|an|the)\\b', ' ', text)\n",
    "\n",
    "    def white_space_fix(text):\n",
    "        return ' '.join(text.split())\n",
    "\n",
    "    def remove_punc(text):\n",
    "        return ''.join(ch for ch in text if ch not in set(string.punctuation))\n",
    "\n",
    "    def lower(text):\n",
    "        return text.lower()\n",
    "\n",
    "    return white_space_fix(remove_articles(remove_punc(lower(answer))))"
   ]
  },
  {
   "cell_type": "code",
   "execution_count": 99,
   "metadata": {
    "id": "hi2JHYTX6F6A",
    "pycharm": {
     "name": "#%%\n"
    }
   },
   "outputs": [],
   "source": [
    "def get_scores(prediction: str, ground_truth: str) -> Tuple[float, float]:\n",
    "    prediction, ground_truth = normalize(prediction), normalize(ground_truth)\n",
    "    prediction_tokens, ground_truth_tokens = prediction.split(), ground_truth.split()\n",
    "\n",
    "    common = collections.Counter(prediction_tokens) & collections.Counter(ground_truth_tokens)\n",
    "    number_same = sum(common.values())\n",
    "    f1_score = 0\n",
    "    if number_same != 0:\n",
    "        precision = 1.0 * number_same / len(prediction_tokens)\n",
    "        recall = 1.0 * number_same / len(ground_truth_tokens)\n",
    "        f1_score = (2 * precision * recall) / (precision + recall)\n",
    "\n",
    "    return prediction == ground_truth, f1_score"
   ]
  },
  {
   "cell_type": "code",
   "execution_count": 100,
   "metadata": {
    "id": "tv9kxaI34_Oo",
    "pycharm": {
     "name": "#%%\n"
    }
   },
   "outputs": [],
   "source": [
    "def max_metrics_over_ground_truths(prediction: str, ground_truths: List[str]) -> Tuple[float, float]:\n",
    "    scores = [get_scores(prediction, ground_truth) for ground_truth in ground_truths]\n",
    "    em_score = max(scores, key=lambda score: score[0])[0]\n",
    "    f1_score = max(scores, key=lambda score: score[1])[1]\n",
    "    return em_score, f1_score"
   ]
  },
  {
   "cell_type": "code",
   "execution_count": 101,
   "metadata": {
    "id": "KmxMG01B5JEx",
    "pycharm": {
     "name": "#%%\n"
    }
   },
   "outputs": [],
   "source": [
    "def metrics(predictions: Dict[str, str], qas: List[RawDatasetItem]) -> Tuple[float, float]:\n",
    "    ground_truths = collections.defaultdict(lambda: [])\n",
    "    for qa in qas:\n",
    "        if qa.id_ in predictions:\n",
    "            ground_truths[qa.id_].append(qa.answer.text)\n",
    "\n",
    "    em_scores, f1_scores, total = [], [], 0\n",
    "    for id_ in predictions:\n",
    "        em_score, f1_score = max_metrics_over_ground_truths(predictions[id_], ground_truths[id_])\n",
    "        em_scores.append(em_score)\n",
    "        f1_scores.append(f1_score)\n",
    "        total += 1\n",
    "\n",
    "    em_score = 100.0 * sum(em_scores) / total\n",
    "    f1_score = 100.0 * sum(f1_scores) / total\n",
    "    return em_score, f1_score"
   ]
  },
  {
   "cell_type": "code",
   "execution_count": 102,
   "metadata": {
    "id": "GHUdYB6f-NRJ",
    "pycharm": {
     "name": "#%%\n"
    }
   },
   "outputs": [],
   "source": [
    "class Trainer:\n",
    "\n",
    "    def __init__(self, model: nn.Module, optimizer: optim.Optimizer, criterion: nn.Module, id_vocab: Vocabulary,\n",
    "                 text_vocab: Vocabulary, model_path: str):\n",
    "        self.model = model\n",
    "        self.optimizer = optimizer\n",
    "        self.criterion = criterion\n",
    "        self.id_vocab = id_vocab\n",
    "        self.text_vocab = text_vocab\n",
    "        self.model_path = model_path\n",
    "\n",
    "    def train_step(self, loader: DataLoader, epoch: int, gradient_clipping: float) -> float:\n",
    "        tracker = AverageMeter()\n",
    "        self.model.train()\n",
    "        pbar = tqdm.tqdm(enumerate(loader), total=len(loader))\n",
    "        for index, batch in pbar:  # type: int, DrQATensorDatasetBatch\n",
    "            self.optimizer.zero_grad()\n",
    "            starts, ends = self.model(batch)  # [batch_size, ctx_len]\n",
    "            loss = self.criterion(starts, batch.target[:, 0]) + self.criterion(ends, batch.target[:, 1])\n",
    "            loss.backward()\n",
    "            nn.utils.clip_grad_norm_(parameters=self.model.parameters(), max_norm=gradient_clipping)\n",
    "            self.optimizer.step()\n",
    "            tracker.update(loss.item())\n",
    "            pbar.set_description(f\"Epoch: {epoch + 1:02d} -     loss: {tracker.average:.3f}\")\n",
    "        return tracker.average\n",
    "\n",
    "    def validate(self, loader: DataLoader, epoch: int) -> Tuple[float, Dict]:\n",
    "        tracker, predictions = AverageMeter(), {}\n",
    "        self.model.eval()\n",
    "        with torch.no_grad():\n",
    "            pbar = tqdm.tqdm(enumerate(loader), total=len(loader))\n",
    "            for _, batch in pbar:  # type: int, DrQATensorDatasetBatch\n",
    "                starts, ends = self.model(batch)  # [batch_size, ctx_len]\n",
    "                loss = self.criterion(starts, batch.target[:, 0]) + self.criterion(ends, batch.target[:, 1])\n",
    "                start_indexes, end_indexes, _ = self.model.decode(\n",
    "                    starts=F.softmax(starts, dim=-1),\n",
    "                    ends=F.softmax(ends, dim=-1)\n",
    "                )\n",
    "                for index in range(starts.size(0)):\n",
    "                    id_ = self.id_vocab.itos(batch.id_[index].item())\n",
    "                    prediction = batch.context[0][index][start_indexes[index]:end_indexes[index] + 1]\n",
    "                    predictions[id_] = ' '.join([self.text_vocab.itos(ind.item()) for ind in prediction])\n",
    "\n",
    "                tracker.update(loss.item())\n",
    "                pbar.set_description(f\"Epoch: {epoch + 1:02d} - valid_loss: {tracker.average:.3f}\")\n",
    "        return tracker.average, predictions\n",
    "\n",
    "    def train(self, train_loader: DataLoader, valid_loader: DataLoader, n_epochs: int, gradient_clipping: float) \\\n",
    "            -> Dict[str, List[float]]:\n",
    "        history, best_loss = {\"loss\": [], \"valid_loss\": [], \"exact_match\": [], \"f1\": []}, float('inf')\n",
    "        for epoch in range(n_epochs):\n",
    "            loss = self.train_step(loader=train_loader, epoch=epoch, gradient_clipping=gradient_clipping)\n",
    "            valid_loss, predictions = self.validate(loader=valid_loader, epoch=epoch)\n",
    "\n",
    "            history[\"loss\"].append(loss)\n",
    "            history[\"valid_loss\"].append(valid_loss)\n",
    "\n",
    "        return history"
   ]
  },
  {
   "cell_type": "markdown",
   "metadata": {
    "id": "kFzM-vWUAov9",
    "pycharm": {
     "name": "#%% md\n"
    }
   },
   "source": [
    "***Train the model***"
   ]
  },
  {
   "cell_type": "code",
   "execution_count": 106,
   "metadata": {
    "id": "-YCmJQLhAlqo",
    "pycharm": {
     "name": "#%%\n"
    }
   },
   "outputs": [],
   "source": [
    "N_LAYERS = 3\n",
    "EMBED_SIZE = 300\n",
    "HIDDEN_SIZE = 128\n",
    "DROPOUT = 0.3\n",
    "N_EPOCHS = 5\n",
    "GRAD_CLIP = 1.0\n",
    "LEARNING_RATE = 0.01"
   ]
  },
  {
   "cell_type": "code",
   "execution_count": 107,
   "metadata": {
    "colab": {
     "base_uri": "https://localhost:8080/"
    },
    "id": "ersGVmFxBwAV",
    "outputId": "f5c11bc4-a4bb-49cb-8fc1-c472323ec253",
    "pycharm": {
     "name": "#%%\n"
    }
   },
   "outputs": [
    {
     "name": "stdout",
     "output_type": "stream",
     "text": [
      "Number of parameters of the model: 16,623,708\n",
      "DrQA(\n",
      "  (dropout): Dropout(p=0.3, inplace=False)\n",
      "  (embedding_layer): Embedding(26884, 300, padding_idx=0)\n",
      "  (aligned_question_embedding_layer): AlignedQuestionEmbeddingLayer(\n",
      "    (dense): Linear(in_features=300, out_features=128, bias=True)\n",
      "  )\n",
      "  (context_lstm_layer): StackedBiLSTMsLayer(\n",
      "    (dropout): Dropout(p=0.3, inplace=False)\n",
      "    (lstm_layers): ModuleList(\n",
      "      (0): LSTM(432, 128, num_layers=3, batch_first=True, bidirectional=True)\n",
      "      (1): LSTM(256, 128, num_layers=3, batch_first=True, bidirectional=True)\n",
      "      (2): LSTM(256, 128, num_layers=3, batch_first=True, bidirectional=True)\n",
      "    )\n",
      "  )\n",
      "  (question_encoding_layer): QuestionEncodingLayer(\n",
      "    (dropout): Dropout(p=0.3, inplace=False)\n",
      "    (stacked_bilstm_layers): StackedBiLSTMsLayer(\n",
      "      (dropout): Dropout(p=0.3, inplace=False)\n",
      "      (lstm_layers): ModuleList(\n",
      "        (0): LSTM(300, 128, num_layers=3, batch_first=True, bidirectional=True)\n",
      "        (1): LSTM(256, 128, num_layers=3, batch_first=True, bidirectional=True)\n",
      "        (2): LSTM(256, 128, num_layers=3, batch_first=True, bidirectional=True)\n",
      "      )\n",
      "    )\n",
      "    (dense): Linear(in_features=300, out_features=1, bias=False)\n",
      "  )\n",
      "  (bilinear_attention_start_layer): BiLinearAttentionLayer(\n",
      "    (dense): Linear(in_features=768, out_features=768, bias=False)\n",
      "  )\n",
      "  (bilinear_attention_end_layer): BiLinearAttentionLayer(\n",
      "    (dense): Linear(in_features=768, out_features=768, bias=False)\n",
      "  )\n",
      ")\n"
     ]
    }
   ],
   "source": [
    "padding_token_index = text_vocabulary.stoi(word=text_vocabulary.padding_token)\n",
    "model = DrQA(\n",
    "    vocabulary_size=len(text_vocabulary),\n",
    "    embedding_size=EMBED_SIZE,\n",
    "    n_extra_features=4,\n",
    "    hidden_size=HIDDEN_SIZE,\n",
    "    n_layers=N_LAYERS,\n",
    "    dropout=DROPOUT,\n",
    "    padding_index=padding_token_index\n",
    ").to(device=DEVICE)\n",
    "# model.load_glove_embeddings('./data/GloVe_DrQA.npy', most_common_indexes, tune=True)\n",
    "optimizer = optim.Adamax(params=model.parameters(), lr=LEARNING_RATE)\n",
    "criterion = nn.CrossEntropyLoss(ignore_index=padding_token_index)\n",
    "print(f'Number of parameters of the model: {sum(p.numel() for p in model.parameters() if p.requires_grad):,}')\n",
    "print(model)\n",
    "trainer = Trainer(\n",
    "    model=model,\n",
    "    optimizer=optimizer,\n",
    "    criterion=criterion,\n",
    "    id_vocab=id_vocabulary,\n",
    "    text_vocab=text_vocabulary,\n",
    "    model_path=\"./checkpoints/drqa.pth\"\n",
    ")"
   ]
  },
  {
   "cell_type": "code",
   "execution_count": 109,
   "metadata": {
    "colab": {
     "base_uri": "https://localhost:8080/"
    },
    "id": "giP1Ov5_DTGr",
    "outputId": "aa776c3f-80f1-4c9f-9abb-37e38eb2841c",
    "pycharm": {
     "name": "#%%\n"
    }
   },
   "outputs": [
    {
     "name": "stderr",
     "output_type": "stream",
     "text": [
      "Epoch: 01 -     loss: 5.463: 100%|██████████| 2709/2709 [09:32<00:00,  4.73it/s]\n",
      "Epoch: 01 - valid_loss: 4.579: 100%|██████████| 1074/1074 [02:00<00:00,  8.93it/s]\n",
      "Epoch: 02 -     loss: 4.387: 100%|██████████| 2709/2709 [09:08<00:00,  4.94it/s]\n",
      "Epoch: 02 - valid_loss: 4.266: 100%|██████████| 1074/1074 [01:46<00:00, 10.07it/s]\n",
      "Epoch: 03 -     loss: 4.021: 100%|██████████| 2709/2709 [09:21<00:00,  4.83it/s]\n",
      "Epoch: 03 - valid_loss: 4.125: 100%|██████████| 1074/1074 [01:43<00:00, 10.38it/s]\n",
      "Epoch: 04 -     loss: 3.783: 100%|██████████| 2709/2709 [09:15<00:00,  4.87it/s]\n",
      "Epoch: 04 - valid_loss: 4.011: 100%|██████████| 1074/1074 [01:42<00:00, 10.53it/s]\n",
      "Epoch: 05 -     loss: 3.613: 100%|██████████| 2709/2709 [18:50<00:00,  2.40it/s]    \n",
      "Epoch: 05 - valid_loss: 4.006: 100%|██████████| 1074/1074 [01:52<00:00,  9.53it/s]\n"
     ]
    }
   ],
   "source": [
    "!mkdir -p ./checkpoints\n",
    "history = trainer.train(\n",
    "    train_loader=train_dataloader,\n",
    "    valid_loader=valid_dataloader,\n",
    "    n_epochs=N_EPOCHS,\n",
    "    gradient_clipping=GRAD_CLIP\n",
    ")"
   ]
  },
  {
   "cell_type": "code",
   "execution_count": 110,
   "metadata": {
    "colab": {
     "base_uri": "https://localhost:8080/",
     "height": 350
    },
    "id": "8C-bSJpY-qZM",
    "outputId": "db26fdee-279c-4fe8-b5d6-7f26a8587271",
    "pycharm": {
     "name": "#%%\n"
    }
   },
   "outputs": [
    {
     "data": {
      "image/png": "[encoded data removed]",
      "text/plain": [
       "<Figure size 1500x500 with 3 Axes>"
      ]
     },
     "metadata": {},
     "output_type": "display_data"
    }
   ],
   "source": [
    "_, axes = plt.subplots(1, 3, figsize=(15, 5))\n",
    "\n",
    "axes[0].plot(history['loss'], label='train')\n",
    "axes[0].plot(history['valid_loss'], label='valid')\n",
    "axes[0].set_title('Loss history')\n",
    "axes[0].set_xlabel('Epoch')\n",
    "axes[0].set_ylabel('Loss')\n",
    "axes[0].grid(True)\n",
    "axes[0].legend()\n",
    "\n",
    "# axes[1].plot(history['em'], label='valid')\n",
    "# axes[1].set_title('Exact match history')\n",
    "# axes[1].set_xlabel('Epoch')\n",
    "# axes[1].set_ylabel('Exact match (%)')\n",
    "# axes[1].grid(True)\n",
    "# axes[1].legend()\n",
    "\n",
    "# axes[2].plot(history['f1'], label='valid')\n",
    "# axes[2].set_title('F1 history')\n",
    "# axes[2].set_xlabel('Epoch')\n",
    "# axes[2].set_ylabel('F1 (%)')\n",
    "# axes[2].grid(True)\n",
    "# axes[2].legend()\n",
    "\n",
    "plt.show()"
   ]
  },
  {
   "cell_type": "markdown",
   "metadata": {
    "id": "Z_99dtAVn5CL",
    "pycharm": {
     "name": "#%% md\n"
    }
   },
   "source": [
    "***Inference***"
   ]
  },
  {
   "cell_type": "code",
   "execution_count": 113,
   "metadata": {
    "colab": {
     "base_uri": "https://localhost:8080/"
    },
    "id": "Gk9dSwSR_OM9",
    "outputId": "dfc3f33a-a716-44fd-ae2d-3ce5fdaa745f",
    "pycharm": {
     "name": "#%%\n"
    }
   },
   "outputs": [],
   "source": [
    "# model.load_state_dict(torch.load(\"./checkpoints/drqa.pth\"))\n",
    "# model.to(DEVICE)"
   ]
  },
  {
   "cell_type": "code",
   "execution_count": 121,
   "metadata": {
    "id": "p1CVgakLDtsU",
    "pycharm": {
     "name": "#%%\n"
    }
   },
   "outputs": [],
   "source": [
    "def inference(model: nn.Module, context: spacy.tokens.doc.Doc, question: spacy.tokens.doc.Doc,\n",
    "              text_vocab: Vocabulary, pos_vocab: Vocabulary, ner_vocab: Vocabulary, device: torch.device):\n",
    "    # Build extra features\n",
    "    question = [token.text.lower() for token in question]\n",
    "    counts = collections.Counter(map(lambda token: token.text.lower(), context))\n",
    "    freqs = {index: counts[token.text.lower()] for index, token in enumerate(context)}\n",
    "    freqs_norm = sum(freqs.values())\n",
    "    em, pos, ner, ntf = zip(\n",
    "        *map(lambda index: [\n",
    "            context[index].text.lower() in question, context[index].tag_,\n",
    "            context[index].ent_type_ or 'None',\n",
    "            freqs[index] / freqs_norm\n",
    "        ], range(len(context)))\n",
    "    )\n",
    "\n",
    "    # Build tensors\n",
    "    batch = DrQATensorDatasetBatch(\n",
    "        id_=None,\n",
    "        context=(\n",
    "            torch.LongTensor([*map(lambda word: text_vocab.stoi(word), context)]).unsqueeze(0).to(device),\n",
    "            torch.LongTensor([len(context)])\n",
    "        ), question=(\n",
    "            torch.LongTensor([*map(lambda word: text_vocab.stoi(word), question)]).unsqueeze(0).to(device),\n",
    "            torch.LongTensor([len(question)])\n",
    "        ), target=None,\n",
    "        exact_match=torch.LongTensor(em).unsqueeze(0).to(device),\n",
    "        part_of_speech=torch.LongTensor([*map(lambda x: pos_vocab.stoi(x), pos)]).unsqueeze(0).to(device),\n",
    "        named_entity_type=torch.LongTensor([*map(lambda x: ner_vocab.stoi(x), ner)]).unsqueeze(0).to(device),\n",
    "        normalized_term_frequency=torch.LongTensor(ntf).unsqueeze(0).to(device)\n",
    "    )\n",
    "\n",
    "    # Prediction\n",
    "    model.eval()\n",
    "    with torch.no_grad():\n",
    "        # Feed the model\n",
    "        start, end = model(batch)\n",
    "    \n",
    "        # Decode the result indexes\n",
    "        start_index, end_index, proba = model.decode(starts=F.softmax(start, dim=-1), ends=F.softmax(end, dim=-1))\n",
    "\n",
    "        # Extract the answer\n",
    "        answer = context[start_index[0]:end_index[0] + 1]\n",
    "\n",
    "    return answer, proba[0]"
   ]
  },
  {
   "cell_type": "code",
   "execution_count": 122,
   "metadata": {
    "colab": {
     "base_uri": "https://localhost:8080/",
     "height": 1000
    },
    "id": "dI-ME2Q1-WzB",
    "outputId": "7ddd80ef-e885-476d-a8e7-32e1a031417b",
    "pycharm": {
     "name": "#%%\n"
    }
   },
   "outputs": [
    {
     "data": {
      "text/html": [
       "<p><span><b>Context:</b> The first direct elections for native Kenyans to the Legislative Council took place in 1957. Despite British hopes of handing power to \"moderate\" local rivals, it was the Kenya African National Union (KANU) of Jomo Kenyatta that formed a government. The Colony of Kenya and the Protectorate of Kenya each came to an end on 12 December 1963 with independence being conferred on all of Kenya. The United Kingdom ceded sovereignty over the Colony of Kenya and, under an agreement dated 8 October 1963, the Sultan of Zanzibar agreed that simultaneous with independence for the Colony of Kenya, the Sultan would cease to have sovereignty over the Protectorate of Kenya so that all of Kenya would be one sovereign, independent state. In this way, Kenya became an independent country under the Kenya Independence Act 1963 of the United Kingdom. Exactly 12 months later on 12 December 1964, Kenya became a republic under the name \"Republic of Kenya\".</span><br /><span><b>Question:</b> What did Kenya name itself on December 12, 1964? </span><br /><span style=\"color:blue\"><b>Possible answers:</b><br /><ul><li style=\"color:blue\">Republic of Kenya</li><li style=\"color:blue\">Republic of Kenya</li><li style=\"color:blue\">Republic of Kenya</li></ul></span><br /><span style=\"color:green\"><b>Prediction:</b> 1963 with independence being conferred on all of Kenya. The United Kingdom ceded sovereignty over the Colony of Kenya and, under an agreement dated 8 October 1963, the Sultan of Zanzibar agreed that simultaneous with independence for the Colony of Kenya, the Sultan would cease to have sovereignty over the Protectorate of Kenya so that all of Kenya would be one sovereign, independent state. In this way, Kenya became an independent country under the Kenya Independence Act 1963 of the United Kingdom. Exactly 12 months later on 12 December 1964, Kenya became a republic under the name \"Republic of Kenya\".</span><br /><span style=\"color:green\"><b>Probability:</b> 1.583%</span><br />"
      ],
      "text/plain": [
       "<IPython.core.display.HTML object>"
      ]
     },
     "metadata": {},
     "output_type": "display_data"
    },
    {
     "name": "stdout",
     "output_type": "stream",
     "text": [
      "====================================================================================================\n"
     ]
    },
    {
     "data": {
      "text/html": [
       "<p><span><b>Context:</b> The most basic method of checking the primality of a given integer n is called trial division. This routine consists of dividing n by each integer m that is greater than 1 and less than or equal to the square root of n. If the result of any of these divisions is an integer, then n is not a prime, otherwise it is a prime. Indeed, if  is composite (with a and b ≠ 1) then one of the factors a or b is necessarily at most . For example, for , the trial divisions are by m = 2, 3, 4, 5, and 6. None of these numbers divides 37, so 37 is prime. This routine can be implemented more efficiently if a complete list of primes up to  is known—then trial divisions need to be checked only for those m that are prime. For example, to check the primality of 37, only three divisions are necessary (m = 2, 3, and 5), given that 4 and 6 are composite.</span><br /><span><b>Question:</b> What must the integer m be less than or equal to when performing trial division?</span><br /><span style=\"color:blue\"><b>Possible answers:</b><br /><ul><li style=\"color:blue\">the square root of n.</li><li style=\"color:blue\">the square root of n.</li></ul></span><br /><span style=\"color:green\"><b>Prediction:</b> </span><br /><span style=\"color:green\"><b>Probability:</b> 1.053%</span><br />"
      ],
      "text/plain": [
       "<IPython.core.display.HTML object>"
      ]
     },
     "metadata": {},
     "output_type": "display_data"
    },
    {
     "name": "stdout",
     "output_type": "stream",
     "text": [
      "====================================================================================================\n"
     ]
    },
    {
     "data": {
      "text/html": [
       "<p><span><b>Context:</b> However, in 1883–84 Germany began to build a colonial empire in Africa and the South Pacific, before losing interest in imperialism. Historians have debated exactly why Germany made this sudden and short-lived move.[verification needed] Bismarck was aware that public opinion had started to demand colonies for reasons of German prestige. He was influenced by Hamburg merchants and traders, his neighbors at Friedrichsruh. The establishment of the German colonial empire proceeded smoothly, starting with German New Guinea in 1884.</span><br /><span><b>Question:</b> What was the name of the first German settlement?</span><br /><span style=\"color:blue\"><b>Possible answers:</b><br /><ul><li style=\"color:blue\">New Guinea</li><li style=\"color:blue\">German New Guinea</li><li style=\"color:blue\">German New Guinea</li><li style=\"color:blue\">German New Guinea</li><li style=\"color:blue\">German New Guinea</li></ul></span><br /><span style=\"color:green\"><b>Prediction:</b> colonial empire proceeded smoothly, starting with German New Guinea in 1884.</span><br /><span style=\"color:green\"><b>Probability:</b> 0.560%</span><br />"
      ],
      "text/plain": [
       "<IPython.core.display.HTML object>"
      ]
     },
     "metadata": {},
     "output_type": "display_data"
    },
    {
     "name": "stdout",
     "output_type": "stream",
     "text": [
      "====================================================================================================\n"
     ]
    },
    {
     "data": {
      "text/html": [
       "<p><span><b>Context:</b> The Panthers finished the regular season with a 15–1 record, and quarterback Cam Newton was named the NFL Most Valuable Player (MVP). They defeated the Arizona Cardinals 49–15 in the NFC Championship Game and advanced to their second Super Bowl appearance since the franchise was founded in 1995. The Broncos finished the regular season with a 12–4 record, and denied the New England Patriots a chance to defend their title from Super Bowl XLIX by defeating them 20–18 in the AFC Championship Game. They joined the Patriots, Dallas Cowboys, and Pittsburgh Steelers as one of four teams that have made eight appearances in the Super Bowl.</span><br /><span><b>Question:</b> Which team did not get a chance to defend their Super Bowl XLIX win in Super Bowl 50?</span><br /><span style=\"color:blue\"><b>Possible answers:</b><br /><ul><li style=\"color:blue\">New England Patriots</li><li style=\"color:blue\">the New England Patriots</li><li style=\"color:blue\">New England Patriots</li></ul></span><br /><span style=\"color:green\"><b>Prediction:</b> them 20–18 in the AFC Championship Game. They joined the Patriots, Dallas Cowboys, and Pittsburgh Steelers as one of four teams that have made eight appearances in the Super Bowl.</span><br /><span style=\"color:green\"><b>Probability:</b> 0.984%</span><br />"
      ],
      "text/plain": [
       "<IPython.core.display.HTML object>"
      ]
     },
     "metadata": {},
     "output_type": "display_data"
    },
    {
     "name": "stdout",
     "output_type": "stream",
     "text": [
      "====================================================================================================\n"
     ]
    },
    {
     "data": {
      "text/html": [
       "<p><span><b>Context:</b> Iqbal expressed fears that not only would secularism and secular nationalism weaken the spiritual foundations of Islam and Muslim society, but that India's Hindu-majority population would crowd out Muslim heritage, culture and political influence. In his travels to Egypt, Afghanistan, Palestine and Syria, he promoted ideas of greater Islamic political co-operation and unity, calling for the shedding of nationalist differences. Sir Muhammad Iqbal was elected president of the Muslim League in 1930 at its session in Allahabad as well as for the session in Lahore in 1932. In his Allahabad Address on 29 December 1930, Iqbal outlined a vision of an independent state for Muslim-majority provinces in northwestern India. This address later inspired the Pakistan movement.</span><br /><span><b>Question:</b> What did Iqbal fear would weaken the spiritual foundations of Islam and Muslim society?</span><br /><span style=\"color:blue\"><b>Possible answers:</b><br /><ul><li style=\"color:blue\">secularism and secular nationalism</li><li style=\"color:blue\">secularism and secular nationalism</li><li style=\"color:blue\">secularism</li></ul></span><br /><span style=\"color:green\"><b>Prediction:</b> </span><br /><span style=\"color:green\"><b>Probability:</b> 1.108%</span><br />"
      ],
      "text/plain": [
       "<IPython.core.display.HTML object>"
      ]
     },
     "metadata": {},
     "output_type": "display_data"
    },
    {
     "name": "stdout",
     "output_type": "stream",
     "text": [
      "====================================================================================================\n"
     ]
    },
    {
     "data": {
      "text/html": [
       "<p><span><b>Context:</b> The league announced on October 16, 2012, that the two finalists were Sun Life Stadium and Levi's Stadium. The South Florida/Miami area has previously hosted the event 10 times (tied for most with New Orleans), with the most recent one being Super Bowl XLIV in 2010. The San Francisco Bay Area last hosted in 1985 (Super Bowl XIX), held at Stanford Stadium in Stanford, California, won by the home team 49ers. The Miami bid depended on whether the stadium underwent renovations. However, on May 3, 2013, the Florida legislature refused to approve the funding plan to pay for the renovations, dealing a significant blow to Miami's chances.</span><br /><span><b>Question:</b> What date were the top two stadium choices for Super Bowl 50 announced?</span><br /><span style=\"color:blue\"><b>Possible answers:</b><br /><ul><li style=\"color:blue\">October 16, 2012</li><li style=\"color:blue\">October 16, 2012</li><li style=\"color:blue\">October 16, 2012,</li></ul></span><br /><span style=\"color:green\"><b>Prediction:</b> 2012, that the two finalists were Sun Life Stadium and Levi's Stadium. The South Florida/Miami area has previously hosted the event 10 times (tied for most with New Orleans), with the most recent one being Super Bowl XLIV in 2010. The San Francisco Bay Area last hosted in 1985 (Super Bowl XIX), held at Stanford Stadium in Stanford, California, won by the home team 49ers. The Miami bid depended on whether the stadium underwent renovations. However, on May 3, 2013, the Florida legislature refused to approve the funding plan to pay for the renovations, dealing a significant blow to Miami's chances.</span><br /><span style=\"color:green\"><b>Probability:</b> 0.594%</span><br />"
      ],
      "text/plain": [
       "<IPython.core.display.HTML object>"
      ]
     },
     "metadata": {},
     "output_type": "display_data"
    },
    {
     "name": "stdout",
     "output_type": "stream",
     "text": [
      "====================================================================================================\n"
     ]
    },
    {
     "data": {
      "text/html": [
       "<p><span><b>Context:</b> The Free Movement of Workers Regulation articles 1 to 7 set out the main provisions on equal treatment of workers. First, articles 1 to 4 generally require that workers can take up employment, conclude contracts, and not suffer discrimination compared to nationals of the member state. In a famous case, the Belgian Football Association v Bosman, a Belgian footballer named Jean-Marc Bosman claimed that he should be able to transfer from R.F.C. de Liège to USL Dunkerque when his contract finished, regardless of whether Dunkerque could afford to pay Liège the habitual transfer fees. The Court of Justice held \"the transfer rules constitute[d] an obstacle to free movement\" and were unlawful unless they could be justified in the public interest, but this was unlikely. In Groener v Minister for Education the Court of Justice accepted that a requirement to speak Gaelic to teach in a Dublin design college could be justified as part of the public policy of promoting the Irish language, but only if the measure was not disproportionate. By contrast in Angonese v Cassa di Risparmio di Bolzano SpA a bank in Bolzano, Italy, was not allowed to require Mr Angonese to have a bilingual certificate that could only be obtained in Bolzano. The Court of Justice, giving \"horizontal\" direct effect to TFEU article 45, reasoned that people from other countries would have little chance of acquiring the certificate, and because it was \"impossible to submit proof of the required linguistic knowledge by any other means\", the measure was disproportionate. Second, article 7(2) requires equal treatment in respect of tax. In Finanzamt Köln Altstadt v Schumacker the Court of Justice held that it contravened TFEU art 45 to deny tax benefits (e.g. for married couples, and social insurance expense deductions) to a man who worked in Germany, but was resident in Belgium when other German residents got the benefits. By contrast in Weigel v Finanzlandesdirektion für Vorarlberg the Court of Justice rejected Mr Weigel's claim that a re-registration charge upon bringing his car to Austria violated his right to free movement. Although the tax was \"likely to have a negative bearing on the decision of migrant workers to exercise their right to freedom of movement\", because the charge applied equally to Austrians, in absence of EU legislation on the matter it had to be regarded as justified. Third, people must receive equal treatment regarding \"social advantages\", although the Court has approved residential qualifying periods. In Hendrix v Employee Insurance Institute the Court of Justice held that a Dutch national was not entitled to continue receiving incapacity benefits when he moved to Belgium, because the benefit was \"closely linked to the socio-economic situation\" of the Netherlands. Conversely, in Geven v Land Nordrhein-Westfalen the Court of Justice held that a Dutch woman living in the Netherlands, but working between 3 and 14 hours a week in Germany, did not have a right to receive German child benefits, even though the wife of a man who worked full-time in Germany but was resident in Austria could. The general justifications for limiting free movement in TFEU article 45(3) are \"public policy, public security or public health\", and there is also a general exception in article 45(4) for \"employment in the public service\".</span><br /><span><b>Question:</b> Which Belgian footballer claimed that he should be allowed to transfer from one football club to another when his contract was fulfilled?</span><br /><span style=\"color:blue\"><b>Possible answers:</b><br /><ul><li style=\"color:blue\">Jean-Marc Bosman</li><li style=\"color:blue\">the Belgian Football Association v Bosman</li><li style=\"color:blue\">Jean-Marc Bosman</li></ul></span><br /><span style=\"color:green\"><b>Prediction:</b> named Jean-Marc Bosman claimed that he should be able to transfer from R.F.C. de Liège to USL Dunkerque when his contract finished, regardless of whether Dunkerque could afford to pay Liège the habitual transfer fees. The Court of Justice held \"the transfer rules constitute[d] an obstacle to free movement\" and were unlawful unless they could be justified in the public interest, but this was unlikely. In Groener v Minister for Education the Court of Justice accepted that a requirement to speak Gaelic to teach in a Dublin design college could be justified as part of the public policy of promoting the Irish language, but only if the measure was not disproportionate. By contrast in Angonese v Cassa di Risparmio di Bolzano SpA a bank in Bolzano, Italy, was not allowed to require Mr Angonese to have a bilingual certificate that could only be obtained in Bolzano. The Court of Justice, giving \"horizontal\" direct effect to TFEU article 45, reasoned that people from other countries would have little chance of acquiring the certificate, and because it was \"impossible to submit proof of the required linguistic knowledge by any other means\", the measure was disproportionate. Second, article 7(2) requires equal treatment in respect of tax. In Finanzamt Köln Altstadt v Schumacker the Court of Justice held that it contravened TFEU art 45 to deny tax benefits (e.g. for married couples, and social insurance expense deductions) to a man who worked in Germany, but was resident in Belgium when other German residents got the benefits. By contrast in Weigel v Finanzlandesdirektion für Vorarlberg the Court of Justice rejected Mr Weigel's claim that a re-registration charge upon bringing his car to Austria violated his right to free movement. Although the tax was \"likely to have a negative bearing on the decision of migrant workers to exercise their right to freedom of movement\", because the charge applied equally to Austrians, in absence of EU legislation on the matter it had to be regarded as justified. Third, people must receive equal treatment regarding \"social advantages\", although the Court has approved residential qualifying periods. In Hendrix v Employee Insurance Institute the Court of Justice held that a Dutch national was not entitled to continue receiving incapacity benefits when he moved to Belgium, because the benefit was \"closely linked to the socio-economic situation\" of the Netherlands. Conversely, in Geven v Land Nordrhein-Westfalen the Court of Justice held that a Dutch woman living in the Netherlands, but working between 3 and 14 hours a week in Germany, did not have a right to receive German child benefits, even though the wife of a man who worked full-time in Germany but was resident in Austria could. The general justifications for limiting free movement in TFEU article 45(3) are \"public policy, public security or public health\", and there is also a general exception in article 45(4) for \"employment in the public service\".</span><br /><span style=\"color:green\"><b>Probability:</b> 0.292%</span><br />"
      ],
      "text/plain": [
       "<IPython.core.display.HTML object>"
      ]
     },
     "metadata": {},
     "output_type": "display_data"
    },
    {
     "name": "stdout",
     "output_type": "stream",
     "text": [
      "====================================================================================================\n"
     ]
    },
    {
     "data": {
      "text/html": [
       "<p><span><b>Context:</b> The acme of the horizontal engine was the Corliss steam engine, patented in 1849, which was a four-valve counter flow engine with separate steam admission and exhaust valves and automatic variable steam cutoff. When Corliss was given the Rumford medal the committee said that \"no one invention since Watt's time has so enhanced the efficiency of the steam engine\". In addition to using 30% less steam, it provided more uniform speed due to variable steam cut off, making it well suited to manufacturing, especially cotton spinning.</span><br /><span><b>Question:</b> How many valves did the Corliss engine use?</span><br /><span style=\"color:blue\"><b>Possible answers:</b><br /><ul><li style=\"color:blue\">four</li><li style=\"color:blue\">four</li><li style=\"color:blue\">four</li></ul></span><br /><span style=\"color:green\"><b>Prediction:</b> of</span><br /><span style=\"color:green\"><b>Probability:</b> 34.122%</span><br />"
      ],
      "text/plain": [
       "<IPython.core.display.HTML object>"
      ]
     },
     "metadata": {},
     "output_type": "display_data"
    },
    {
     "name": "stdout",
     "output_type": "stream",
     "text": [
      "====================================================================================================\n"
     ]
    },
    {
     "data": {
      "text/html": [
       "<p><span><b>Context:</b> A computational problem can be viewed as an infinite collection of instances together with a solution for every instance. The input string for a computational problem is referred to as a problem instance, and should not be confused with the problem itself. In computational complexity theory, a problem refers to the abstract question to be solved. In contrast, an instance of this problem is a rather concrete utterance, which can serve as the input for a decision problem. For example, consider the problem of primality testing. The instance is a number (e.g. 15) and the solution is \"yes\" if the number is prime and \"no\" otherwise (in this case \"no\"). Stated another way, the instance is a particular input to the problem, and the solution is the output corresponding to the given input.</span><br /><span><b>Question:</b> In computational complexity theory, what is the term given to describe the baseline abstract question needing to be solved? </span><br /><span style=\"color:blue\"><b>Possible answers:</b><br /><ul><li style=\"color:blue\">the problem</li><li style=\"color:blue\">a problem</li><li style=\"color:blue\">problem</li></ul></span><br /><span style=\"color:green\"><b>Prediction:</b> a problem refers to the abstract question to be solved. In contrast, an instance of this problem is a rather concrete utterance, which can serve as the input for a decision problem. For example, consider the problem of primality testing. The instance is a number (e.g. 15) and the solution is \"yes\" if the number is prime and \"no\" otherwise (in this case \"no\"). Stated another way, the instance is a particular input to the problem, and the solution is the output corresponding to the given input.</span><br /><span style=\"color:green\"><b>Probability:</b> 0.575%</span><br />"
      ],
      "text/plain": [
       "<IPython.core.display.HTML object>"
      ]
     },
     "metadata": {},
     "output_type": "display_data"
    },
    {
     "name": "stdout",
     "output_type": "stream",
     "text": [
      "====================================================================================================\n"
     ]
    },
    {
     "data": {
      "text/html": [
       "<p><span><b>Context:</b> AppleTalk was a proprietary suite of networking protocols developed by Apple Inc. in 1985 for Apple Macintosh computers. It was the primary protocol used by Apple devices through the 1980s and 90s. AppleTalk included features that allowed local area networks to be established ad hoc without the requirement for a centralized router or server. The AppleTalk system automatically assigned addresses, updated the distributed namespace, and configured any required inter-network routing. It was a plug-n-play system.</span><br /><span><b>Question:</b> This type of system is known as </span><br /><span style=\"color:blue\"><b>Possible answers:</b><br /><ul><li style=\"color:blue\">a plug-n-play system</li><li style=\"color:blue\">plug-n-play</li><li style=\"color:blue\">plug-n-play</li></ul></span><br /><span style=\"color:green\"><b>Prediction:</b> a</span><br /><span style=\"color:green\"><b>Probability:</b> 4.519%</span><br />"
      ],
      "text/plain": [
       "<IPython.core.display.HTML object>"
      ]
     },
     "metadata": {},
     "output_type": "display_data"
    },
    {
     "name": "stdout",
     "output_type": "stream",
     "text": [
      "====================================================================================================\n"
     ]
    },
    {
     "data": {
      "text/html": [
       "<p><span><b>Context:</b> In between the French and the British, large areas were dominated by native tribes. To the north, the Mi'kmaq and the Abenaki were engaged in Father Le Loutre's War and still held sway in parts of Nova Scotia, Acadia, and the eastern portions of the province of Canada, as well as much of present-day Maine. The Iroquois Confederation dominated much of present-day Upstate New York and the Ohio Country, although the latter also included Algonquian-speaking populations of Delaware and Shawnee, as well as Iroquoian-speaking Mingo. These tribes were formally under Iroquois rule, and were limited by them in authority to make agreements.</span><br /><span><b>Question:</b> In between French and British, what groups controlled land?</span><br /><span style=\"color:blue\"><b>Possible answers:</b><br /><ul><li style=\"color:blue\">native tribes</li><li style=\"color:blue\">native tribes</li><li style=\"color:blue\">native tribes</li><li style=\"color:blue\">native tribes</li><li style=\"color:blue\">native tribes</li></ul></span><br /><span style=\"color:green\"><b>Prediction:</b> large areas were dominated by native tribes. To the north, the Mi'kmaq and the Abenaki were engaged in Father Le Loutre's War and still held sway in parts of Nova Scotia, Acadia, and the eastern portions of the province of Canada, as well as much of present-day Maine. The Iroquois Confederation dominated much of present-day Upstate New York and the Ohio Country, although the latter also included Algonquian-speaking populations of Delaware and Shawnee, as well as Iroquoian-speaking Mingo. These tribes were formally under Iroquois rule, and were limited by them in authority to make agreements.</span><br /><span style=\"color:green\"><b>Probability:</b> 1.175%</span><br />"
      ],
      "text/plain": [
       "<IPython.core.display.HTML object>"
      ]
     },
     "metadata": {},
     "output_type": "display_data"
    },
    {
     "name": "stdout",
     "output_type": "stream",
     "text": [
      "====================================================================================================\n"
     ]
    },
    {
     "data": {
      "text/html": [
       "<p><span><b>Context:</b> The name Rijn, from here on, is used only for smaller streams farther to the north, which together formed the main river Rhine in Roman times. Though they retained the name, these streams no longer carry water from the Rhine, but are used for draining the surrounding land and polders. From Wijk bij Duurstede, the old north branch of the Rhine is called Kromme Rijn (\"Bent Rhine\") past Utrecht, first Leidse Rijn (\"Rhine of Leiden\") and then, Oude Rijn (\"Old Rhine\"). The latter flows west into a sluice at Katwijk, where its waters can be discharged into the North Sea. This branch once formed the line along which the Limes Germanicus were built. During periods of lower sea levels within the various ice ages, the Rhine took a left turn, creating the Channel River, the course of which now lies below the English Channel.</span><br /><span><b>Question:</b> What is the name of the old north branch of the Rhine?</span><br /><span style=\"color:blue\"><b>Possible answers:</b><br /><ul><li style=\"color:blue\">Kromme Rijn</li><li style=\"color:blue\">Kromme Rijn</li><li style=\"color:blue\">Kromme Rijn</li></ul></span><br /><span style=\"color:green\"><b>Prediction:</b> Rijn, from here on, is used only for smaller streams farther to the north, which together formed the main river Rhine in Roman times. Though they retained the name, these streams no longer carry water from the Rhine, but are used for draining the surrounding land and polders. From Wijk bij Duurstede,</span><br /><span style=\"color:green\"><b>Probability:</b> 1.048%</span><br />"
      ],
      "text/plain": [
       "<IPython.core.display.HTML object>"
      ]
     },
     "metadata": {},
     "output_type": "display_data"
    },
    {
     "name": "stdout",
     "output_type": "stream",
     "text": [
      "====================================================================================================\n"
     ]
    },
    {
     "data": {
      "text/html": [
       "<p><span><b>Context:</b> Bolshevik leaders had effectively reestablished a polity with roughly the same extent as that empire by 1921, however with an internationalist ideology: Lenin in particular asserted the right to limited self-determination for national minorities within the new territory. Beginning in 1923, the policy of \"Indigenization\" [korenizatsiia] was intended to support non-Russians develop their national cultures within a socialist framework. Never formally revoked, it stopped being implemented after 1932. After World War II, the Soviet Union installed socialist regimes modeled on those it had installed in 1919–20 in the old Tsarist Empire in areas its forces occupied in Eastern Europe. The Soviet Union and the People’s Republic of China supported post–World War II communist movements in foreign nations and colonies to advance their own interests, but were not always successful.</span><br /><span><b>Question:</b> Who had established the Russian empire to its former glory prior to 1921?</span><br /><span style=\"color:blue\"><b>Possible answers:</b><br /><ul><li style=\"color:blue\">Bolshevik leaders</li><li style=\"color:blue\">Bolshevik leaders</li><li style=\"color:blue\">Bolshevik leaders</li><li style=\"color:blue\">Bolshevik leaders</li></ul></span><br /><span style=\"color:green\"><b>Prediction:</b> , however with an internationalist ideology: Lenin in particular asserted the right to limited self-determination for national minorities within the new territory. Beginning in 1923, the policy of \"Indigenization\" [korenizatsiia] was intended to support non-Russians develop their national cultures within a socialist framework. Never formally revoked, it stopped being implemented after 1932. After World War II, the Soviet Union installed socialist regimes modeled on those it had installed in 1919–20 in the old Tsarist Empire in areas its forces occupied in Eastern Europe. The Soviet Union and the People’s Republic of China supported post–World War II communist movements in foreign nations and colonies to advance their own interests, but were not always successful.</span><br /><span style=\"color:green\"><b>Probability:</b> 1.413%</span><br />"
      ],
      "text/plain": [
       "<IPython.core.display.HTML object>"
      ]
     },
     "metadata": {},
     "output_type": "display_data"
    },
    {
     "name": "stdout",
     "output_type": "stream",
     "text": [
      "====================================================================================================\n"
     ]
    },
    {
     "data": {
      "text/html": [
       "<p><span><b>Context:</b> For the third straight season, the number one seeds from both conferences met in the Super Bowl. The Carolina Panthers became one of only ten teams to have completed a regular season with only one loss, and one of only six teams to have acquired a 15–1 record, while the Denver Broncos became one of four teams to have made eight appearances in the Super Bowl. The Broncos made their second Super Bowl appearance in three years, having reached Super Bowl XLVIII, while the Panthers made their second Super Bowl appearance in franchise history, their other appearance being Super Bowl XXXVIII. Coincidentally, both teams were coached by John Fox in their last Super Bowl appearance prior to Super Bowl 50.</span><br /><span><b>Question:</b> Before Super Bowl 50, what was the coach's name that coached both teams for their last Super Bowl appearances?</span><br /><span style=\"color:blue\"><b>Possible answers:</b><br /><ul><li style=\"color:blue\">John Fox</li><li style=\"color:blue\">John Fox</li><li style=\"color:blue\">John Fox</li></ul></span><br /><span style=\"color:green\"><b>Prediction:</b> </span><br /><span style=\"color:green\"><b>Probability:</b> 0.441%</span><br />"
      ],
      "text/plain": [
       "<IPython.core.display.HTML object>"
      ]
     },
     "metadata": {},
     "output_type": "display_data"
    },
    {
     "name": "stdout",
     "output_type": "stream",
     "text": [
      "====================================================================================================\n"
     ]
    },
    {
     "data": {
      "text/html": [
       "<p><span><b>Context:</b> In 1993, for the franchise's 30th anniversary, another charity special, titled Dimensions in Time was produced for Children in Need, featuring all of the surviving actors who played the Doctor and a number of previous companions. It also featured a crossover with the soap opera EastEnders, the action taking place in the latter's Albert Square location and around Greenwich. The special was one of several special 3D programmes the BBC produced at the time, using a 3D system that made use of the Pulfrich effect requiring glasses with one darkened lens; the picture would look normal to those viewers who watched without the glasses.</span><br /><span><b>Question:</b> What type of lenses were needed to see the 3D effects in Dimension in Time?</span><br /><span style=\"color:blue\"><b>Possible answers:</b><br /><ul><li style=\"color:blue\">glasses with one darkened lens</li><li style=\"color:blue\">glasses with one darkened lens</li><li style=\"color:blue\">one darkened lens</li></ul></span><br /><span style=\"color:green\"><b>Prediction:</b> 1993, for the franchise's 30th anniversary, another charity special, titled Dimensions in Time was produced for Children in Need, featuring all of the surviving actors who played the Doctor and a number of previous companions. It also featured a crossover with the soap opera EastEnders, the action taking place in the latter's Albert Square location and around Greenwich. The special was one of several special 3D programmes the BBC produced at the time, using a 3D system that made use of the Pulfrich effect requiring glasses with one darkened lens; the picture would look normal to those viewers who watched without the glasses.</span><br /><span style=\"color:green\"><b>Probability:</b> 3.063%</span><br />"
      ],
      "text/plain": [
       "<IPython.core.display.HTML object>"
      ]
     },
     "metadata": {},
     "output_type": "display_data"
    },
    {
     "name": "stdout",
     "output_type": "stream",
     "text": [
      "====================================================================================================\n"
     ]
    },
    {
     "data": {
      "text/html": [
       "<p><span><b>Context:</b> Exceptional examples of the bourgeois architecture of the later periods were not restored by the communist authorities after the war (like mentioned Kronenberg Palace and Insurance Company Rosja building) or they were rebuilt in socialist realism style (like Warsaw Philharmony edifice originally inspired by Palais Garnier in Paris). Despite that the Warsaw University of Technology building (1899–1902) is the most interesting of the late 19th-century architecture. Some 19th-century buildings in the Praga district (the Vistula’s right bank) have been restored although many have been poorly maintained. Warsaw’s municipal government authorities have decided to rebuild the Saxon Palace and the Brühl Palace, the most distinctive buildings in prewar Warsaw.</span><br /><span><b>Question:</b> What style was the Warsaw Philharmony edifice built in?</span><br /><span style=\"color:blue\"><b>Possible answers:</b><br /><ul><li style=\"color:blue\">socialist realism</li><li style=\"color:blue\">socialist realism</li><li style=\"color:blue\">socialist realism</li></ul></span><br /><span style=\"color:green\"><b>Prediction:</b> by Palais Garnier in Paris). Despite that</span><br /><span style=\"color:green\"><b>Probability:</b> 0.499%</span><br />"
      ],
      "text/plain": [
       "<IPython.core.display.HTML object>"
      ]
     },
     "metadata": {},
     "output_type": "display_data"
    },
    {
     "name": "stdout",
     "output_type": "stream",
     "text": [
      "====================================================================================================\n"
     ]
    },
    {
     "data": {
      "text/html": [
       "<p><span><b>Context:</b> Steam engines are external combustion engines, where the working fluid is separate from the combustion products. Non-combustion heat sources such as solar power, nuclear power or geothermal energy may be used. The ideal thermodynamic cycle used to analyze this process is called the Rankine cycle. In the cycle, water is heated and transforms into steam within a boiler operating at a high pressure. When expanded through pistons or turbines, mechanical work is done. The reduced-pressure steam is then condensed and pumped back into the boiler.</span><br /><span><b>Question:</b> In the Rankine cycle, what does water turn into when heated?</span><br /><span style=\"color:blue\"><b>Possible answers:</b><br /><ul><li style=\"color:blue\">steam</li><li style=\"color:blue\">steam</li><li style=\"color:blue\">steam</li><li style=\"color:blue\">steam</li></ul></span><br /><span style=\"color:green\"><b>Prediction:</b> and transforms into steam within a boiler operating at a high pressure. When expanded through pistons or turbines, mechanical work is done. The reduced-pressure steam is then condensed and pumped back into the boiler.</span><br /><span style=\"color:green\"><b>Probability:</b> 4.248%</span><br />"
      ],
      "text/plain": [
       "<IPython.core.display.HTML object>"
      ]
     },
     "metadata": {},
     "output_type": "display_data"
    },
    {
     "name": "stdout",
     "output_type": "stream",
     "text": [
      "====================================================================================================\n"
     ]
    },
    {
     "data": {
      "text/html": [
       "<p><span><b>Context:</b> After Malaysia's independence in 1957, the government instructed all schools to surrender their properties and be assimilated into the National School system. This caused an uproar among the Chinese and a compromise was achieved in that the schools would instead become \"National Type\" schools. Under such a system, the government is only in charge of the school curriculum and teaching personnel while the lands still belonged to the schools. While Chinese primary schools were allowed to retain Chinese as the medium of instruction, Chinese secondary schools are required to change into English-medium schools. Over 60 schools converted to become National Type schools.</span><br /><span><b>Question:</b> What language is used in Chinese primary schools in Malaysia?</span><br /><span style=\"color:blue\"><b>Possible answers:</b><br /><ul><li style=\"color:blue\">Chinese</li><li style=\"color:blue\">Chinese</li><li style=\"color:blue\">Chinese</li></ul></span><br /><span style=\"color:green\"><b>Prediction:</b> 's independence in 1957, the government instructed all schools to surrender their properties and be assimilated into the National School system. This caused an uproar among the Chinese and a compromise was achieved in that the schools would instead become \"National Type\" schools. Under such a system, the government is only in charge of the school curriculum and teaching personnel while the lands still belonged to the schools. While Chinese primary schools were allowed to retain Chinese as the medium of instruction, Chinese secondary schools are required to change into English-medium schools. Over 60 schools converted to become National Type schools.</span><br /><span style=\"color:green\"><b>Probability:</b> 2.906%</span><br />"
      ],
      "text/plain": [
       "<IPython.core.display.HTML object>"
      ]
     },
     "metadata": {},
     "output_type": "display_data"
    },
    {
     "name": "stdout",
     "output_type": "stream",
     "text": [
      "====================================================================================================\n"
     ]
    },
    {
     "data": {
      "text/html": [
       "<p><span><b>Context:</b> Always in search of new programs that would help it compete with NBC and CBS, ABC's management believed that sports could be a major catalyst in improving the network's market share. On April 29, 1961, ABC debuted Wide World of Sports, an anthology series created by Edgar Scherick through his company Sports Programs, Inc. and produced by a young Roone Arledge which featured a different sporting event each broadcast. ABC purchased Sports Programs, Inc. in exchange for shares in the company, leading it to become the future core of ABC Sports, with Arledge as the executive producer of that division's shows. Wide World of Sports, in particular, was not merely devoted to a single sport, but rather to generally all sporting events.</span><br /><span><b>Question:</b> ABC purchased which of Edgar Scherick's company?</span><br /><span style=\"color:blue\"><b>Possible answers:</b><br /><ul><li style=\"color:blue\">Sports Programs, Inc.</li><li style=\"color:blue\">Sports Programs, Inc.</li></ul></span><br /><span style=\"color:green\"><b>Prediction:</b> </span><br /><span style=\"color:green\"><b>Probability:</b> 0.190%</span><br />"
      ],
      "text/plain": [
       "<IPython.core.display.HTML object>"
      ]
     },
     "metadata": {},
     "output_type": "display_data"
    },
    {
     "name": "stdout",
     "output_type": "stream",
     "text": [
      "====================================================================================================\n"
     ]
    },
    {
     "data": {
      "text/html": [
       "<p><span><b>Context:</b> After a punt from both teams, Carolina got on track with a 9-play, 73-yard scoring drive. Newton completed 4 of 4 passes for 51 yards and rushed twice for 25 yards, while Jonathan Stewart finished the drive with a 1-yard touchdown run, cutting the score to 10–7 with 11:28 left in the second quarter. Later on, Broncos receiver Jordan Norwood received Brad Nortman's short 28-yard punt surrounded by Panthers players, but none of them attempted to make a tackle, apparently thinking Norwood had called a fair catch. Norwood had not done so, and with no resistance around him, he took off for a Super Bowl record 61-yard return before Mario Addison dragged him down on the Panthers 14-yard line. Despite Denver's excellent field position, they could not get the ball into the end zone, so McManus kicked a 33-yard field goal that increased their lead to 13–7.</span><br /><span><b>Question:</b> Who scored the Panthers first touchdown? </span><br /><span style=\"color:blue\"><b>Possible answers:</b><br /><ul><li style=\"color:blue\">Jonathan Stewart</li><li style=\"color:blue\">Jonathan Stewart</li><li style=\"color:blue\">Stewart</li></ul></span><br /><span style=\"color:green\"><b>Prediction:</b> . Later on, Broncos receiver Jordan Norwood received Brad Nortman's short 28-yard punt surrounded by Panthers players, but none of them attempted to make a tackle, apparently thinking Norwood had called a fair catch. Norwood had not done so, and with no resistance around him, he took off for a Super Bowl record 61-yard return before Mario Addison dragged him down on the Panthers 14-yard line. Despite Denver's excellent field position, they could not get the ball into the end zone, so McManus kicked a 33-yard field goal that increased their lead to 13–7.</span><br /><span style=\"color:green\"><b>Probability:</b> 1.193%</span><br />"
      ],
      "text/plain": [
       "<IPython.core.display.HTML object>"
      ]
     },
     "metadata": {},
     "output_type": "display_data"
    },
    {
     "name": "stdout",
     "output_type": "stream",
     "text": [
      "====================================================================================================\n"
     ]
    },
    {
     "data": {
      "text/html": [
       "<p><span><b>Context:</b> Newton's First Law of Motion states that objects continue to move in a state of constant velocity unless acted upon by an external net force or resultant force. This law is an extension of Galileo's insight that constant velocity was associated with a lack of net force (see a more detailed description of this below). Newton proposed that every object with mass has an innate inertia that functions as the fundamental equilibrium \"natural state\" in place of the Aristotelian idea of the \"natural state of rest\". That is, the first law contradicts the intuitive Aristotelian belief that a net force is required to keep an object moving with constant velocity. By making rest physically indistinguishable from non-zero constant velocity, Newton's First Law directly connects inertia with the concept of relative velocities. Specifically, in systems where objects are moving with different velocities, it is impossible to determine which object is \"in motion\" and which object is \"at rest\". In other words, to phrase matters more technically, the laws of physics are the same in every inertial frame of reference, that is, in all frames related by a Galilean transformation.</span><br /><span><b>Question:</b> Whose First Law of Motion says that unless acted upon be forces, objects would continue to move at a constant velocity?</span><br /><span style=\"color:blue\"><b>Possible answers:</b><br /><ul><li style=\"color:blue\">Newton</li><li style=\"color:blue\">Newton's</li><li style=\"color:blue\">Newton's</li><li style=\"color:blue\">Newton's</li><li style=\"color:blue\">Newton's</li></ul></span><br /><span style=\"color:green\"><b>Prediction:</b> </span><br /><span style=\"color:green\"><b>Probability:</b> 0.386%</span><br />"
      ],
      "text/plain": [
       "<IPython.core.display.HTML object>"
      ]
     },
     "metadata": {},
     "output_type": "display_data"
    },
    {
     "name": "stdout",
     "output_type": "stream",
     "text": [
      "====================================================================================================\n"
     ]
    },
    {
     "data": {
      "text/html": [
       "<p><span><b>Context:</b> The serial format changed for the 2005 revival, with each series usually consisting of 13 45-minute, self-contained episodes (60 minutes with adverts, on overseas commercial channels), and an extended episode broadcast on Christmas Day. Each series includes several standalone and multi-part stories, linked with a loose story arc that resolves in the series finale. As in the early \"classic\" era, each episode, whether standalone or part of a larger story, has its own title. Occasionally, regular-series episodes will exceed the 45-minute run time; notably, the episodes \"Journey's End\" from 2008 and \"The Eleventh Hour\" from 2010 exceeded an hour in length.</span><br /><span><b>Question:</b> In what year did the serial format change for the Doctor Who series?</span><br /><span style=\"color:blue\"><b>Possible answers:</b><br /><ul><li style=\"color:blue\">2005</li><li style=\"color:blue\">2005</li><li style=\"color:blue\">2005</li></ul></span><br /><span style=\"color:green\"><b>Prediction:</b> changed for the 2005 revival, with each series usually consisting of 13 45-minute, self-contained episodes (60 minutes with adverts, on overseas commercial channels), and an extended episode broadcast on Christmas Day. Each series includes several standalone and multi-part stories, linked with a loose story arc that resolves in the series finale. As in the early \"classic\" era, each episode, whether standalone or part of a larger story, has its own title. Occasionally, regular-series episodes will exceed the 45-minute run time; notably, the episodes \"Journey's End\" from 2008 and \"The Eleventh Hour\" from 2010 exceeded an hour in length.</span><br /><span style=\"color:green\"><b>Probability:</b> 0.663%</span><br />"
      ],
      "text/plain": [
       "<IPython.core.display.HTML object>"
      ]
     },
     "metadata": {},
     "output_type": "display_data"
    },
    {
     "name": "stdout",
     "output_type": "stream",
     "text": [
      "====================================================================================================\n"
     ]
    },
    {
     "data": {
      "text/html": [
       "<p><span><b>Context:</b> On 30 July 1891, at the age of 35, Tesla became a naturalized citizen of the United States, and established his South Fifth Avenue laboratory, and later another at 46 E. Houston Street, in New York. He lit electric lamps wirelessly at both locations, demonstrating the potential of wireless power transmission. In the same year, he patented the Tesla coil.</span><br /><span><b>Question:</b> Where was Tesla's laboratory established?</span><br /><span style=\"color:blue\"><b>Possible answers:</b><br /><ul><li style=\"color:blue\">New York</li><li style=\"color:blue\">South Fifth Avenue</li><li style=\"color:blue\">South Fifth Avenue</li></ul></span><br /><span style=\"color:green\"><b>Prediction:</b> coil.</span><br /><span style=\"color:green\"><b>Probability:</b> 1.697%</span><br />"
      ],
      "text/plain": [
       "<IPython.core.display.HTML object>"
      ]
     },
     "metadata": {},
     "output_type": "display_data"
    },
    {
     "name": "stdout",
     "output_type": "stream",
     "text": [
      "====================================================================================================\n"
     ]
    },
    {
     "data": {
      "text/html": [
       "<p><span><b>Context:</b> Concentrated O\n",
       "2 will allow combustion to proceed rapidly and energetically. Steel pipes and storage vessels used to store and transmit both gaseous and liquid oxygen will act as a fuel; and therefore the design and manufacture of O\n",
       "2 systems requires special training to ensure that ignition sources are minimized. The fire that killed the Apollo 1 crew in a launch pad test spread so rapidly because the capsule was pressurized with pure O\n",
       "2 but at slightly more than atmospheric pressure, instead of the 1⁄3 normal pressure that would be used in a mission.[k]</span><br /><span><b>Question:</b> To ensure safety of future space missions Oxygen was used at _____ of the normal pressure.</span><br /><span style=\"color:blue\"><b>Possible answers:</b><br /><ul><li style=\"color:blue\">1⁄3</li><li style=\"color:blue\">1⁄3</li><li style=\"color:blue\">1⁄3</li><li style=\"color:blue\">1⁄3</li><li style=\"color:blue\">1⁄3 normal pressure</li></ul></span><br /><span style=\"color:green\"><b>Prediction:</b> </span><br /><span style=\"color:green\"><b>Probability:</b> 0.365%</span><br />"
      ],
      "text/plain": [
       "<IPython.core.display.HTML object>"
      ]
     },
     "metadata": {},
     "output_type": "display_data"
    },
    {
     "name": "stdout",
     "output_type": "stream",
     "text": [
      "====================================================================================================\n"
     ]
    },
    {
     "data": {
      "text/html": [
       "<p><span><b>Context:</b> To measure the difficulty of solving a computational problem, one may wish to see how much time the best algorithm requires to solve the problem. However, the running time may, in general, depend on the instance. In particular, larger instances will require more time to solve. Thus the time required to solve a problem (or the space required, or any measure of complexity) is calculated as a function of the size of the instance. This is usually taken to be the size of the input in bits. Complexity theory is interested in how algorithms scale with an increase in the input size. For instance, in the problem of finding whether a graph is connected, how much more time does it take to solve a problem for a graph with 2n vertices compared to the time taken for a graph with n vertices?</span><br /><span><b>Question:</b> How is the time needed to obtain the solution to a problem calculated?</span><br /><span style=\"color:blue\"><b>Possible answers:</b><br /><ul><li style=\"color:blue\">as a function of the size of the instance</li><li style=\"color:blue\">as a function of the size of the instance</li><li style=\"color:blue\">a function of the size of the instance</li></ul></span><br /><span style=\"color:green\"><b>Prediction:</b> much time the best algorithm requires to solve the problem. However, the running time may, in general, depend on the instance. In particular, larger instances will require more time to solve. Thus the time required to solve a problem (or the space required, or any measure of complexity) is calculated as a function of the size of the instance. This is usually taken to be the size of the input in bits. Complexity theory is interested in how algorithms scale with an increase in the input size. For instance, in the problem of finding whether a graph is connected, how much more time does it take to solve a problem for a graph with 2n vertices compared to the time taken for a graph with n vertices?</span><br /><span style=\"color:green\"><b>Probability:</b> 0.131%</span><br />"
      ],
      "text/plain": [
       "<IPython.core.display.HTML object>"
      ]
     },
     "metadata": {},
     "output_type": "display_data"
    },
    {
     "name": "stdout",
     "output_type": "stream",
     "text": [
      "====================================================================================================\n"
     ]
    }
   ],
   "source": [
    "for index in np.random.choice(len(valid_qas), size=25, replace=False):\n",
    "    id = valid_qas[index].id_\n",
    "    context = valid_qas[index].context\n",
    "    question = valid_qas[index].question\n",
    "\n",
    "    answers = []\n",
    "    for qa in valid_qas:\n",
    "        if id == qa.id_:\n",
    "            answers.append(qa.answer)\n",
    "\n",
    "    prediction, proba = inference(\n",
    "        model=model,\n",
    "        context=context,\n",
    "        question=question,\n",
    "        text_vocab=text_vocabulary,\n",
    "        pos_vocab=part_of_speech_vocabulary,\n",
    "        ner_vocab=named_entity_types_vocabulary,\n",
    "        device=DEVICE\n",
    "    )\n",
    "    \n",
    "    html = f'<p><span><b>Context:</b> {context.text}</span><br />'\n",
    "    html += f'<span><b>Question:</b> {question.text}</span><br />'\n",
    "    html += f'<span style=\"color:blue\"><b>Possible answers:</b><br /><ul>'\n",
    "    for answer in answers:\n",
    "        html += f'<li style=\"color:blue\">{answer.text}</li>'\n",
    "    html += '</ul></span><br />'\n",
    "    html += f'<span style=\"color:green\"><b>Prediction:</b> {prediction}</span><br />'\n",
    "    html += f'<span style=\"color:green\"><b>Probability:</b> {proba * 100:.3f}%</span><br />'\n",
    "    display(HTML(html))\n",
    "    print('='*100)"
   ]
  },
  {
   "cell_type": "code",
   "execution_count": null,
   "metadata": {
    "id": "v7JFJMsaEQAL",
    "pycharm": {
     "name": "#%%\n"
    }
   },
   "outputs": [],
   "source": []
  }
 ],
 "metadata": {
  "accelerator": "GPU",
  "colab": {
   "authorship_tag": "ABX9TyNbESkBXxHvfxvShB4a49KZ",
   "collapsed_sections": [],
   "include_colab_link": true,
   "name": "1 - DrQA, Document reader Question Answering.ipynb",
   "provenance": []
  },
  "kernelspec": {
   "display_name": "Python 3 (ipykernel)",
   "language": "python",
   "name": "python3"
  },
  "language_info": {
   "codemirror_mode": {
    "name": "ipython",
    "version": 3
   },
   "file_extension": ".py",
   "mimetype": "text/x-python",
   "name": "python",
   "nbconvert_exporter": "python",
   "pygments_lexer": "ipython3",
   "version": "3.7.13"
  }
 },
 "nbformat": 4,
 "nbformat_minor": 1
}
