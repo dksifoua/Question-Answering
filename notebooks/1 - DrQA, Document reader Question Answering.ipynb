{
 "cells": [
  {
   "cell_type": "markdown",
   "metadata": {
    "colab_type": "text",
    "id": "view-in-github",
    "pycharm": {
     "name": "#%% md\n"
    }
   },
   "source": [
    "<a href=\"https://colab.research.google.com/github/dksifoua/Question-Answering/blob/master/1%20-%20DrQA%2C%20Document%20reader%20Question%20Answering.ipynb\" target=\"_parent\"><img src=\"https://colab.research.google.com/assets/colab-badge.svg\" alt=\"Open In Colab\"/></a>"
   ]
  },
  {
   "cell_type": "code",
   "execution_count": 1,
   "metadata": {
    "colab": {
     "base_uri": "https://localhost:8080/"
    },
    "id": "LMGpLvYNKR78",
    "outputId": "a44642e8-e103-4b7c-eb0f-625a56ebe146",
    "pycharm": {
     "name": "#%%\n"
    }
   },
   "outputs": [
    {
     "name": "stdout",
     "output_type": "stream",
     "text": [
      "Wed Oct 12 21:36:29 2022       \n",
      "+-----------------------------------------------------------------------------+\n",
      "| NVIDIA-SMI 515.43.01    Driver Version: 516.01       CUDA Version: 11.7     |\n",
      "|-------------------------------+----------------------+----------------------+\n",
      "| GPU  Name        Persistence-M| Bus-Id        Disp.A | Volatile Uncorr. ECC |\n",
      "| Fan  Temp  Perf  Pwr:Usage/Cap|         Memory-Usage | GPU-Util  Compute M. |\n",
      "|                               |                      |               MIG M. |\n",
      "|===============================+======================+======================|\n",
      "|   0  NVIDIA GeForce ...  On   | 00000000:08:00.0  On |                  N/A |\n",
      "|  0%   39C    P8    15W / 170W |    865MiB / 12288MiB |      6%      Default |\n",
      "|                               |                      |                  N/A |\n",
      "+-------------------------------+----------------------+----------------------+\n",
      "                                                                               \n",
      "+-----------------------------------------------------------------------------+\n",
      "| Processes:                                                                  |\n",
      "|  GPU   GI   CI        PID   Type   Process name                  GPU Memory |\n",
      "|        ID   ID                                                   Usage      |\n",
      "|=============================================================================|\n",
      "|  No running processes found                                                 |\n",
      "+-----------------------------------------------------------------------------+\n"
     ]
    }
   ],
   "source": [
    "!nvidia-smi"
   ]
  },
  {
   "cell_type": "markdown",
   "metadata": {
    "id": "lP-9tyjdylTg",
    "pycharm": {
     "name": "#%% md\n"
    }
   },
   "source": [
    "## Load dependencies"
   ]
  },
  {
   "cell_type": "code",
   "execution_count": 2,
   "metadata": {
    "id": "Bm6QVw_hzHB7",
    "pycharm": {
     "name": "#%%\n"
    }
   },
   "outputs": [],
   "source": [
    "# !pip install tqdm --upgrade >> /dev/null 2>&1\n",
    "# !pip install spacy --upgrade >> /dev/null 2>&1\n",
    "# !python -m spacy download en_core_web_lg >> /dev/null 2>&1"
   ]
  },
  {
   "cell_type": "code",
   "execution_count": 3,
   "metadata": {
    "id": "bJQv4DSelwnB",
    "pycharm": {
     "name": "#%%\n"
    }
   },
   "outputs": [],
   "source": [
    "import os\n",
    "import re\n",
    "import json\n",
    "import time\n",
    "import tqdm\n",
    "import spacy\n",
    "import pickle\n",
    "import random\n",
    "import string\n",
    "import itertools\n",
    "import functools\n",
    "import collections\n",
    "import dataclasses\n",
    "import numpy as np\n",
    "import matplotlib.pyplot as plt\n",
    "from spacy.tokens import Doc\n",
    "from typing import Any, Dict, List, NamedTuple, Union, Tuple\n",
    "%matplotlib inline\n",
    "\n",
    "from IPython.core.display import display, HTML\n",
    "\n",
    "import torch\n",
    "import torch.nn as nn\n",
    "import torch.nn.functional as F\n",
    "import torch.optim as optim\n",
    "from torch import Tensor\n",
    "from torch.nn.utils.rnn import pack_padded_sequence, pad_sequence, pad_packed_sequence\n",
    "from torch.utils.data import Dataset, DataLoader"
   ]
  },
  {
   "cell_type": "code",
   "execution_count": 4,
   "metadata": {
    "pycharm": {
     "name": "#%%\n"
    }
   },
   "outputs": [
    {
     "name": "stdout",
     "output_type": "stream",
     "text": [
      "Current working directory: /mnt/c/Users/dimit/PycharmProjects/Question-Answering/notebooks\n",
      "New current working directory: /mnt/c/Users/dimit/PycharmProjects/Question-Answering\n"
     ]
    }
   ],
   "source": [
    "current_working_directory = os.getcwd()\n",
    "print(f\"Current working directory: {current_working_directory}\")\n",
    "\n",
    "if current_working_directory.split('/')[-1] == \"notebooks\":\n",
    "    os.chdir(\"../\")\n",
    "\n",
    "print(f\"New current working directory: {os.getcwd()}\")"
   ]
  },
  {
   "cell_type": "code",
   "execution_count": 5,
   "metadata": {
    "pycharm": {
     "name": "#%%\n"
    }
   },
   "outputs": [],
   "source": [
    "def seed_everything(seed: int) -> None:\n",
    "    random.seed(seed)\n",
    "    np.random.seed(seed)\n",
    "    torch.manual_seed(seed)\n",
    "    torch.cuda.manual_seed(seed)\n",
    "\n",
    "    # https://pytorch.org/docs/stable/notes/randomness.html\n",
    "    # torch.use_deterministic_algorithms(True)\n",
    "    # torch.backends.cudnn.benchmark = False"
   ]
  },
  {
   "cell_type": "code",
   "execution_count": 6,
   "metadata": {
    "colab": {
     "base_uri": "https://localhost:8080/"
    },
    "id": "cw16-fZCDHHu",
    "outputId": "29d412de-e92b-46dc-d61e-f679089028fc",
    "pycharm": {
     "name": "#%%\n"
    }
   },
   "outputs": [
    {
     "name": "stdout",
     "output_type": "stream",
     "text": [
      "Device: cuda\n"
     ]
    }
   ],
   "source": [
    "SEED = 546\n",
    "seed_everything(seed=SEED)\n",
    "\n",
    "DEVICE = torch.device(\"cuda\" if torch.cuda.is_available() else \"cpu\")\n",
    "print(f\"Device: {DEVICE}\")"
   ]
  },
  {
   "cell_type": "markdown",
   "metadata": {
    "id": "xx9pL3Hiyn7c",
    "pycharm": {
     "name": "#%% md\n"
    }
   },
   "source": [
    "## Prepare data\n",
    "\n",
    "***Download data***"
   ]
  },
  {
   "cell_type": "code",
   "execution_count": 7,
   "metadata": {
    "colab": {
     "base_uri": "https://localhost:8080/"
    },
    "id": "kBy3v4Pke7dq",
    "outputId": "4d0d9d8a-d05a-4d3f-b1dd-545aa92ad6f1",
    "pycharm": {
     "name": "#%%\n"
    }
   },
   "outputs": [],
   "source": [
    "# !rm -rf ./data\n",
    "# !mkdir ./data\n",
    "#\n",
    "# !wget --no-check-certificate \\\n",
    "#     https://rajpurkar.github.io/SQuAD-explorer/dataset/train-v1.1.json \\\n",
    "#     -O ./data/train-v1.1.json\n",
    "#\n",
    "# !wget --no-check-certificate \\\n",
    "#     https://rajpurkar.github.io/SQuAD-explorer/dataset/dev-v1.1.json \\\n",
    "#     -O ./data/dev-v1.1.json"
   ]
  },
  {
   "cell_type": "markdown",
   "metadata": {
    "id": "L9H59xUnyvAR",
    "pycharm": {
     "name": "#%% md\n"
    }
   },
   "source": [
    "***Load JSON data***"
   ]
  },
  {
   "cell_type": "code",
   "execution_count": 8,
   "metadata": {
    "pycharm": {
     "name": "#%%\n"
    }
   },
   "outputs": [],
   "source": [
    "@dataclasses.dataclass\n",
    "class _UnpackingDataClassMixin:\n",
    "\n",
    "    def __iter__(self):\n",
    "        return iter(dataclasses.astuple(self))\n",
    "\n",
    "\n",
    "@dataclasses.dataclass\n",
    "class Target(_UnpackingDataClassMixin):\n",
    "    start_index: int\n",
    "    end_index: int\n",
    "\n",
    "\n",
    "@dataclasses.dataclass\n",
    "class RawDatasetItem(_UnpackingDataClassMixin):\n",
    "    id_: str\n",
    "    context: Doc\n",
    "    question: Doc\n",
    "    answer: Doc\n",
    "    answer_start_index: int\n",
    "    target: Target = None"
   ]
  },
  {
   "cell_type": "code",
   "execution_count": 9,
   "metadata": {
    "id": "IbZQjhA5roqo",
    "pycharm": {
     "name": "#%%\n"
    }
   },
   "outputs": [],
   "source": [
    "class IO:\n",
    "\n",
    "    @staticmethod\n",
    "    def load_from_json(path: str) -> Dict:\n",
    "        try:\n",
    "            with open(path, mode='r', encoding=\"utf-8\") as json_file:\n",
    "                return json.load(json_file)\n",
    "        except IOError:\n",
    "            raise IOError"
   ]
  },
  {
   "cell_type": "code",
   "execution_count": 10,
   "metadata": {
    "colab": {
     "base_uri": "https://localhost:8080/"
    },
    "id": "rqjrkTxHr3rA",
    "outputId": "aeed0ca6-a730-499b-cd3c-8f2bed254f81",
    "pycharm": {
     "name": "#%%\n"
    }
   },
   "outputs": [
    {
     "name": "stdout",
     "output_type": "stream",
     "text": [
      "Length of raw train data: 442\n",
      "Length of raw valid data: 48\n",
      "CPU times: user 435 ms, sys: 41.1 ms, total: 476 ms\n",
      "Wall time: 675 ms\n"
     ]
    }
   ],
   "source": [
    "%%time\n",
    "train_raw_data = IO.load_from_json(path=\"./data/train-v1.1.json\")\n",
    "valid_raw_data = IO.load_from_json(path=\"./data/dev-v1.1.json\")\n",
    "print(f\"Length of raw train data: {len(train_raw_data['data']):,}\")\n",
    "print(f\"Length of raw valid data: {len(valid_raw_data['data']):,}\")"
   ]
  },
  {
   "cell_type": "markdown",
   "metadata": {
    "id": "n4sypWlVyxx-",
    "pycharm": {
     "name": "#%% md\n"
    }
   },
   "source": [
    "***Parse JSON data***"
   ]
  },
  {
   "cell_type": "code",
   "execution_count": 11,
   "metadata": {
    "id": "O-6GE3YxsQsl",
    "pycharm": {
     "name": "#%%\n"
    }
   },
   "outputs": [],
   "source": [
    "def parse_squad_v1_data(data: Dict, spacy_nlp: spacy.language.Language) -> List[RawDatasetItem]:\n",
    "    qas = []\n",
    "    disabled_components = [\"parser\", \"lemmatizer\", \"tagger\", \"ner\"]\n",
    "    for paragraphs in tqdm.tqdm(data[\"data\"]):\n",
    "        for paragraph in paragraphs[\"paragraphs\"]:\n",
    "            context = spacy_nlp(paragraph[\"context\"], disable=disabled_components[:1])\n",
    "            for qa in paragraph[\"qas\"]:\n",
    "                id_ = qa[\"id\"]\n",
    "                question = spacy_nlp(qa[\"question\"], disable=disabled_components)\n",
    "                for answer in qa[\"answers\"]:\n",
    "                    qas.append(RawDatasetItem(id_=id_, context=context, question=question,\n",
    "                                              answer=spacy_nlp(answer[\"text\"], disable=disabled_components),\n",
    "                                              answer_start_index=answer[\"answer_start\"]))\n",
    "    return qas"
   ]
  },
  {
   "cell_type": "code",
   "execution_count": 12,
   "metadata": {
    "colab": {
     "base_uri": "https://localhost:8080/"
    },
    "id": "6MeqBr7Ov9ZU",
    "outputId": "2dad6d53-186e-41d5-dd61-0da6ac26c314",
    "pycharm": {
     "name": "#%%\n"
    }
   },
   "outputs": [
    {
     "name": "stderr",
     "output_type": "stream",
     "text": [
      "100%|██████████| 442/442 [06:58<00:00,  1.06it/s]\n",
      "100%|██████████| 48/48 [01:15<00:00,  1.57s/it]"
     ]
    },
    {
     "name": "stdout",
     "output_type": "stream",
     "text": [
      "Length of train qa pairs: 87,599\n",
      "Length of valid qa pairs: 34,726\n",
      "Train example: RawDatasetItem(id_='56cc100b6d243a140015ee8d', context=During the summers at Nohant, particularly in the years 1839–43, Chopin found quiet, productive days during which he composed many works, including his Polonaise in A-flat major, Op. 53. Among the visitors to Nohant were Delacroix and the mezzo-soprano Pauline Viardot, whom Chopin had advised on piano technique and composition. Delacroix gives an account of staying at Nohant in a letter of 7 June 1842:, question=On what date did Delacroix write a letter based on his visit at Nohant?, answer=7 June 1842, answer_start_index=393, target=None)\n",
      "CPU times: user 8min 12s, sys: 2.99 s, total: 8min 15s\n",
      "Wall time: 8min 15s\n"
     ]
    },
    {
     "name": "stderr",
     "output_type": "stream",
     "text": [
      "\n"
     ]
    }
   ],
   "source": [
    "%%time\n",
    "language = spacy.load(name=\"en_core_web_lg\")\n",
    "\n",
    "train_qas = parse_squad_v1_data(data=train_raw_data, spacy_nlp=language)\n",
    "valid_qas = parse_squad_v1_data(data=valid_raw_data, spacy_nlp=language)\n",
    "print(f\"Length of train qa pairs: {len(train_qas):,}\")\n",
    "print(f\"Length of valid qa pairs: {len(valid_qas):,}\")\n",
    "print(f\"Train example: {train_qas[random.randint(a=0, b=len(train_qas) - 1)]}\")"
   ]
  },
  {
   "cell_type": "code",
   "execution_count": 13,
   "metadata": {
    "id": "bafKgiFv1GHa",
    "pycharm": {
     "name": "#%%\n"
    }
   },
   "outputs": [],
   "source": [
    "def test_answer_start_indexes(qas: List[RawDatasetItem]) -> None:\n",
    "    for qa in tqdm.tqdm(qas):  # type: RawDatasetItem\n",
    "        assert qa.answer.text == qa.context.text[qa.answer_start_index:qa.answer_start_index + len(qa.answer.text)]"
   ]
  },
  {
   "cell_type": "code",
   "execution_count": 14,
   "metadata": {
    "colab": {
     "base_uri": "https://localhost:8080/"
    },
    "id": "3tTDTQod23-g",
    "outputId": "022c7d5f-cfbf-4b12-b4f9-e6882a9cef07",
    "pycharm": {
     "name": "#%%\n"
    }
   },
   "outputs": [
    {
     "name": "stderr",
     "output_type": "stream",
     "text": [
      "100%|██████████| 87599/87599 [00:03<00:00, 24876.04it/s]\n",
      "100%|██████████| 34726/34726 [00:01<00:00, 25926.47it/s]\n"
     ]
    }
   ],
   "source": [
    "test_answer_start_indexes(qas=train_qas)\n",
    "test_answer_start_indexes(qas=valid_qas)"
   ]
  },
  {
   "cell_type": "markdown",
   "metadata": {
    "id": "pxhCfiNY28zs",
    "pycharm": {
     "name": "#%% md\n"
    }
   },
   "source": [
    "***Add targets***"
   ]
  },
  {
   "cell_type": "code",
   "execution_count": 15,
   "metadata": {
    "id": "k4bpqV3S27SQ",
    "pycharm": {
     "name": "#%%\n"
    }
   },
   "outputs": [],
   "source": [
    "def add_targets_to_squad_v1_data(qas: List[RawDatasetItem]) -> None:\n",
    "    for qa in tqdm.tqdm(qas):  # type: RawDatasetItem\n",
    "        for i in range(len(qa.context)):\n",
    "            if qa.context[i].idx == qa.answer_start_index:\n",
    "                answer = qa.context[i:i + len(qa.answer)]\n",
    "                qa.target = Target(start_index=answer[0].i, end_index=answer[-1].i)"
   ]
  },
  {
   "cell_type": "code",
   "execution_count": 16,
   "metadata": {
    "colab": {
     "base_uri": "https://localhost:8080/"
    },
    "id": "waJedA674CCH",
    "outputId": "84672e5a-a68e-473b-8be8-c7a2e10a0698",
    "pycharm": {
     "name": "#%%\n"
    }
   },
   "outputs": [
    {
     "name": "stderr",
     "output_type": "stream",
     "text": [
      "100%|██████████| 87599/87599 [00:02<00:00, 39131.55it/s]\n",
      "100%|██████████| 34726/34726 [00:00<00:00, 38254.46it/s]"
     ]
    },
    {
     "name": "stdout",
     "output_type": "stream",
     "text": [
      "CPU times: user 3.16 s, sys: 10.2 ms, total: 3.17 s\n",
      "Wall time: 3.15 s\n"
     ]
    },
    {
     "name": "stderr",
     "output_type": "stream",
     "text": [
      "\n"
     ]
    }
   ],
   "source": [
    "%%time\n",
    "add_targets_to_squad_v1_data(qas=train_qas)\n",
    "add_targets_to_squad_v1_data(qas=valid_qas)"
   ]
  },
  {
   "cell_type": "code",
   "execution_count": 17,
   "metadata": {
    "id": "lT65eePm4F9w",
    "pycharm": {
     "name": "#%%\n"
    }
   },
   "outputs": [],
   "source": [
    "def is_bad_item(qa: RawDatasetItem) -> bool:\n",
    "    \"\"\"Return True if either the target is None or target indexes don't match the answer. Return False otherwise\"\"\"\n",
    "    if qa.target is None:\n",
    "        return False\n",
    "    return qa.answer.text == qa.context[qa.target.start_index:qa.target.end_index + 1].text"
   ]
  },
  {
   "cell_type": "code",
   "execution_count": 18,
   "metadata": {
    "colab": {
     "base_uri": "https://localhost:8080/"
    },
    "id": "V_nUlM_n4Mgc",
    "outputId": "cde0cb35-dd18-4ba5-f4a4-a63a46ec6db7",
    "pycharm": {
     "name": "#%%\n"
    }
   },
   "outputs": [
    {
     "name": "stdout",
     "output_type": "stream",
     "text": [
      "Length of train qa pairs after filtering out bad qa pairs: 86,676\n",
      "Length of valid qa pairs after filtering out bad qa pairs: 34,364\n",
      "CPU times: user 682 ms, sys: 9 µs, total: 682 ms\n",
      "Wall time: 680 ms\n"
     ]
    }
   ],
   "source": [
    "%%time\n",
    "train_qas = [*filter(is_bad_item, train_qas)]\n",
    "valid_qas = [*filter(is_bad_item, valid_qas)]\n",
    "print(f\"Length of train qa pairs after filtering out bad qa pairs: {len(train_qas):,}\")\n",
    "print(f\"Length of valid qa pairs after filtering out bad qa pairs: {len(valid_qas):,}\")"
   ]
  },
  {
   "cell_type": "code",
   "execution_count": 19,
   "metadata": {
    "id": "qKEhn4eI4P5B",
    "pycharm": {
     "name": "#%%\n"
    }
   },
   "outputs": [],
   "source": [
    "def test_targets(qas: List[RawDatasetItem]) -> None:\n",
    "    for qa in qas:\n",
    "        assert qa.answer.text == qa.context[qa.target.start_index:qa.target.end_index + 1].text"
   ]
  },
  {
   "cell_type": "code",
   "execution_count": 20,
   "metadata": {
    "colab": {
     "base_uri": "https://localhost:8080/"
    },
    "id": "6O_fmDJl5R7V",
    "outputId": "999e5ada-e4ec-44ae-f40c-682b08cbb7b6",
    "pycharm": {
     "name": "#%%\n"
    }
   },
   "outputs": [
    {
     "name": "stdout",
     "output_type": "stream",
     "text": [
      "CPU times: user 645 ms, sys: 34 µs, total: 645 ms\n",
      "Wall time: 643 ms\n"
     ]
    }
   ],
   "source": [
    "%%time\n",
    "test_targets(qas=train_qas)\n",
    "test_targets(qas=valid_qas)"
   ]
  },
  {
   "cell_type": "markdown",
   "metadata": {
    "id": "AkLppZOP5Vju",
    "pycharm": {
     "name": "#%% md\n"
    }
   },
   "source": [
    "***Add features***"
   ]
  },
  {
   "cell_type": "code",
   "execution_count": 21,
   "metadata": {
    "id": "O8Y038pt5VIc",
    "pycharm": {
     "name": "#%%\n"
    }
   },
   "outputs": [],
   "source": [
    "@dataclasses.dataclass\n",
    "class TokenFeature(_UnpackingDataClassMixin):\n",
    "    exact_match: List[bool]\n",
    "    part_of_speech: List[str]\n",
    "    named_entity_type: List[str]\n",
    "    normalized_term_frequency: List[float]\n",
    "\n",
    "\n",
    "@dataclasses.dataclass\n",
    "class DrQARawDatasetItem(RawDatasetItem):\n",
    "    token_feature: TokenFeature = None\n",
    "\n",
    "\n",
    "def add_extra_features_squad_v1(qas: List[RawDatasetItem]) -> List[DrQARawDatasetItem]:\n",
    "    \"\"\"Add extra features: Exact Match, Part-of-Speech, Name Entity Recognition & Normalized Term Frequency\"\"\"\n",
    "    qa_token_features = []\n",
    "    for qa in tqdm.tqdm(qas):  # type: RawDatasetItem\n",
    "        question = [token.text.lower() for token in qa.question]\n",
    "        count_context_tokens = collections.Counter(map(lambda token: token.text.lower(), qa.context))\n",
    "\n",
    "        frequency_context_tokens: Dict[int, int] = {}\n",
    "        for index, token in enumerate(qa.context):  # type: int, Token\n",
    "            frequency_context_tokens[index] = count_context_tokens[token.text.lower()]\n",
    "        norm_frequency_context_tokens = sum(frequency_context_tokens.values())\n",
    "\n",
    "        token_feature = TokenFeature(\n",
    "            exact_match=[qa.context[index].text.lower() in question for index in range(len(qa.context))],\n",
    "            part_of_speech=[qa.context[index].tag_ for index in range(len(qa.context))],\n",
    "            named_entity_type=[qa.context[index].ent_type_ for index in range(len(qa.context))],\n",
    "            normalized_term_frequency=[\n",
    "                frequency_context_tokens[index] / norm_frequency_context_tokens for index in range(len(qa.context))\n",
    "            ]\n",
    "        )\n",
    "\n",
    "        qa_token_features.append(\n",
    "            DrQARawDatasetItem(\n",
    "                id_=qa.id_,\n",
    "                context=qa.context,\n",
    "                question=qa.question,\n",
    "                answer=qa.answer,\n",
    "                answer_start_index=qa.answer_start_index,\n",
    "                target=qa.target,\n",
    "                token_feature=token_feature\n",
    "            )\n",
    "        )\n",
    "\n",
    "    return qa_token_features"
   ]
  },
  {
   "cell_type": "code",
   "execution_count": 22,
   "metadata": {
    "colab": {
     "base_uri": "https://localhost:8080/"
    },
    "id": "jqwcbDgPSmp8",
    "outputId": "8df2a4a8-4c18-478b-980e-16ab98a78e3a",
    "pycharm": {
     "name": "#%%\n"
    }
   },
   "outputs": [
    {
     "name": "stderr",
     "output_type": "stream",
     "text": [
      "100%|██████████| 86676/86676 [00:25<00:00, 3452.10it/s]\n",
      "100%|██████████| 34364/34364 [00:09<00:00, 3510.40it/s]"
     ]
    },
    {
     "name": "stdout",
     "output_type": "stream",
     "text": [
      "CPU times: user 33.5 s, sys: 1.59 s, total: 35.1 s\n",
      "Wall time: 34.9 s\n"
     ]
    },
    {
     "name": "stderr",
     "output_type": "stream",
     "text": [
      "\n"
     ]
    }
   ],
   "source": [
    "%%time\n",
    "train_qas = add_extra_features_squad_v1(qas=train_qas)\n",
    "valid_qas = add_extra_features_squad_v1(qas=valid_qas)"
   ]
  },
  {
   "cell_type": "markdown",
   "metadata": {
    "id": "X8SrKXlfoU5y",
    "pycharm": {
     "name": "#%% md\n"
    }
   },
   "source": [
    "***Build vocabularies***"
   ]
  },
  {
   "cell_type": "code",
   "execution_count": 23,
   "metadata": {
    "pycharm": {
     "name": "#%%\n"
    }
   },
   "outputs": [],
   "source": [
    "class Vocabulary:\n",
    "\n",
    "    def __init__(self, padding_token: str, unknown_token: str):\n",
    "        self.padding_token = padding_token\n",
    "        self.unknown_token = unknown_token\n",
    "\n",
    "        self.vocabulary: List[str] = []\n",
    "        self.word2count: Dict[str, int] = {}\n",
    "        self.word2index: Dict[str, int] = {}\n",
    "        self.index2word: Dict[int, str] = {}\n",
    "\n",
    "    def build(self, data: List[Union[Doc, str]], min_word_frequency: int) -> None:\n",
    "        words = []\n",
    "\n",
    "        type_ = type(data[0])\n",
    "        if type_ == Doc:\n",
    "            for item in data:  # Doc\n",
    "                words += [word.text.lower() for word in item]\n",
    "        elif type_ == str:\n",
    "            words += data\n",
    "        else:\n",
    "            raise TypeError(f\"The type {type_} is not supported!\")\n",
    "\n",
    "        self.word2count = collections.Counter(words)\n",
    "        self.vocabulary = [self.padding_token] + sorted(filter(\n",
    "            lambda word: self.word2count[word] >= min_word_frequency,\n",
    "            self.word2count\n",
    "        )) + [self.unknown_token]  # Ensure that pad token gets index 0 and unknown token gets the las index\n",
    "        self.word2index = {word: index for index, word in enumerate(self.vocabulary)}\n",
    "        self.index2word = {index: word for index, word in enumerate(self.vocabulary)}\n",
    "\n",
    "    def __len__(self) -> int:\n",
    "        return len(self.vocabulary)\n",
    "\n",
    "    def stoi(self, word: str) -> int:\n",
    "        \"\"\"\n",
    "        Return the index of the word in the vocabulary.\n",
    "        Return the index of the unknown token if that word doesn't exist in the vocabulary.\n",
    "        \"\"\"\n",
    "        return self.word2index.get(word, self.word2index[self.unknown_token])\n",
    "\n",
    "    def itos(self, index: int) -> str:\n",
    "        \"\"\"Return the word of the index in the vocabulary.\"\"\"\n",
    "        return self.index2word[index]"
   ]
  },
  {
   "cell_type": "code",
   "execution_count": 24,
   "metadata": {
    "pycharm": {
     "name": "#%%\n"
    }
   },
   "outputs": [
    {
     "name": "stdout",
     "output_type": "stream",
     "text": [
      "Length of id vocabulary: 97,200\n",
      "Length of text vocabulary: 26,884\n",
      "Length of part of speech vocabulary: 52\n",
      "Length of named entity type vocabulary: 21\n",
      "CPU times: user 4.53 s, sys: 290 ms, total: 4.82 s\n",
      "Wall time: 4.81 s\n"
     ]
    }
   ],
   "source": [
    "%%time\n",
    "PADDING_TOKEN = \"<pad>\"\n",
    "UNKNOWN_TOKEN = \"<unk>\"\n",
    "MIN_FREQUENCY = 5\n",
    "\n",
    "ids = [*map(lambda qa: qa.id_, train_qas)] + [*map(lambda qa: qa.id_, valid_qas)]\n",
    "contexts, questions = zip(*map(lambda qa: (qa.context, qa.question), train_qas))\n",
    "part_of_speeches = [*itertools.chain.from_iterable(map(lambda qa: qa.token_feature.part_of_speech, train_qas))]\n",
    "named_entity_types = [*itertools.chain.from_iterable(map(lambda qa: qa.token_feature.named_entity_type, train_qas))]\n",
    "\n",
    "id_vocabulary = Vocabulary(padding_token=PADDING_TOKEN, unknown_token=UNKNOWN_TOKEN)\n",
    "text_vocabulary = Vocabulary(padding_token=PADDING_TOKEN, unknown_token=UNKNOWN_TOKEN)\n",
    "part_of_speech_vocabulary = Vocabulary(padding_token=PADDING_TOKEN, unknown_token=UNKNOWN_TOKEN)\n",
    "named_entity_types_vocabulary = Vocabulary(padding_token=PADDING_TOKEN, unknown_token=UNKNOWN_TOKEN)\n",
    "\n",
    "id_vocabulary.build(data=[*set(ids)], min_word_frequency=0)\n",
    "text_vocabulary.build(data=[*set(contexts + questions)], min_word_frequency=MIN_FREQUENCY)\n",
    "part_of_speech_vocabulary.build(data=[*set(part_of_speeches)], min_word_frequency=0)\n",
    "named_entity_types_vocabulary.build(data=[*set(named_entity_types)], min_word_frequency=0)\n",
    "\n",
    "print(f\"Length of id vocabulary: {len(id_vocabulary):,}\")\n",
    "print(f\"Length of text vocabulary: {len(text_vocabulary):,}\")\n",
    "print(f\"Length of part of speech vocabulary: {len(part_of_speech_vocabulary):,}\")\n",
    "print(f\"Length of named entity type vocabulary: {len(named_entity_types_vocabulary):,}\")"
   ]
  },
  {
   "cell_type": "markdown",
   "metadata": {
    "pycharm": {
     "name": "#%% md\n"
    }
   },
   "source": [
    "***Build datasets***"
   ]
  },
  {
   "cell_type": "code",
   "execution_count": 25,
   "metadata": {
    "id": "iotg02zlAflQ",
    "pycharm": {
     "name": "#%%\n"
    }
   },
   "outputs": [],
   "source": [
    "@dataclasses.dataclass\n",
    "class DrQATensorDatasetItem(_UnpackingDataClassMixin):\n",
    "    id_: torch.LongTensor\n",
    "    context: Union[torch.LongTensor, Tuple[torch.LongTensor, torch.LongTensor]]\n",
    "    question: Union[torch.LongTensor, Tuple[torch.LongTensor, torch.LongTensor]]\n",
    "    target: torch.LongTensor\n",
    "    exact_match: torch.LongTensor\n",
    "    part_of_speech: torch.LongTensor\n",
    "    named_entity_type: torch.LongTensor\n",
    "    normalized_term_frequency: torch.FloatTensor\n",
    "\n",
    "\n",
    "class SquadV1Dataset(Dataset):\n",
    "\n",
    "    def __init__(self, data: List[DrQARawDatasetItem], id_vocab: Vocabulary, text_vocab: Vocabulary,\n",
    "                 pos_vocab: Vocabulary, ner_vocab: Vocabulary):\n",
    "        self.data = data\n",
    "        self.id_vocab = id_vocab\n",
    "        self.pos_vocab = pos_vocab\n",
    "        self.ner_vocab = ner_vocab\n",
    "        self.text_vocab = text_vocab\n",
    "\n",
    "    def __len__(self) -> int:\n",
    "        return len(self.data)\n",
    "\n",
    "    def __getitem__(self, idx) -> DrQATensorDatasetItem:\n",
    "        item: DrQARawDatasetItem = self.data[idx]\n",
    "        id_ = torch.LongTensor([self.id_vocab.stoi(item.id_)])\n",
    "        context = torch.LongTensor([*map(lambda token: self.text_vocab.stoi(token.text.lower()), item.context)])\n",
    "        question = torch.LongTensor([*map(lambda token: self.text_vocab.stoi(token.text.lower()), item.question)])\n",
    "        target = torch.LongTensor([item.target.start_index, item.target.end_index])\n",
    "        exact_match = torch.LongTensor(item.token_feature.exact_match)\n",
    "        part_of_speech = torch.LongTensor(\n",
    "            [*map(lambda token: self.pos_vocab.stoi(token), item.token_feature.part_of_speech)])\n",
    "        named_entity_type = torch.LongTensor(\n",
    "            [*map(lambda token: self.ner_vocab.stoi(token), item.token_feature.named_entity_type)])\n",
    "        normalized_term_frequency = torch.FloatTensor(item.token_feature.normalized_term_frequency)\n",
    "        return DrQATensorDatasetItem(\n",
    "            id_=id_,\n",
    "            context=context,\n",
    "            question=question,\n",
    "            target=target,\n",
    "            exact_match=exact_match,\n",
    "            part_of_speech=part_of_speech,\n",
    "            named_entity_type=named_entity_type,\n",
    "            normalized_term_frequency=normalized_term_frequency\n",
    "        )"
   ]
  },
  {
   "cell_type": "code",
   "execution_count": 26,
   "metadata": {
    "colab": {
     "base_uri": "https://localhost:8080/"
    },
    "id": "XMgSisEt8ARe",
    "outputId": "735861e8-f6c2-49bb-b8e8-7d5da12ef11a",
    "pycharm": {
     "name": "#%%\n"
    }
   },
   "outputs": [
    {
     "name": "stdout",
     "output_type": "stream",
     "text": [
      "id_ shape: torch.Size([1])\n",
      "context shape: torch.Size([142])\n",
      "question shape: torch.Size([14])\n",
      "target shape: torch.Size([2])\n",
      "exact_match shape: torch.Size([142])\n",
      "part_of_speech shape: torch.Size([142])\n",
      "named_entity_type shape: torch.Size([142])\n",
      "normalized_term_frequency shape: torch.Size([142])\n"
     ]
    }
   ],
   "source": [
    "train_dataset = SquadV1Dataset(\n",
    "    data=train_qas,\n",
    "    id_vocab=id_vocabulary,\n",
    "    text_vocab=text_vocabulary,\n",
    "    pos_vocab=part_of_speech_vocabulary,\n",
    "    ner_vocab=named_entity_types_vocabulary\n",
    ")\n",
    "valid_dataset = SquadV1Dataset(\n",
    "    data=valid_qas,\n",
    "    id_vocab=id_vocabulary,\n",
    "    text_vocab=text_vocabulary,\n",
    "    pos_vocab=part_of_speech_vocabulary,\n",
    "    ner_vocab=named_entity_types_vocabulary\n",
    ")\n",
    "\n",
    "train_dataset_item = train_dataset[0]\n",
    "print(f\"id_ shape: {train_dataset_item.id_.shape}\")\n",
    "print(f\"context shape: {train_dataset_item.context.shape}\")\n",
    "print(f\"question shape: {train_dataset_item.question.shape}\")\n",
    "print(f\"target shape: {train_dataset_item.target.shape}\")\n",
    "print(f\"exact_match shape: {train_dataset_item.exact_match.shape}\")\n",
    "print(f\"part_of_speech shape: {train_dataset_item.part_of_speech.shape}\")\n",
    "print(f\"named_entity_type shape: {train_dataset_item.named_entity_type.shape}\")\n",
    "print(f\"normalized_term_frequency shape: {train_dataset_item.normalized_term_frequency.shape}\")"
   ]
  },
  {
   "cell_type": "markdown",
   "metadata": {
    "id": "3ZQaVaHt_MDc",
    "pycharm": {
     "name": "#%% md\n"
    }
   },
   "source": [
    "***Build data loaders***"
   ]
  },
  {
   "cell_type": "code",
   "execution_count": 27,
   "metadata": {
    "id": "cYMYz3-SBYzf",
    "pycharm": {
     "name": "#%%\n"
    }
   },
   "outputs": [],
   "source": [
    "DrQATensorDatasetBatch = DrQATensorDatasetItem\n",
    "\n",
    "def add_padding_and_batch_data(batch: List[DrQATensorDatasetItem], id_vocab: Vocabulary, text_vocab: Vocabulary,\n",
    "                               pos_vocab: Vocabulary, ner_vocab: Vocabulary, include_lengths: bool,\n",
    "                               device: torch.device) -> DrQATensorDatasetBatch:\n",
    "    batch_id = [item.id_ for item in batch]\n",
    "    batch_context = [item.context for item in batch]\n",
    "    batch_question = [item.question for item in batch]\n",
    "    batch_target = [item.target for item in batch]\n",
    "    batch_exact_match = [item.exact_match for item in batch]\n",
    "    batch_part_of_speech = [item.part_of_speech for item in batch]\n",
    "    batch_named_entity_type = [item.named_entity_type for item in batch]\n",
    "    batch_normalized_term_frequency = [item.normalized_term_frequency for item in batch]\n",
    "\n",
    "    length_context, length_question = None, None\n",
    "    if include_lengths:\n",
    "        length_context = torch.LongTensor([context.size(0) for context in batch_context])  # .to(device)\n",
    "        length_question = torch.LongTensor([question.size(0) for question in batch_question])  # .to(device)\n",
    "\n",
    "    batch_padded_id = pad_sequence(batch_id,\n",
    "                                   batch_first=True,\n",
    "                                   padding_value=id_vocab.stoi(id_vocab.padding_token)).to(device)\n",
    "    batch_padded_context = pad_sequence(batch_context,\n",
    "                                        batch_first=True,\n",
    "                                        padding_value=text_vocab.stoi(text_vocab.padding_token)).to(device)\n",
    "    batch_padded_question = pad_sequence(batch_question,\n",
    "                                         batch_first=True,\n",
    "                                         padding_value=text_vocab.stoi(text_vocab.padding_token)).to(device)\n",
    "    batch_padded_target = pad_sequence(batch_target, batch_first=True).to(device)\n",
    "    batch_padded_exact_match = pad_sequence(batch_exact_match, batch_first=True).to(device)\n",
    "    batch_padded_part_of_speech = pad_sequence(batch_part_of_speech,\n",
    "                                               batch_first=True,\n",
    "                                               padding_value=pos_vocab.stoi(pos_vocab.padding_token)).to(device)\n",
    "    batch_padded_normalized_term_frequency = pad_sequence(batch_normalized_term_frequency, batch_first=True).to(device)\n",
    "    batch_padded_named_entity_type = pad_sequence(batch_named_entity_type,\n",
    "                                                  batch_first=True,\n",
    "                                                  padding_value=ner_vocab.stoi(ner_vocab.padding_token)).to(device)\n",
    "    return DrQATensorDatasetBatch(\n",
    "        id_=batch_padded_id,\n",
    "        context=(batch_padded_context, length_context),\n",
    "        question=(batch_padded_question, length_question),\n",
    "        target=batch_padded_target,\n",
    "        exact_match=batch_padded_exact_match,\n",
    "        part_of_speech=batch_padded_part_of_speech,\n",
    "        named_entity_type=batch_padded_named_entity_type,\n",
    "        normalized_term_frequency=batch_padded_normalized_term_frequency\n",
    "    )"
   ]
  },
  {
   "cell_type": "code",
   "execution_count": 28,
   "metadata": {
    "colab": {
     "base_uri": "https://localhost:8080/"
    },
    "id": "Zu2ovPqxA7Ix",
    "outputId": "02a52daa-a8ec-45de-c916-995fe7e860c4",
    "pycharm": {
     "name": "#%%\n"
    }
   },
   "outputs": [
    {
     "name": "stdout",
     "output_type": "stream",
     "text": [
      "IDs: torch.Size([32, 1])\n",
      "Context: torch.Size([32, 253]) torch.Size([32])\n",
      "Question: torch.Size([32, 19]) torch.Size([32])\n",
      "Target: torch.Size([32, 2])\n",
      "Exact match: torch.Size([32, 253])\n",
      "Part of speech: torch.Size([32, 253])\n",
      "Named entity type: torch.Size([32, 253])\n",
      "Normalized term frequency: torch.Size([32, 253])\n"
     ]
    }
   ],
   "source": [
    "BATCH_SIZE = 32\n",
    "\n",
    "collate_function = functools.partial(add_padding_and_batch_data,\n",
    "                                     id_vocab=id_vocabulary,\n",
    "                                     text_vocab=text_vocabulary,\n",
    "                                     pos_vocab=part_of_speech_vocabulary,\n",
    "                                     ner_vocab=named_entity_types_vocabulary,\n",
    "                                     include_lengths=True,\n",
    "                                     device=DEVICE)\n",
    "\n",
    "train_dataloader = DataLoader(train_dataset, batch_size=BATCH_SIZE, collate_fn=collate_function)\n",
    "valid_dataloader = DataLoader(valid_dataset, batch_size=BATCH_SIZE, collate_fn=collate_function)\n",
    "\n",
    "for batch in train_dataloader:  # type: DrQATensorDatasetBatch\n",
    "    print(\"IDs:\", batch.id_.shape)\n",
    "    print(\"Context:\", batch.context[0].shape, batch.context[1].shape)\n",
    "    print(\"Question:\", batch.question[0].shape, batch.question[1].shape)\n",
    "    print(\"Target:\", batch.target.shape)\n",
    "    print(\"Exact match:\", batch.exact_match.shape)\n",
    "    print(\"Part of speech:\", batch.part_of_speech.shape)\n",
    "    print(\"Named entity type:\", batch.named_entity_type.shape)\n",
    "    print(\"Normalized term frequency:\", batch.normalized_term_frequency.shape)\n",
    "    break"
   ]
  },
  {
   "cell_type": "markdown",
   "metadata": {
    "id": "z2O79r_CLvGu",
    "pycharm": {
     "name": "#%% md\n"
    }
   },
   "source": [
    "***Download pretrained GloVe embedding***"
   ]
  },
  {
   "cell_type": "code",
   "execution_count": 29,
   "metadata": {
    "colab": {
     "base_uri": "https://localhost:8080/"
    },
    "id": "hrSXYalOmRak",
    "outputId": "bc303808-01ad-4f75-c884-0a337681eb7b",
    "pycharm": {
     "name": "#%%\n"
    }
   },
   "outputs": [],
   "source": [
    "# %%time\n",
    "# !sudo wget --no-check-certificate \\\n",
    "#     http://nlp.stanford.edu/data/glove.840B.300d.zip \\\n",
    "#     -O ./data/glove.840B.300d.zip\n",
    "# !unzip -q ./data/glove.840B.300d.zip -d ./data\n",
    "# !rm -r ./data/glove.840B.300d.zip"
   ]
  },
  {
   "cell_type": "code",
   "execution_count": 30,
   "metadata": {
    "id": "BL0JZuEmmf5C",
    "pycharm": {
     "name": "#%%\n"
    }
   },
   "outputs": [],
   "source": [
    "def load_glove_embeddings(path: str) -> Dict[str, np.ndarray]:\n",
    "    glove_embeddings = {}\n",
    "    try:\n",
    "        file = open(path, mode='r', encoding=\"utf-8\")\n",
    "        for line in tqdm.tqdm(file):\n",
    "            values = line.split(' ')\n",
    "            glove_embeddings[values[0]] = np.asarray(values[1:], dtype=\"float32\")\n",
    "        return glove_embeddings\n",
    "    except IOError:\n",
    "        raise IOError"
   ]
  },
  {
   "cell_type": "code",
   "execution_count": 31,
   "metadata": {
    "colab": {
     "base_uri": "https://localhost:8080/"
    },
    "id": "BDX8b2EJm1uZ",
    "outputId": "c477bc5e-4b5f-4880-8916-fa53fd7ef300",
    "pycharm": {
     "name": "#%%\n"
    }
   },
   "outputs": [
    {
     "name": "stderr",
     "output_type": "stream",
     "text": [
      "2196017it [03:22, 10861.73it/s]"
     ]
    },
    {
     "name": "stdout",
     "output_type": "stream",
     "text": [
      "CPU times: user 1min 34s, sys: 18.8 s, total: 1min 53s\n",
      "Wall time: 3min 22s\n"
     ]
    },
    {
     "name": "stderr",
     "output_type": "stream",
     "text": [
      "\n"
     ]
    }
   ],
   "source": [
    "%%time\n",
    "glove_embeddings = load_glove_embeddings(path=\"./data/glove.840B.300d.txt\")"
   ]
  },
  {
   "cell_type": "code",
   "execution_count": 105,
   "metadata": {
    "id": "ELVYepbbm7ny",
    "pycharm": {
     "name": "#%%\n"
    }
   },
   "outputs": [],
   "source": [
    "def extract_embeddings(embeddings: Dict[str, np.ndarray], text_vocab: Vocabulary, embedding_size: int) -> Tuple[np.ndarray, List[int], List[int]]:\n",
    "    found_indexes, not_found_indexes = [], []\n",
    "    embedding_matrix = np.zeros((len(text_vocab), embedding_size))\n",
    "    most_common_indexes = []\n",
    "    for index, word in enumerate(text_vocab.vocabulary):\n",
    "        try:\n",
    "            if word in embeddings:\n",
    "                found_indexes.append(index)\n",
    "                embedding_matrix[index] = embeddings[word]\n",
    "            else:\n",
    "                not_found_indexes.append(index)\n",
    "        except KeyError:\n",
    "            raise KeyError\n",
    "        except ValueError:\n",
    "            raise ValueError\n",
    "    return embedding_matrix, found_indexes, not_found_indexes"
   ]
  },
  {
   "cell_type": "code",
   "execution_count": 107,
   "metadata": {
    "colab": {
     "base_uri": "https://localhost:8080/"
    },
    "id": "3CUDosl_n5HA",
    "outputId": "ce6edfc0-2a4e-41ba-dc6d-8ddf703b6501",
    "pycharm": {
     "name": "#%%\n"
    }
   },
   "outputs": [
    {
     "name": "stdout",
     "output_type": "stream",
     "text": [
      "Number of words found in GLoVE embeddings: 25411/26884 = 94.52%\n",
      "Number of words not found in GLoVE embeddings: 1473/26884 = 5.48%\n"
     ]
    }
   ],
   "source": [
    "embedding_matrix, found_indexes, not_found_indexes = extract_embeddings(\n",
    "    embeddings=glove_embeddings,\n",
    "    text_vocab=text_vocabulary,\n",
    "    embedding_size=300\n",
    ")\n",
    "print(f\"Number of words found in GLoVE embeddings: {len(found_indexes)}/{len(text_vocabulary)} = {100 * len(found_indexes) / len(text_vocabulary):.2f}%\")\n",
    "print(f\"Number of words not found in GLoVE embeddings: {len(not_found_indexes)}/{len(text_vocabulary)} = {100 * len(not_found_indexes) / len(text_vocabulary):.2f}%\")\n",
    "np.save(\"./data/GloVe_DrQA.npy\", embedding_matrix)"
   ]
  },
  {
   "cell_type": "code",
   "execution_count": 44,
   "metadata": {},
   "outputs": [],
   "source": [
    "np.save(\"./data/GloVe_DrQA.npy\", embedding_matrix)"
   ]
  },
  {
   "cell_type": "code",
   "execution_count": 37,
   "metadata": {
    "id": "JZzbAOFAmfnT",
    "pycharm": {
     "name": "#%%\n"
    }
   },
   "outputs": [],
   "source": [
    "# Free up the RAM\n",
    "# del glove_embeddings\n",
    "# del embedding_matrix"
   ]
  },
  {
   "cell_type": "markdown",
   "metadata": {
    "id": "bxnYdks-L31E",
    "pycharm": {
     "name": "#%% md\n"
    }
   },
   "source": [
    "## Modeling\n",
    "\n",
    "***Stacked Bidirectional LSTM Layer***"
   ]
  },
  {
   "cell_type": "code",
   "execution_count": 38,
   "metadata": {
    "id": "DoHYvqQQCEGw",
    "pycharm": {
     "name": "#%%\n"
    }
   },
   "outputs": [],
   "source": [
    "class StackedBiLSTMsLayer(nn.Module):\n",
    "\n",
    "    def __init__(self, embedding_size: int, hidden_size: int, n_layers: int, dropout: float):\n",
    "        \"\"\"\n",
    "        :param embedding_size: Size of word embedding.\n",
    "        :param hidden_size: Hidden size of lstm layers.\n",
    "        :param n_layers: Number of layers.\n",
    "        :param dropout: Dropout value in [0, 1).\n",
    "        \"\"\"\n",
    "        super(StackedBiLSTMsLayer, self).__init__()\n",
    "        self.embedding_size = embedding_size\n",
    "        self.hidden_size = hidden_size\n",
    "        self.n_layers = n_layers\n",
    "        self.dropout = nn.Dropout(p=dropout)\n",
    "\n",
    "        self.lstm_layers = nn.ModuleList([\n",
    "            nn.LSTM(\n",
    "                input_size=embedding_size if i == 0 else hidden_size * 2, hidden_size=hidden_size,\n",
    "                batch_first=True, num_layers=n_layers, bidirectional=True\n",
    "            ) for i in range(n_layers)\n",
    "        ])\n",
    "\n",
    "    def __forward_lstm(self, layer: nn.Module, inputs: Tensor, lengths: Tensor) -> Tuple[Tensor, Tensor]:\n",
    "        \"\"\"\n",
    "        :param layer: LSTM layer.\n",
    "        :param inputs: Sequence inputs. FloatTensor[batch_size, seq_len, embedding_size|hidden_size * 2]\n",
    "        :param lengths: Sequence lengths. LongTensor[batch_size,]\n",
    "        :return:\n",
    "            padded_outputs FloatTensor[batch_size, seq_len, hidden_size * 2]\n",
    "            outputs_lengths LongTensor[batch_size,]\n",
    "        \"\"\"\n",
    "        seq_len = inputs.size(1)\n",
    "        inputs = self.dropout(inputs)\n",
    "        packed_inputs = pack_padded_sequence(input=inputs, lengths=lengths, batch_first=True, enforce_sorted=False)\n",
    "        packed_outputs, _ = layer(packed_inputs)\n",
    "        padded_outputs, outputs_lengths = pad_packed_sequence(sequence=packed_outputs,\n",
    "                                                              batch_first=True,\n",
    "                                                              total_length=seq_len)\n",
    "        return padded_outputs, outputs_lengths\n",
    "\n",
    "    def forward(self, embedded_inputs: Tensor, sequence_lengths: Tensor) -> Tensor:\n",
    "        \"\"\"\n",
    "        :param embedded_inputs: Sequence inputs. FloatTensor[batch_size, seq_len, embedding_size]\n",
    "        :param sequence_lengths: Sequence lengths. LongTensor[batch_size,]\n",
    "        :return: FloatTensor[batch_size, sequence_lengths, n_layers * hidden_size * 2]\n",
    "        \"\"\"\n",
    "        outputs, lens = [embedded_inputs], sequence_lengths\n",
    "        for lstm_layer in self.lstm_layers:\n",
    "            out, lens = self.__forward_lstm(layer=lstm_layer, inputs=outputs[-1], lengths=lens)\n",
    "            outputs.append(out)\n",
    "        return self.dropout(torch.cat(outputs[1:], dim=-1))"
   ]
  },
  {
   "cell_type": "markdown",
   "metadata": {
    "id": "5oazq30eW3_T",
    "pycharm": {
     "name": "#%% md\n"
    }
   },
   "source": [
    "***Aligned Question Embedding Layer***"
   ]
  },
  {
   "cell_type": "code",
   "execution_count": 39,
   "metadata": {
    "id": "ATOQC6-pWzq_",
    "pycharm": {
     "name": "#%%\n"
    }
   },
   "outputs": [],
   "source": [
    "class AlignedQuestionEmbeddingLayer(nn.Module):\n",
    "\n",
    "    def __init__(self, embedding_size: int, hidden_size: int):\n",
    "        \"\"\"\n",
    "        Aligned Question Embedding\n",
    "        $$f_{align}(p_i) = \\sum_j a_{i, j}E(q_j)$$\n",
    "        where the attention score $a_{i, j}$ captures the similarity between $p_i$ and each question words $q_j$.\n",
    "        Specifically, $a_{i, j}$ is computed by the dot products between nonlinear mappings of word embeddings:\n",
    "        $$a_{i, j} = \\frac{exp(\\alpha(E(p_i)).\\alpha(E(q_j)))}{\\sum_{j'}exp(\\alpha(E(p_i)).\\alpha(E(q_{j'})))}$$,\n",
    "        and $\\alpha(.)$ is a single dense layer with ReLU non-linearity. Compared to the exact match features, these\n",
    "        features add soft alignments between similar but non-identical words (e.g., car and vehicle)\n",
    "\n",
    "        :param embedding_size: Size of word embedding.\n",
    "        :param hidden_size: Hidden size of the dense layer.\n",
    "        \"\"\"\n",
    "        super(AlignedQuestionEmbeddingLayer, self).__init__()\n",
    "        self.embedding_size = embedding_size\n",
    "        self.hidden_size = hidden_size\n",
    "\n",
    "        self.dense = nn.Linear(in_features=embedding_size, out_features=hidden_size)\n",
    "\n",
    "    def forward(self, context_sequence: Tensor, question_sequence: Tensor, question_mask: Tensor) -> Tensor:\n",
    "        \"\"\"\n",
    "        :param context_sequence: Sequence context inputs. FloatTensor[batch_size, ctx_seq_len, embedding_size]\n",
    "        :param question_sequence: Sequence question inputs. FloatTensor[batch_size, qst_seq_len, embedding_size]\n",
    "        :param question_mask: Mask of question regarding if it is a padding token or not.\n",
    "            IntTensor[batch_size, qst_seq_len]\n",
    "        :return: FloatTensor[batch_size, ctx_seq_len, hidden_size]\n",
    "        \"\"\"\n",
    "        context_logits = F.relu(self.dense(context_sequence))  # [batch_size, ctx_seq_len, hidden_size]\n",
    "        question_logits = F.relu(self.dense(question_sequence))  # [batch_size, qst_seq_len, hidden_size]\n",
    "        scores = torch.bmm(context_logits, question_logits.transpose(-1, -2))  # [batch_size, ctx_seq_len, qst_seq_len]\n",
    "        # Mask scores in order to force attention weights corresponding to padding tokens to be 0.\n",
    "        scores = scores.masked_fill(question_mask.unsqueeze(1) == 0, float(\"-inf\"))\n",
    "        attention_weights = F.softmax(scores, dim=-1)  # [batch_size, ctx_seq_len, qst_seq_len]\n",
    "        return torch.bmm(attention_weights, question_logits)"
   ]
  },
  {
   "cell_type": "markdown",
   "metadata": {
    "id": "ImX8ayztYjsK",
    "pycharm": {
     "name": "#%% md\n"
    }
   },
   "source": [
    "***Question Encoding Layer***"
   ]
  },
  {
   "cell_type": "code",
   "execution_count": 40,
   "metadata": {
    "id": "Whil-FgVYhgy",
    "pycharm": {
     "name": "#%%\n"
    }
   },
   "outputs": [],
   "source": [
    "class QuestionEncodingLayer(nn.Module):\n",
    "    \n",
    "    def __init__(self, embedding_size: int, hidden_size: int, n_layers: int, dropout: float):\n",
    "        \"\"\"\n",
    "        The question encoding consists of applying a recurrent neural network on top of the word embeddings of $q_i$\n",
    "        and combine the resulting hidden units into one single vector: $\\{q_1, ..., q_l\\} \\rightarrow q$. We compute\n",
    "        $q = \\sum_j{b_j q_j}$ where $b_j$ encodes the importance of each question word:\n",
    "        $$b_j = \\frac{exp(w.q_j)}{\\sum_{j'}{exp(w.q_{j'})}}$$\n",
    "        and $w$ is a weight vector to learn\n",
    "\n",
    "        :param embedding_size:\n",
    "        :param hidden_size:\n",
    "        :param n_layers:\n",
    "        :param dropout:\n",
    "        \"\"\"\n",
    "        super(QuestionEncodingLayer, self).__init__()\n",
    "        self.embedding_size = embedding_size\n",
    "        self.hidden_size = hidden_size\n",
    "        self.n_layers = n_layers\n",
    "        self.dropout = nn.Dropout(p=dropout)\n",
    "\n",
    "        self.stacked_bilstm_layers = StackedBiLSTMsLayer(\n",
    "            embedding_size=embedding_size, hidden_size=hidden_size, n_layers=n_layers, dropout=dropout\n",
    "        )\n",
    "        self.dense = nn.Linear(in_features=embedding_size, out_features=1, bias=False)\n",
    "\n",
    "    def __linear_self_attention(self, question_embedded: Tensor, question_mask: Tensor) -> Tensor:\n",
    "        \"\"\"\n",
    "        :param question_embedded: FloatTensor[batch_size, qst_seq_len, embedding_size]\n",
    "        :param question_mask: Mask of question regarding if it is a padding token or not.\n",
    "            IntTensor[batch_size, qst_seq_len]\n",
    "        :return: FloatTensor[batch_size, qst_seq_len]\n",
    "        \"\"\"\n",
    "        scores = self.dense(question_embedded).squeeze(-1)  # [batch_size, qst_seq_len]\n",
    "        scores = scores.masked_fill(question_mask == 0, float(\"-inf\"))\n",
    "        return F.softmax(scores, dim=-1)\n",
    "\n",
    "    def forward(self, question_embedded: Tensor, question_lengths: Tensor, question_mask: Tensor) -> Tensor:\n",
    "        \"\"\"\n",
    "        :param question_embedded: FloatTensor[batch_size, qst_seq_len, embedding_size]\n",
    "        :param question_lengths: Sequence question lengths. LongTensor[batch_size,]\n",
    "        :param question_mask: Mask of question regarding if it is a padding token or not.\n",
    "            IntTensor[batch_size, qst_seq_len]\n",
    "        :return: FloatTensor[batch_size, n_layers * hidden_size * 2]\n",
    "        \"\"\"\n",
    "        lstm_outputs = self.stacked_bilstm_layers(embedded_inputs=question_embedded, sequence_lengths=question_lengths)\n",
    "        # lstm_outputs: [batch_size, qst_seq_len, n_layers * hidden_size * 2]\n",
    "        attention_weights = self.__linear_self_attention(\n",
    "            question_embedded=question_embedded, question_mask=question_mask\n",
    "        )  # [batch_size, qst_seq_len]\n",
    "        return torch.bmm(attention_weights.unsqueeze(1), lstm_outputs).squeeze(1)"
   ]
  },
  {
   "cell_type": "markdown",
   "metadata": {
    "id": "4hFIZnmUaFAu",
    "pycharm": {
     "name": "#%% md\n"
    }
   },
   "source": [
    "***BiLinear Attention Layer***"
   ]
  },
  {
   "cell_type": "code",
   "execution_count": 41,
   "metadata": {
    "id": "JZGOH3IhaEZw",
    "pycharm": {
     "name": "#%%\n"
    }
   },
   "outputs": [],
   "source": [
    "class BiLinearAttentionLayer(nn.Module):\n",
    "    \n",
    "    def __init__(self, context_hidden_size: int, question_hidden_size: int):\n",
    "        \"\"\"\n",
    "        At the paragraph level, the goal is to predict the span of tokens that is most likely the correct answer.\n",
    "        We take the paragraph vectors $\\{p_1, ... , p_m\\}$ and the question vector $q$ as input, and simply train two\n",
    "        classifiers independently for predicting the two ends of the span.\n",
    "        Concretely, we use a bi-linear term to capture the similarity between $p_i$ and $q$ and compute the\n",
    "        probabilities of each token being start and end as:\n",
    "        $$\n",
    "        P_{start}(i) \\propto exp(p_i W_s q) \\\\\n",
    "        P_{end}(i) \\propto exp(p_i W_e q)\n",
    "        $$\n",
    "\n",
    "        :param context_hidden_size:\n",
    "        :param question_hidden_size:\n",
    "        \"\"\"\n",
    "        super(BiLinearAttentionLayer, self).__init__()\n",
    "        self.context_hidden_size = context_hidden_size\n",
    "        self.question_hidden_size = question_hidden_size\n",
    "\n",
    "        self.dense = nn.Linear(in_features=question_hidden_size, out_features=context_hidden_size, bias=False)\n",
    "\n",
    "    def forward(self, context_encoded: Tensor, question_encoded: Tensor, context_mask: Tensor) -> Tensor:\n",
    "        \"\"\"\n",
    "        :param context_encoded: FloatTensor[batch_size, ctx_seq_len, ctx_hid_size]\n",
    "        :param question_encoded: FloatTensor[batch_size, qst_seq_len]\n",
    "        :param context_mask: IntTensor[batch_size, ctx_seq_len]\n",
    "        :return FloatTensor[batch_size, ctx_seq_len]\n",
    "        \"\"\"\n",
    "        question_encoded = self.dense(question_encoded)  # [batch_size, ctx_hid_size]\n",
    "        scores = torch.bmm(context_encoded, question_encoded.unsqueeze(-1)).squeeze(-1)  # [batch_size, ctx_seq_len]\n",
    "        return scores.masked_fill(context_mask == 0, float(\"-inf\"))"
   ]
  },
  {
   "cell_type": "markdown",
   "metadata": {
    "id": "tzrmk6D7agHH",
    "pycharm": {
     "name": "#%% md\n"
    }
   },
   "source": [
    "***Document reader Question Answering Model***"
   ]
  },
  {
   "cell_type": "code",
   "execution_count": 110,
   "metadata": {
    "id": "qlZlTFXOae_o",
    "pycharm": {
     "name": "#%%\n"
    }
   },
   "outputs": [],
   "source": [
    "class BaseModel(nn.Module):\n",
    "\n",
    "    def __init__(self):\n",
    "        super(BaseModel, self).__init__()\n",
    "\n",
    "    def make_sequence_mask(self, input_sequence: Tensor) -> Tensor:\n",
    "        return input_sequence != self.padding_index\n",
    "    \n",
    "    def load_word_embeddings(self, embedding_matrix: np.ndarray, tune: bool, found_indexes: List[int]):\n",
    "        def tune_embeddings(grad, word_indexes: List[int]):\n",
    "            grad[word_indexes] = 0\n",
    "            return grad\n",
    "\n",
    "        self.embedding_layer.weight = nn.Parameter(torch.FloatTensor(embedding_matrix))\n",
    "        if tune:\n",
    "            self.embedding_layer.weight.register_hook(\n",
    "                functools.partial(tune_embeddings, word_indexes=found_indexes)\n",
    "            )  # Only fine-tune the words that aren't present in embeddings matrix\n",
    "\n",
    "    @staticmethod\n",
    "    def decode(starts: Tensor, ends: Tensor) -> Tuple[List[int], List[int], List[float]]:\n",
    "        \"\"\"\n",
    "        :param starts: FloatTensor[batch_size, ctx_seq_len]\n",
    "        :param ends: FloatTensor[batch_size, ctx_seq_len]\n",
    "        :return: Tuple[List[int], List[int], List[float]]\n",
    "        \"\"\"\n",
    "        start_indexes, end_indexes, predicted_probabilities = [], [], []\n",
    "        for i in range(starts.size(0)):\n",
    "            probabilities = torch.ger(starts[i], ends[i])  # [ctx_seq_len, ctx_seq_len]\n",
    "            probability, index = torch.topk(probabilities.view(-1), k=1)\n",
    "\n",
    "            start_indexes.append(index.tolist()[0] // probabilities.size(0))\n",
    "            end_indexes.append(index.tolist()[0] % probabilities.size(1))\n",
    "\n",
    "            predicted_probabilities.append(probability.tolist()[0])\n",
    "\n",
    "        return start_indexes, end_indexes, predicted_probabilities\n",
    "\n",
    "    def count_parameters(self) -> int:\n",
    "        return sum(parameter.numel() for parameter in self.parameters() if parameter.requires_grad)\n",
    "\n",
    "\n",
    "class DrQA(BaseModel):\n",
    "    \n",
    "    def __init__(self, vocabulary_size: int, embedding_size, n_extra_features: int, hidden_size: int, n_layers: int,\n",
    "                 dropout: float, padding_index: int):\n",
    "        \"\"\"\n",
    "        During prediction, we choose the best span from token $i$ to token $i'$ such that $i ≤ i' ≤ i + 15$ and\n",
    "        $P_{start}(i)×P_{end}(i')$ is maximized. To make score compatible across paragraphs in one or several retrieved\n",
    "        documents, we use the un-normalized exponential and take argmax over all considered paragraph spans for our\n",
    "        final prediction.\n",
    "\n",
    "        :param vocabulary_size:\n",
    "        :param embedding_size:\n",
    "        :param n_extra_features:\n",
    "        :param hidden_size:\n",
    "        :param n_layers:\n",
    "        :param dropout:\n",
    "        :param padding_index:\n",
    "        \"\"\"\n",
    "        super(DrQA, self).__init__()\n",
    "        self.vocabulary_size = vocabulary_size\n",
    "        self.embedding_size = embedding_size\n",
    "        self.n_extra_features = n_extra_features\n",
    "        self.hidden_size = hidden_size\n",
    "        self.n_layers = n_layers\n",
    "        self.dropout = nn.Dropout(p=dropout)\n",
    "        self.padding_index = padding_index\n",
    "\n",
    "        self.embedding_layer = nn.Embedding(\n",
    "            num_embeddings=vocabulary_size,\n",
    "            embedding_dim=embedding_size,\n",
    "            padding_idx=padding_index\n",
    "        )\n",
    "        self.aligned_question_embedding_layer = AlignedQuestionEmbeddingLayer(\n",
    "            embedding_size=embedding_size,\n",
    "            hidden_size=hidden_size\n",
    "        )\n",
    "        self.context_lstm_layer = StackedBiLSTMsLayer(\n",
    "            embedding_size=embedding_size + hidden_size + n_extra_features,\n",
    "            hidden_size=hidden_size,\n",
    "            n_layers=n_layers,\n",
    "            dropout=dropout\n",
    "        )\n",
    "        self.question_encoding_layer = QuestionEncodingLayer(\n",
    "            embedding_size=embedding_size,\n",
    "            hidden_size=hidden_size,\n",
    "            dropout=dropout,\n",
    "            n_layers=n_layers\n",
    "        )\n",
    "        self.bilinear_attention_start_layer = BiLinearAttentionLayer(\n",
    "            context_hidden_size=hidden_size * n_layers * 2,\n",
    "            question_hidden_size=hidden_size * n_layers * 2\n",
    "        )\n",
    "        self.bilinear_attention_end_layer = BiLinearAttentionLayer(\n",
    "            context_hidden_size=hidden_size * n_layers * 2,\n",
    "            question_hidden_size=hidden_size * n_layers * 2\n",
    "        )\n",
    "\n",
    "    def forward(self, batch: DrQATensorDatasetBatch) -> Tuple[Tensor, Tensor]:\n",
    "        \"\"\"\n",
    "        :param batch: DrQATensorDatasetBatch\n",
    "        :return: Tuple[FloatTensor[batch_size, ctx_seq_len], FloatTensor[batch_size, ctx_seq_len]]\n",
    "        \"\"\"\n",
    "        context_sequence = batch.context[0]  # [batch_size, ctx_seq_len]\n",
    "        context_lengths = batch.context[1]  # [batch_size,]\n",
    "        question_sequence = batch.question[0]  # [batch_size, qst_seq_len]\n",
    "        question_lengths = batch.question[1]  # [batch_size,]\n",
    "        exact_matches = batch.exact_match  # [batch_size, ctx_seq_len]\n",
    "        part_of_speeches = batch.part_of_speech  # [batch_size, ctx_seq_len]\n",
    "        named_entity_types = batch.named_entity_type  # [batch_size, ctx_seq_len]\n",
    "        normalized_term_frequencies = batch.normalized_term_frequency  # [batch_size, ctx_seq_len]\n",
    "\n",
    "        context_mask = self.make_sequence_mask(input_sequence=context_sequence)  # [batch_size, ctx_seq_len]\n",
    "        question_mask = self.make_sequence_mask(input_sequence=question_sequence)  # [batch_size, qst_seq_len]\n",
    "\n",
    "        context_embedded = self.embedding_layer(context_sequence)  # [batch_size, ctx_seq_len, embedding_size]\n",
    "        question_embedded = self.embedding_layer(question_sequence)  # [batch_size, qst_seq_len, embedding_size]\n",
    "\n",
    "        context_aligned = self.aligned_question_embedding_layer(\n",
    "            context_sequence=context_embedded,\n",
    "            question_sequence=question_embedded,\n",
    "            question_mask=question_mask\n",
    "        )  # [batch_size, ctx_len, embedding_size]\n",
    "\n",
    "        context_inputs = torch.cat([\n",
    "            context_aligned, context_embedded, exact_matches.unsqueeze(-1), part_of_speeches.unsqueeze(-1),\n",
    "            named_entity_types.unsqueeze(-1), normalized_term_frequencies.unsqueeze(-1)\n",
    "        ], dim=-1)  # [batch_size, ctx_seq_len, embedding_size + hidden_size + 4]\n",
    "\n",
    "        context_encoded = self.context_lstm_layer(\n",
    "            embedded_inputs=context_inputs,\n",
    "            sequence_lengths=context_lengths\n",
    "        )  # [batch_size, ctx_seq_len, n_layers * hidden_size * 2]\n",
    "        question_encoded = self.question_encoding_layer(\n",
    "            question_embedded=question_embedded,\n",
    "            question_lengths=question_lengths,\n",
    "            question_mask=question_mask\n",
    "        )  # [batch_size, n_layers * hidden_size * 2]\n",
    "\n",
    "        start_scores = self.bilinear_attention_start_layer(\n",
    "            context_encoded=context_encoded,\n",
    "            question_encoded=question_encoded,\n",
    "            context_mask=context_mask\n",
    "        )  # [batch_size, ctx_seq_len]\n",
    "        end_scores = self.bilinear_attention_end_layer(\n",
    "            context_encoded=context_encoded,\n",
    "            question_encoded=question_encoded,\n",
    "            context_mask=context_mask\n",
    "        )  # [batch_size, ctx_seq_len]\n",
    "        return start_scores, end_scores"
   ]
  },
  {
   "cell_type": "markdown",
   "metadata": {
    "id": "x575iXlz3w4m",
    "pycharm": {
     "name": "#%% md\n"
    }
   },
   "source": [
    "***Training routines***"
   ]
  },
  {
   "cell_type": "code",
   "execution_count": 111,
   "metadata": {
    "id": "31k5BZf43uV4",
    "pycharm": {
     "name": "#%%\n"
    }
   },
   "outputs": [],
   "source": [
    "class AverageMeter:\n",
    "    # TODO\n",
    "    #  Add typing\n",
    "\n",
    "    def __init__(self, keys: List[str]):\n",
    "        self.keys = keys\n",
    "        self.value = {key: 0. for key in keys}\n",
    "        self.sum = {key: 0. for key in keys}\n",
    "        self.count = {key: 0. for key in keys}\n",
    "        self.average = {key: 0. for key in keys}\n",
    "\n",
    "    def reset(self):\n",
    "        self.value = {key: 0. for key in self.keys}\n",
    "        self.sum = {key: 0. for key in self.keys}\n",
    "        self.count = {key: 0. for key in self.keys}\n",
    "        self.average = {key: 0. for key in self.keys}\n",
    "\n",
    "    def update(self, key: str, value: float, n: int = 1):\n",
    "        self.value[key] = value\n",
    "        self.sum[key] += value * n\n",
    "        self.count[key] += n\n",
    "        self.average[key] = self.sum[key] / self.count[key]"
   ]
  },
  {
   "cell_type": "code",
   "execution_count": 112,
   "metadata": {
    "id": "qSmh2GmU4KXH",
    "pycharm": {
     "name": "#%%\n"
    }
   },
   "outputs": [],
   "source": [
    "def normalize(answer: str) -> str:\n",
    "    \"\"\"Performs a series of cleaning steps on the ground truth and predicted answer.\"\"\"\n",
    "\n",
    "    def remove_articles(text: str) -> str:\n",
    "        return re.sub(r'\\b(a|an|the)\\b', ' ', text)\n",
    "\n",
    "    def white_space_fix(text: str) -> str:\n",
    "        return ' '.join(text.split())\n",
    "\n",
    "    def remove_punc(text: str) -> str:\n",
    "        return ''.join(ch for ch in text if ch not in set(string.punctuation))\n",
    "\n",
    "    def lower(text: str) -> str:\n",
    "        return text.lower()\n",
    "\n",
    "    return white_space_fix(remove_articles(remove_punc(lower(answer))))"
   ]
  },
  {
   "cell_type": "code",
   "execution_count": 113,
   "metadata": {
    "id": "hi2JHYTX6F6A",
    "pycharm": {
     "name": "#%%\n"
    }
   },
   "outputs": [],
   "source": [
    "def get_scores(prediction: str, ground_truth: str) -> Tuple[float, float]:\n",
    "    prediction, ground_truth = normalize(prediction), normalize(ground_truth)\n",
    "    prediction_tokens, ground_truth_tokens = prediction.split(), ground_truth.split()\n",
    "\n",
    "    common = collections.Counter(prediction_tokens) & collections.Counter(ground_truth_tokens)\n",
    "    number_same = sum(common.values())\n",
    "    f1_score = 0\n",
    "    if number_same != 0:\n",
    "        precision = 1.0 * number_same / len(prediction_tokens)\n",
    "        recall = 1.0 * number_same / len(ground_truth_tokens)\n",
    "        f1_score = (2 * precision * recall) / (precision + recall)\n",
    "\n",
    "    return prediction == ground_truth, f1_score"
   ]
  },
  {
   "cell_type": "code",
   "execution_count": 114,
   "metadata": {
    "id": "tv9kxaI34_Oo",
    "pycharm": {
     "name": "#%%\n"
    }
   },
   "outputs": [],
   "source": [
    "def max_metrics_over_ground_truths(prediction: str, ground_truths: List[str]) -> Tuple[float, float]:\n",
    "    scores = [get_scores(prediction, ground_truth) for ground_truth in ground_truths]\n",
    "    em_score = max(scores, key=lambda score: score[0])[0]\n",
    "    f1_score = max(scores, key=lambda score: score[1])[1]\n",
    "    return em_score, f1_score"
   ]
  },
  {
   "cell_type": "code",
   "execution_count": 115,
   "metadata": {
    "id": "KmxMG01B5JEx",
    "pycharm": {
     "name": "#%%\n"
    }
   },
   "outputs": [],
   "source": [
    "def metrics(predictions: Dict[str, str], qas: List[RawDatasetItem]) -> Tuple[float, float]:\n",
    "    ground_truths = collections.defaultdict(lambda: [])\n",
    "    for qa in qas:\n",
    "        if qa.id_ in predictions:\n",
    "            ground_truths[qa.id_].append(qa.answer.text)\n",
    "\n",
    "    em_scores, f1_scores, total = [], [], 0\n",
    "    for id_ in predictions:\n",
    "        em_score, f1_score = max_metrics_over_ground_truths(predictions[id_], ground_truths[id_])\n",
    "        em_scores.append(em_score)\n",
    "        f1_scores.append(f1_score)\n",
    "        total += 1\n",
    "\n",
    "    em_score = 100.0 * sum(em_scores) / total\n",
    "    f1_score = 100.0 * sum(f1_scores) / total\n",
    "    return em_score, f1_score"
   ]
  },
  {
   "cell_type": "code",
   "execution_count": 116,
   "metadata": {
    "id": "GHUdYB6f-NRJ",
    "pycharm": {
     "name": "#%%\n"
    }
   },
   "outputs": [],
   "source": [
    "class Trainer:\n",
    "\n",
    "    def __init__(self, model: nn.Module, optimizer: optim.Optimizer, criterion: nn.Module, id_vocab: Vocabulary,\n",
    "                 text_vocab: Vocabulary, model_path: str):\n",
    "        self.model = model\n",
    "        self.optimizer = optimizer\n",
    "        self.criterion = criterion\n",
    "        self.id_vocab = id_vocab\n",
    "        self.text_vocab = text_vocab\n",
    "        self.model_path = model_path\n",
    "\n",
    "    def get_predictions(self, batch: DrQATensorDatasetBatch, starts: Tensor, ends: Tensor) -> Dict[str, str]:\n",
    "        start_indexes, end_indexes, _ = self.model.decode(\n",
    "            starts=F.softmax(starts, dim=-1),\n",
    "            ends=F.softmax(ends, dim=-1)\n",
    "        )\n",
    "\n",
    "        predictions = {}\n",
    "        for index in range(len(start_indexes)):\n",
    "            id_ = self.id_vocab.itos(batch.id_[index].item())\n",
    "            prediction = batch.context[0][index][start_indexes[index]:end_indexes[index] + 1]\n",
    "            predictions[id_] = ' '.join([self.text_vocab.itos(ind.item()) for ind in prediction])\n",
    "\n",
    "        return predictions\n",
    "\n",
    "    def compute_metrics_and_update_tracker(self, batch: DrQATensorDatasetBatch, starts: Tensor, ends: Tensor,\n",
    "                                           tracker: AverageMeter, loader: DataLoader) -> None:\n",
    "        # TODO\n",
    "        #   Make batch type general not specific since the trainer will be use for different types of models\n",
    "        predictions = self.get_predictions(batch=batch, starts=starts, ends=ends)\n",
    "        em, f1 = metrics(predictions=predictions, qas=loader.dataset.data)\n",
    "\n",
    "        tracker.update(key=\"em\", value=em)\n",
    "        tracker.update(key=\"f1\", value=f1)\n",
    "\n",
    "    def train_step(self, loader: DataLoader, epoch: int, gradient_clipping: float) -> AverageMeter:\n",
    "        tracker = AverageMeter(keys=[\"loss\", \"em\", \"f1\"])\n",
    "        self.model.train()\n",
    "        pbar = tqdm.tqdm(enumerate(loader), total=len(loader))\n",
    "        for index, batch in pbar:  # type: int, DrQATensorDatasetBatch\n",
    "            self.optimizer.zero_grad()\n",
    "            starts, ends = self.model(batch)  # [batch_size, ctx_len]\n",
    "            loss = self.criterion(starts, batch.target[:, 0]) + self.criterion(ends, batch.target[:, 1])\n",
    "            loss.backward()\n",
    "            if gradient_clipping is not None:\n",
    "                nn.utils.clip_grad_norm_(parameters=self.model.parameters(), max_norm=gradient_clipping)\n",
    "            self.optimizer.step()\n",
    "            tracker.update(key=\"loss\", value=loss.item())\n",
    "            self.compute_metrics_and_update_tracker(\n",
    "                batch=batch,\n",
    "                starts=starts,\n",
    "                ends=ends,\n",
    "                tracker=tracker,\n",
    "                loader=loader\n",
    "            )\n",
    "            pbar.set_description(\n",
    "                f\"Epoch: {epoch + 1:03d} |       loss: {tracker.average['loss']:6.3f} |       \"\n",
    "                f\"em: {tracker.average['em']:6.3f} |       f1: {tracker.average['f1']:6.3f}\"\n",
    "            )\n",
    "            break\n",
    "        return tracker\n",
    "\n",
    "    def validate(self, loader: DataLoader) -> AverageMeter:\n",
    "        tracker = AverageMeter(keys=[\"loss\", \"em\", \"f1\"])\n",
    "        self.model.eval()\n",
    "        with torch.no_grad():\n",
    "            pbar = tqdm.tqdm(enumerate(loader), total=len(loader))\n",
    "            for _, batch in pbar:  # type: int, DrQATensorDatasetBatch\n",
    "                starts, ends = self.model(batch)  # [batch_size, ctx_len]\n",
    "                loss = self.criterion(starts, batch.target[:, 0]) + self.criterion(ends, batch.target[:, 1])\n",
    "                tracker.update(key=\"loss\", value=loss.item())\n",
    "                self.compute_metrics_and_update_tracker(\n",
    "                    batch=batch,\n",
    "                    starts=starts,\n",
    "                    ends=ends,\n",
    "                    tracker=tracker,\n",
    "                    loader=loader\n",
    "                )\n",
    "                pbar.set_description(\n",
    "                    f\"           | valid_loss: {tracker.average['loss']:6.3f} | valid_em: {tracker.average['em']:6.3f} \"\n",
    "                    f\"| valid_f1: {tracker.average['f1']:6.3f}\"\n",
    "                )\n",
    "                break\n",
    "        return tracker\n",
    "\n",
    "    def train(self, train_loader: DataLoader, valid_loader: DataLoader, n_epochs: int, gradient_clipping: float) \\\n",
    "            -> Dict[str, List[float]]:\n",
    "        history = {\n",
    "            \"loss\": [], \"valid_loss\": [],\n",
    "            \"em\": [], \"valid_em\": [],\n",
    "            \"f1\": [], \"valid_f1\": []\n",
    "        }\n",
    "        # best_loss = float('inf')\n",
    "        for epoch in range(n_epochs):\n",
    "            print(\n",
    "                \"|----------------------------------------------------------------------------------------------------\"\n",
    "                \"---------|\"\n",
    "            )\n",
    "            train_tracker = self.train_step(loader=train_loader, epoch=epoch, gradient_clipping=gradient_clipping)\n",
    "            valid_tracker = self.validate(loader=valid_loader)\n",
    "\n",
    "            history[\"loss\"].append(train_tracker.average[\"loss\"])\n",
    "            history[\"valid_loss\"].append(valid_tracker.average[\"loss\"])\n",
    "            history[\"em\"].append(train_tracker.average[\"em\"])\n",
    "            history[\"valid_em\"].append(valid_tracker.average[\"loss\"])\n",
    "            history[\"f1\"].append(train_tracker.average[\"f1\"])\n",
    "            history[\"valid_f1\"].append(valid_tracker.average[\"f1\"])\n",
    "\n",
    "        return history"
   ]
  },
  {
   "cell_type": "markdown",
   "metadata": {
    "id": "kFzM-vWUAov9",
    "pycharm": {
     "name": "#%% md\n"
    }
   },
   "source": [
    "***Train the model***"
   ]
  },
  {
   "cell_type": "code",
   "execution_count": 117,
   "metadata": {
    "id": "-YCmJQLhAlqo",
    "pycharm": {
     "name": "#%%\n"
    }
   },
   "outputs": [],
   "source": [
    "N_LAYERS = 1\n",
    "EMBED_SIZE = 300\n",
    "HIDDEN_SIZE = 64\n",
    "DROPOUT = 0.\n",
    "N_EPOCHS = 100\n",
    "GRAD_CLIP = None\n",
    "LEARNING_RATE = 3e-4"
   ]
  },
  {
   "cell_type": "code",
   "execution_count": 119,
   "metadata": {
    "colab": {
     "base_uri": "https://localhost:8080/"
    },
    "id": "ersGVmFxBwAV",
    "outputId": "f5c11bc4-a4bb-49cb-8fc1-c472323ec253",
    "pycharm": {
     "name": "#%%\n"
    }
   },
   "outputs": [
    {
     "name": "stdout",
     "output_type": "stream",
     "text": [
      "Number of parameters of the model: 8,527,132\n",
      "DrQA(\n",
      "  (dropout): Dropout(p=0.0, inplace=False)\n",
      "  (embedding_layer): Embedding(26884, 300, padding_idx=0)\n",
      "  (aligned_question_embedding_layer): AlignedQuestionEmbeddingLayer(\n",
      "    (dense): Linear(in_features=300, out_features=64, bias=True)\n",
      "  )\n",
      "  (context_lstm_layer): StackedBiLSTMsLayer(\n",
      "    (dropout): Dropout(p=0.0, inplace=False)\n",
      "    (lstm_layers): ModuleList(\n",
      "      (0): LSTM(368, 64, batch_first=True, bidirectional=True)\n",
      "    )\n",
      "  )\n",
      "  (question_encoding_layer): QuestionEncodingLayer(\n",
      "    (dropout): Dropout(p=0.0, inplace=False)\n",
      "    (stacked_bilstm_layers): StackedBiLSTMsLayer(\n",
      "      (dropout): Dropout(p=0.0, inplace=False)\n",
      "      (lstm_layers): ModuleList(\n",
      "        (0): LSTM(300, 64, batch_first=True, bidirectional=True)\n",
      "      )\n",
      "    )\n",
      "    (dense): Linear(in_features=300, out_features=1, bias=False)\n",
      "  )\n",
      "  (bilinear_attention_start_layer): BiLinearAttentionLayer(\n",
      "    (dense): Linear(in_features=128, out_features=128, bias=False)\n",
      "  )\n",
      "  (bilinear_attention_end_layer): BiLinearAttentionLayer(\n",
      "    (dense): Linear(in_features=128, out_features=128, bias=False)\n",
      "  )\n",
      ")\n"
     ]
    }
   ],
   "source": [
    "padding_token_index = text_vocabulary.stoi(word=text_vocabulary.padding_token)\n",
    "model = DrQA(\n",
    "    vocabulary_size=len(text_vocabulary),\n",
    "    embedding_size=EMBED_SIZE,\n",
    "    n_extra_features=4,\n",
    "    hidden_size=HIDDEN_SIZE,\n",
    "    n_layers=N_LAYERS,\n",
    "    dropout=DROPOUT,\n",
    "    padding_index=padding_token_index\n",
    ")\n",
    "model.load_word_embeddings(embedding_matrix=embedding_matrix, tune=True, found_indexes=found_indexes)\n",
    "model.to(DEVICE)\n",
    "optimizer = optim.Adam(params=model.parameters(), lr=LEARNING_RATE)\n",
    "criterion = nn.CrossEntropyLoss(ignore_index=padding_token_index)\n",
    "print(f'Number of parameters of the model: {sum(p.numel() for p in model.parameters() if p.requires_grad):,}')\n",
    "print(model)\n",
    "trainer = Trainer(\n",
    "    model=model,\n",
    "    optimizer=optimizer,\n",
    "    criterion=criterion,\n",
    "    id_vocab=id_vocabulary,\n",
    "    text_vocab=text_vocabulary,\n",
    "    model_path=\"./checkpoints/drqa.pth\"\n",
    ")"
   ]
  },
  {
   "cell_type": "code",
   "execution_count": 120,
   "metadata": {
    "colab": {
     "base_uri": "https://localhost:8080/"
    },
    "id": "giP1Ov5_DTGr",
    "outputId": "aa776c3f-80f1-4c9f-9abb-37e38eb2841c",
    "pycharm": {
     "name": "#%%\n"
    },
    "scrolled": true
   },
   "outputs": [
    {
     "name": "stdout",
     "output_type": "stream",
     "text": [
      "|-------------------------------------------------------------------------------------------------------------|\n"
     ]
    },
    {
     "name": "stderr",
     "output_type": "stream",
     "text": [
      "Epoch: 001 |       loss: 10.030 |       em:  0.000 |       f1:  3.692:   0%|          | 0/2709 [00:00<?, ?it/s]\n",
      "           | valid_loss:  9.910 | valid_em:  0.000 | valid_f1:  0.575:   0%|          | 0/1074 [00:00<?, ?it/s]\n"
     ]
    },
    {
     "name": "stdout",
     "output_type": "stream",
     "text": [
      "|-------------------------------------------------------------------------------------------------------------|\n"
     ]
    },
    {
     "name": "stderr",
     "output_type": "stream",
     "text": [
      "Epoch: 002 |       loss:  9.963 |       em:  0.000 |       f1:  8.128:   0%|          | 0/2709 [00:00<?, ?it/s]\n",
      "           | valid_loss:  9.885 | valid_em:  0.000 | valid_f1:  2.598:   0%|          | 0/1074 [00:00<?, ?it/s]\n"
     ]
    },
    {
     "name": "stdout",
     "output_type": "stream",
     "text": [
      "|-------------------------------------------------------------------------------------------------------------|\n"
     ]
    },
    {
     "name": "stderr",
     "output_type": "stream",
     "text": [
      "Epoch: 003 |       loss:  9.897 |       em:  0.000 |       f1:  7.515:   0%|          | 0/2709 [00:00<?, ?it/s]\n",
      "           | valid_loss:  9.861 | valid_em:  0.000 | valid_f1:  7.310:   0%|          | 0/1074 [00:00<?, ?it/s]\n"
     ]
    },
    {
     "name": "stdout",
     "output_type": "stream",
     "text": [
      "|-------------------------------------------------------------------------------------------------------------|\n"
     ]
    },
    {
     "name": "stderr",
     "output_type": "stream",
     "text": [
      "Epoch: 004 |       loss:  9.832 |       em:  0.000 |       f1:  8.944:   0%|          | 0/2709 [00:00<?, ?it/s]\n",
      "           | valid_loss:  9.838 | valid_em:  0.000 | valid_f1:  5.556:   0%|          | 0/1074 [00:00<?, ?it/s]\n"
     ]
    },
    {
     "name": "stdout",
     "output_type": "stream",
     "text": [
      "|-------------------------------------------------------------------------------------------------------------|\n"
     ]
    },
    {
     "name": "stderr",
     "output_type": "stream",
     "text": [
      "Epoch: 005 |       loss:  9.767 |       em:  3.125 |       f1: 11.314:   0%|          | 0/2709 [00:00<?, ?it/s]\n",
      "           | valid_loss:  9.815 | valid_em:  0.000 | valid_f1:  5.556:   0%|          | 0/1074 [00:00<?, ?it/s]\n"
     ]
    },
    {
     "name": "stdout",
     "output_type": "stream",
     "text": [
      "|-------------------------------------------------------------------------------------------------------------|\n"
     ]
    },
    {
     "name": "stderr",
     "output_type": "stream",
     "text": [
      "Epoch: 006 |       loss:  9.700 |       em:  3.125 |       f1: 13.709:   0%|          | 0/2709 [00:00<?, ?it/s]\n",
      "           | valid_loss:  9.793 | valid_em:  0.000 | valid_f1:  5.556:   0%|          | 0/1074 [00:00<?, ?it/s]\n"
     ]
    },
    {
     "name": "stdout",
     "output_type": "stream",
     "text": [
      "|-------------------------------------------------------------------------------------------------------------|\n"
     ]
    },
    {
     "name": "stderr",
     "output_type": "stream",
     "text": [
      "Epoch: 007 |       loss:  9.631 |       em:  3.125 |       f1: 13.285:   0%|          | 0/2709 [00:00<?, ?it/s]\n",
      "           | valid_loss:  9.770 | valid_em:  0.000 | valid_f1:  5.556:   0%|          | 0/1074 [00:00<?, ?it/s]\n"
     ]
    },
    {
     "name": "stdout",
     "output_type": "stream",
     "text": [
      "|-------------------------------------------------------------------------------------------------------------|\n"
     ]
    },
    {
     "name": "stderr",
     "output_type": "stream",
     "text": [
      "Epoch: 008 |       loss:  9.559 |       em:  3.125 |       f1: 13.584:   0%|          | 0/2709 [00:00<?, ?it/s]\n",
      "           | valid_loss:  9.748 | valid_em:  0.000 | valid_f1:  5.556:   0%|          | 0/1074 [00:00<?, ?it/s]\n"
     ]
    },
    {
     "name": "stdout",
     "output_type": "stream",
     "text": [
      "|-------------------------------------------------------------------------------------------------------------|\n"
     ]
    },
    {
     "name": "stderr",
     "output_type": "stream",
     "text": [
      "Epoch: 009 |       loss:  9.485 |       em:  0.000 |       f1: 11.436:   0%|          | 0/2709 [00:00<?, ?it/s]\n",
      "           | valid_loss:  9.726 | valid_em:  0.000 | valid_f1:  5.556:   0%|          | 0/1074 [00:00<?, ?it/s]\n"
     ]
    },
    {
     "name": "stdout",
     "output_type": "stream",
     "text": [
      "|-------------------------------------------------------------------------------------------------------------|\n"
     ]
    },
    {
     "name": "stderr",
     "output_type": "stream",
     "text": [
      "Epoch: 010 |       loss:  9.406 |       em:  0.000 |       f1: 10.279:   0%|          | 0/2709 [00:00<?, ?it/s]\n",
      "           | valid_loss:  9.704 | valid_em:  0.000 | valid_f1:  5.556:   0%|          | 0/1074 [00:00<?, ?it/s]\n"
     ]
    },
    {
     "name": "stdout",
     "output_type": "stream",
     "text": [
      "|-------------------------------------------------------------------------------------------------------------|\n"
     ]
    },
    {
     "name": "stderr",
     "output_type": "stream",
     "text": [
      "Epoch: 011 |       loss:  9.324 |       em:  0.000 |       f1: 10.762:   0%|          | 0/2709 [00:00<?, ?it/s]\n",
      "           | valid_loss:  9.683 | valid_em:  0.000 | valid_f1:  5.556:   0%|          | 0/1074 [00:00<?, ?it/s]\n"
     ]
    },
    {
     "name": "stdout",
     "output_type": "stream",
     "text": [
      "|-------------------------------------------------------------------------------------------------------------|\n"
     ]
    },
    {
     "name": "stderr",
     "output_type": "stream",
     "text": [
      "Epoch: 012 |       loss:  9.237 |       em:  0.000 |       f1: 10.059:   0%|          | 0/2709 [00:00<?, ?it/s]\n",
      "           | valid_loss:  9.661 | valid_em:  0.000 | valid_f1:  5.556:   0%|          | 0/1074 [00:00<?, ?it/s]\n"
     ]
    },
    {
     "name": "stdout",
     "output_type": "stream",
     "text": [
      "|-------------------------------------------------------------------------------------------------------------|\n"
     ]
    },
    {
     "name": "stderr",
     "output_type": "stream",
     "text": [
      "Epoch: 013 |       loss:  9.145 |       em:  0.000 |       f1: 10.236:   0%|          | 0/2709 [00:00<?, ?it/s]\n",
      "           | valid_loss:  9.639 | valid_em:  0.000 | valid_f1:  5.556:   0%|          | 0/1074 [00:00<?, ?it/s]\n"
     ]
    },
    {
     "name": "stdout",
     "output_type": "stream",
     "text": [
      "|-------------------------------------------------------------------------------------------------------------|\n"
     ]
    },
    {
     "name": "stderr",
     "output_type": "stream",
     "text": [
      "Epoch: 014 |       loss:  9.048 |       em:  0.000 |       f1: 10.820:   0%|          | 0/2709 [00:00<?, ?it/s]\n",
      "           | valid_loss:  9.618 | valid_em:  0.000 | valid_f1:  5.556:   0%|          | 0/1074 [00:00<?, ?it/s]\n"
     ]
    },
    {
     "name": "stdout",
     "output_type": "stream",
     "text": [
      "|-------------------------------------------------------------------------------------------------------------|\n"
     ]
    },
    {
     "name": "stderr",
     "output_type": "stream",
     "text": [
      "Epoch: 015 |       loss:  8.945 |       em:  0.000 |       f1: 10.820:   0%|          | 0/2709 [00:00<?, ?it/s]\n",
      "           | valid_loss:  9.597 | valid_em:  0.000 | valid_f1:  5.556:   0%|          | 0/1074 [00:00<?, ?it/s]\n"
     ]
    },
    {
     "name": "stdout",
     "output_type": "stream",
     "text": [
      "|-------------------------------------------------------------------------------------------------------------|\n"
     ]
    },
    {
     "name": "stderr",
     "output_type": "stream",
     "text": [
      "Epoch: 016 |       loss:  8.836 |       em:  0.000 |       f1:  9.211:   0%|          | 0/2709 [00:00<?, ?it/s]\n",
      "           | valid_loss:  9.577 | valid_em:  0.000 | valid_f1:  5.556:   0%|          | 0/1074 [00:00<?, ?it/s]\n"
     ]
    },
    {
     "name": "stdout",
     "output_type": "stream",
     "text": [
      "|-------------------------------------------------------------------------------------------------------------|\n"
     ]
    },
    {
     "name": "stderr",
     "output_type": "stream",
     "text": [
      "Epoch: 017 |       loss:  8.720 |       em:  0.000 |       f1:  9.211:   0%|          | 0/2709 [00:00<?, ?it/s]\n",
      "           | valid_loss:  9.557 | valid_em:  0.000 | valid_f1:  5.556:   0%|          | 0/1074 [00:00<?, ?it/s]\n"
     ]
    },
    {
     "name": "stdout",
     "output_type": "stream",
     "text": [
      "|-------------------------------------------------------------------------------------------------------------|\n"
     ]
    },
    {
     "name": "stderr",
     "output_type": "stream",
     "text": [
      "Epoch: 018 |       loss:  8.597 |       em:  0.000 |       f1:  9.906:   0%|          | 0/2709 [00:00<?, ?it/s]\n",
      "           | valid_loss:  9.537 | valid_em:  0.000 | valid_f1:  5.556:   0%|          | 0/1074 [00:00<?, ?it/s]\n"
     ]
    },
    {
     "name": "stdout",
     "output_type": "stream",
     "text": [
      "|-------------------------------------------------------------------------------------------------------------|\n"
     ]
    },
    {
     "name": "stderr",
     "output_type": "stream",
     "text": [
      "Epoch: 019 |       loss:  8.466 |       em:  0.000 |       f1: 11.312:   0%|          | 0/2709 [00:00<?, ?it/s]\n",
      "           | valid_loss:  9.518 | valid_em:  0.000 | valid_f1:  5.556:   0%|          | 0/1074 [00:00<?, ?it/s]\n"
     ]
    },
    {
     "name": "stdout",
     "output_type": "stream",
     "text": [
      "|-------------------------------------------------------------------------------------------------------------|\n"
     ]
    },
    {
     "name": "stderr",
     "output_type": "stream",
     "text": [
      "Epoch: 020 |       loss:  8.325 |       em:  0.000 |       f1: 11.312:   0%|          | 0/2709 [00:00<?, ?it/s]\n",
      "           | valid_loss:  9.498 | valid_em:  0.000 | valid_f1:  5.556:   0%|          | 0/1074 [00:00<?, ?it/s]\n"
     ]
    },
    {
     "name": "stdout",
     "output_type": "stream",
     "text": [
      "|-------------------------------------------------------------------------------------------------------------|\n"
     ]
    },
    {
     "name": "stderr",
     "output_type": "stream",
     "text": [
      "Epoch: 021 |       loss:  8.175 |       em:  0.000 |       f1: 12.326:   0%|          | 0/2709 [00:00<?, ?it/s]\n",
      "           | valid_loss:  9.478 | valid_em:  0.000 | valid_f1:  5.556:   0%|          | 0/1074 [00:00<?, ?it/s]\n"
     ]
    },
    {
     "name": "stdout",
     "output_type": "stream",
     "text": [
      "|-------------------------------------------------------------------------------------------------------------|\n"
     ]
    },
    {
     "name": "stderr",
     "output_type": "stream",
     "text": [
      "Epoch: 022 |       loss:  8.015 |       em:  0.000 |       f1: 12.683:   0%|          | 0/2709 [00:00<?, ?it/s]\n",
      "           | valid_loss:  9.457 | valid_em:  0.000 | valid_f1:  5.556:   0%|          | 0/1074 [00:00<?, ?it/s]\n"
     ]
    },
    {
     "name": "stdout",
     "output_type": "stream",
     "text": [
      "|-------------------------------------------------------------------------------------------------------------|\n"
     ]
    },
    {
     "name": "stderr",
     "output_type": "stream",
     "text": [
      "Epoch: 023 |       loss:  7.844 |       em:  0.000 |       f1: 12.683:   0%|          | 0/2709 [00:00<?, ?it/s]\n",
      "           | valid_loss:  9.435 | valid_em:  0.000 | valid_f1:  5.556:   0%|          | 0/1074 [00:00<?, ?it/s]\n"
     ]
    },
    {
     "name": "stdout",
     "output_type": "stream",
     "text": [
      "|-------------------------------------------------------------------------------------------------------------|\n"
     ]
    },
    {
     "name": "stderr",
     "output_type": "stream",
     "text": [
      "Epoch: 024 |       loss:  7.664 |       em:  3.125 |       f1: 17.967:   0%|          | 0/2709 [00:00<?, ?it/s]\n",
      "           | valid_loss:  9.411 | valid_em:  0.000 | valid_f1:  5.556:   0%|          | 0/1074 [00:00<?, ?it/s]\n"
     ]
    },
    {
     "name": "stdout",
     "output_type": "stream",
     "text": [
      "|-------------------------------------------------------------------------------------------------------------|\n"
     ]
    },
    {
     "name": "stderr",
     "output_type": "stream",
     "text": [
      "Epoch: 025 |       loss:  7.477 |       em:  3.125 |       f1: 17.273:   0%|          | 0/2709 [00:00<?, ?it/s]\n",
      "           | valid_loss:  9.385 | valid_em:  0.000 | valid_f1:  5.556:   0%|          | 0/1074 [00:00<?, ?it/s]\n"
     ]
    },
    {
     "name": "stdout",
     "output_type": "stream",
     "text": [
      "|-------------------------------------------------------------------------------------------------------------|\n"
     ]
    },
    {
     "name": "stderr",
     "output_type": "stream",
     "text": [
      "Epoch: 026 |       loss:  7.285 |       em:  6.250 |       f1: 15.509:   0%|          | 0/2709 [00:00<?, ?it/s]\n",
      "           | valid_loss:  9.357 | valid_em:  0.000 | valid_f1:  5.556:   0%|          | 0/1074 [00:00<?, ?it/s]\n"
     ]
    },
    {
     "name": "stdout",
     "output_type": "stream",
     "text": [
      "|-------------------------------------------------------------------------------------------------------------|\n"
     ]
    },
    {
     "name": "stderr",
     "output_type": "stream",
     "text": [
      "Epoch: 027 |       loss:  7.094 |       em:  6.250 |       f1: 16.299:   0%|          | 0/2709 [00:00<?, ?it/s]\n",
      "           | valid_loss:  9.326 | valid_em:  0.000 | valid_f1:  5.556:   0%|          | 0/1074 [00:00<?, ?it/s]\n"
     ]
    },
    {
     "name": "stdout",
     "output_type": "stream",
     "text": [
      "|-------------------------------------------------------------------------------------------------------------|\n"
     ]
    },
    {
     "name": "stderr",
     "output_type": "stream",
     "text": [
      "Epoch: 028 |       loss:  6.910 |       em:  6.250 |       f1: 16.002:   0%|          | 0/2709 [00:00<?, ?it/s]\n",
      "           | valid_loss:  9.294 | valid_em:  0.000 | valid_f1:  5.556:   0%|          | 0/1074 [00:00<?, ?it/s]\n"
     ]
    },
    {
     "name": "stdout",
     "output_type": "stream",
     "text": [
      "|-------------------------------------------------------------------------------------------------------------|\n"
     ]
    },
    {
     "name": "stderr",
     "output_type": "stream",
     "text": [
      "Epoch: 029 |       loss:  6.739 |       em:  6.250 |       f1: 15.220:   0%|          | 0/2709 [00:00<?, ?it/s]\n",
      "           | valid_loss:  9.260 | valid_em:  0.000 | valid_f1:  5.556:   0%|          | 0/1074 [00:00<?, ?it/s]\n"
     ]
    },
    {
     "name": "stdout",
     "output_type": "stream",
     "text": [
      "|-------------------------------------------------------------------------------------------------------------|\n"
     ]
    },
    {
     "name": "stderr",
     "output_type": "stream",
     "text": [
      "Epoch: 030 |       loss:  6.583 |       em:  6.250 |       f1: 15.252:   0%|          | 0/2709 [00:00<?, ?it/s]\n",
      "           | valid_loss:  9.226 | valid_em:  0.000 | valid_f1:  0.000:   0%|          | 0/1074 [00:00<?, ?it/s]\n"
     ]
    },
    {
     "name": "stdout",
     "output_type": "stream",
     "text": [
      "|-------------------------------------------------------------------------------------------------------------|\n"
     ]
    },
    {
     "name": "stderr",
     "output_type": "stream",
     "text": [
      "Epoch: 031 |       loss:  6.437 |       em:  6.250 |       f1: 15.252:   0%|          | 0/2709 [00:00<?, ?it/s]\n",
      "           | valid_loss:  9.194 | valid_em:  0.000 | valid_f1:  0.000:   0%|          | 0/1074 [00:00<?, ?it/s]\n"
     ]
    },
    {
     "name": "stdout",
     "output_type": "stream",
     "text": [
      "|-------------------------------------------------------------------------------------------------------------|\n"
     ]
    },
    {
     "name": "stderr",
     "output_type": "stream",
     "text": [
      "Epoch: 032 |       loss:  6.293 |       em:  9.375 |       f1: 18.377:   0%|          | 0/2709 [00:00<?, ?it/s]\n",
      "           | valid_loss:  9.164 | valid_em:  0.000 | valid_f1:  0.000:   0%|          | 0/1074 [00:00<?, ?it/s]\n"
     ]
    },
    {
     "name": "stdout",
     "output_type": "stream",
     "text": [
      "|-------------------------------------------------------------------------------------------------------------|\n"
     ]
    },
    {
     "name": "stderr",
     "output_type": "stream",
     "text": [
      "Epoch: 033 |       loss:  6.142 |       em:  6.250 |       f1: 14.153:   0%|          | 0/2709 [00:00<?, ?it/s]\n",
      "           | valid_loss:  9.140 | valid_em:  0.000 | valid_f1:  0.000:   0%|          | 0/1074 [00:00<?, ?it/s]\n"
     ]
    },
    {
     "name": "stdout",
     "output_type": "stream",
     "text": [
      "|-------------------------------------------------------------------------------------------------------------|\n"
     ]
    },
    {
     "name": "stderr",
     "output_type": "stream",
     "text": [
      "Epoch: 034 |       loss:  5.978 |       em:  9.375 |       f1: 17.006:   0%|          | 0/2709 [00:00<?, ?it/s]\n",
      "           | valid_loss:  9.122 | valid_em:  0.000 | valid_f1:  0.000:   0%|          | 0/1074 [00:00<?, ?it/s]\n"
     ]
    },
    {
     "name": "stdout",
     "output_type": "stream",
     "text": [
      "|-------------------------------------------------------------------------------------------------------------|\n"
     ]
    },
    {
     "name": "stderr",
     "output_type": "stream",
     "text": [
      "Epoch: 035 |       loss:  5.802 |       em:  9.375 |       f1: 17.304:   0%|          | 0/2709 [00:00<?, ?it/s]\n",
      "           | valid_loss:  9.113 | valid_em:  0.000 | valid_f1:  0.000:   0%|          | 0/1074 [00:00<?, ?it/s]\n"
     ]
    },
    {
     "name": "stdout",
     "output_type": "stream",
     "text": [
      "|-------------------------------------------------------------------------------------------------------------|\n"
     ]
    },
    {
     "name": "stderr",
     "output_type": "stream",
     "text": [
      "Epoch: 036 |       loss:  5.618 |       em:  9.375 |       f1: 20.160:   0%|          | 0/2709 [00:00<?, ?it/s]\n",
      "           | valid_loss:  9.115 | valid_em:  0.000 | valid_f1:  0.000:   0%|          | 0/1074 [00:00<?, ?it/s]\n"
     ]
    },
    {
     "name": "stdout",
     "output_type": "stream",
     "text": [
      "|-------------------------------------------------------------------------------------------------------------|\n"
     ]
    },
    {
     "name": "stderr",
     "output_type": "stream",
     "text": [
      "Epoch: 037 |       loss:  5.432 |       em: 12.500 |       f1: 20.164:   0%|          | 0/2709 [00:00<?, ?it/s]\n",
      "           | valid_loss:  9.126 | valid_em:  0.000 | valid_f1:  1.282:   0%|          | 0/1074 [00:00<?, ?it/s]\n"
     ]
    },
    {
     "name": "stdout",
     "output_type": "stream",
     "text": [
      "|-------------------------------------------------------------------------------------------------------------|\n"
     ]
    },
    {
     "name": "stderr",
     "output_type": "stream",
     "text": [
      "Epoch: 038 |       loss:  5.248 |       em: 12.500 |       f1: 19.167:   0%|          | 0/2709 [00:00<?, ?it/s]\n",
      "           | valid_loss:  9.147 | valid_em:  0.000 | valid_f1:  1.282:   0%|          | 0/1074 [00:00<?, ?it/s]\n"
     ]
    },
    {
     "name": "stdout",
     "output_type": "stream",
     "text": [
      "|-------------------------------------------------------------------------------------------------------------|\n"
     ]
    },
    {
     "name": "stderr",
     "output_type": "stream",
     "text": [
      "Epoch: 039 |       loss:  5.069 |       em: 15.625 |       f1: 21.968:   0%|          | 0/2709 [00:00<?, ?it/s]\n",
      "           | valid_loss:  9.179 | valid_em:  0.000 | valid_f1:  1.282:   0%|          | 0/1074 [00:00<?, ?it/s]\n"
     ]
    },
    {
     "name": "stdout",
     "output_type": "stream",
     "text": [
      "|-------------------------------------------------------------------------------------------------------------|\n"
     ]
    },
    {
     "name": "stderr",
     "output_type": "stream",
     "text": [
      "Epoch: 040 |       loss:  4.895 |       em: 12.500 |       f1: 19.208:   0%|          | 0/2709 [00:00<?, ?it/s]\n",
      "           | valid_loss:  9.218 | valid_em:  0.000 | valid_f1:  1.282:   0%|          | 0/1074 [00:00<?, ?it/s]\n"
     ]
    },
    {
     "name": "stdout",
     "output_type": "stream",
     "text": [
      "|-------------------------------------------------------------------------------------------------------------|\n"
     ]
    },
    {
     "name": "stderr",
     "output_type": "stream",
     "text": [
      "Epoch: 041 |       loss:  4.724 |       em: 12.500 |       f1: 18.513:   0%|          | 0/2709 [00:00<?, ?it/s]\n",
      "           | valid_loss:  9.266 | valid_em:  0.000 | valid_f1:  2.564:   0%|          | 0/1074 [00:00<?, ?it/s]\n"
     ]
    },
    {
     "name": "stdout",
     "output_type": "stream",
     "text": [
      "|-------------------------------------------------------------------------------------------------------------|\n"
     ]
    },
    {
     "name": "stderr",
     "output_type": "stream",
     "text": [
      "Epoch: 042 |       loss:  4.551 |       em: 12.500 |       f1: 18.295:   0%|          | 0/2709 [00:00<?, ?it/s]\n",
      "           | valid_loss:  9.322 | valid_em:  0.000 | valid_f1:  2.564:   0%|          | 0/1074 [00:00<?, ?it/s]\n"
     ]
    },
    {
     "name": "stdout",
     "output_type": "stream",
     "text": [
      "|-------------------------------------------------------------------------------------------------------------|\n"
     ]
    },
    {
     "name": "stderr",
     "output_type": "stream",
     "text": [
      "Epoch: 043 |       loss:  4.372 |       em: 12.500 |       f1: 17.993:   0%|          | 0/2709 [00:00<?, ?it/s]\n",
      "           | valid_loss:  9.386 | valid_em:  0.000 | valid_f1:  2.564:   0%|          | 0/1074 [00:00<?, ?it/s]\n"
     ]
    },
    {
     "name": "stdout",
     "output_type": "stream",
     "text": [
      "|-------------------------------------------------------------------------------------------------------------|\n"
     ]
    },
    {
     "name": "stderr",
     "output_type": "stream",
     "text": [
      "Epoch: 044 |       loss:  4.183 |       em: 12.500 |       f1: 17.993:   0%|          | 0/2709 [00:00<?, ?it/s]\n",
      "           | valid_loss:  9.460 | valid_em:  0.000 | valid_f1:  2.564:   0%|          | 0/1074 [00:00<?, ?it/s]\n"
     ]
    },
    {
     "name": "stdout",
     "output_type": "stream",
     "text": [
      "|-------------------------------------------------------------------------------------------------------------|\n"
     ]
    },
    {
     "name": "stderr",
     "output_type": "stream",
     "text": [
      "Epoch: 045 |       loss:  3.987 |       em: 15.625 |       f1: 21.220:   0%|          | 0/2709 [00:00<?, ?it/s]\n",
      "           | valid_loss:  9.544 | valid_em:  0.000 | valid_f1:  2.564:   0%|          | 0/1074 [00:00<?, ?it/s]\n"
     ]
    },
    {
     "name": "stdout",
     "output_type": "stream",
     "text": [
      "|-------------------------------------------------------------------------------------------------------------|\n"
     ]
    },
    {
     "name": "stderr",
     "output_type": "stream",
     "text": [
      "Epoch: 046 |       loss:  3.789 |       em: 18.750 |       f1: 24.345:   0%|          | 0/2709 [00:00<?, ?it/s]\n",
      "           | valid_loss:  9.639 | valid_em:  0.000 | valid_f1:  2.262:   0%|          | 0/1074 [00:00<?, ?it/s]\n"
     ]
    },
    {
     "name": "stdout",
     "output_type": "stream",
     "text": [
      "|-------------------------------------------------------------------------------------------------------------|\n"
     ]
    },
    {
     "name": "stderr",
     "output_type": "stream",
     "text": [
      "Epoch: 047 |       loss:  3.594 |       em: 21.875 |       f1: 27.470:   0%|          | 0/2709 [00:00<?, ?it/s]\n",
      "           | valid_loss:  9.745 | valid_em:  0.000 | valid_f1:  3.224:   0%|          | 0/1074 [00:00<?, ?it/s]\n"
     ]
    },
    {
     "name": "stdout",
     "output_type": "stream",
     "text": [
      "|-------------------------------------------------------------------------------------------------------------|\n"
     ]
    },
    {
     "name": "stderr",
     "output_type": "stream",
     "text": [
      "Epoch: 048 |       loss:  3.404 |       em: 21.875 |       f1: 27.470:   0%|          | 0/2709 [00:00<?, ?it/s]\n",
      "           | valid_loss:  9.858 | valid_em:  0.000 | valid_f1:  1.942:   0%|          | 0/1074 [00:00<?, ?it/s]\n"
     ]
    },
    {
     "name": "stdout",
     "output_type": "stream",
     "text": [
      "|-------------------------------------------------------------------------------------------------------------|\n"
     ]
    },
    {
     "name": "stderr",
     "output_type": "stream",
     "text": [
      "Epoch: 049 |       loss:  3.215 |       em: 18.750 |       f1: 24.768:   0%|          | 0/2709 [00:00<?, ?it/s]\n",
      "           | valid_loss:  9.975 | valid_em:  0.000 | valid_f1:  0.980:   0%|          | 0/1074 [00:00<?, ?it/s]\n"
     ]
    },
    {
     "name": "stdout",
     "output_type": "stream",
     "text": [
      "|-------------------------------------------------------------------------------------------------------------|\n"
     ]
    },
    {
     "name": "stderr",
     "output_type": "stream",
     "text": [
      "Epoch: 050 |       loss:  3.023 |       em: 31.250 |       f1: 37.806:   0%|          | 0/2709 [00:00<?, ?it/s]\n",
      "           | valid_loss: 10.096 | valid_em:  0.000 | valid_f1:  0.980:   0%|          | 0/1074 [00:00<?, ?it/s]\n"
     ]
    },
    {
     "name": "stdout",
     "output_type": "stream",
     "text": [
      "|-------------------------------------------------------------------------------------------------------------|\n"
     ]
    },
    {
     "name": "stderr",
     "output_type": "stream",
     "text": [
      "Epoch: 051 |       loss:  2.826 |       em: 34.375 |       f1: 41.536:   0%|          | 0/2709 [00:00<?, ?it/s]\n",
      "           | valid_loss: 10.223 | valid_em:  0.000 | valid_f1:  0.980:   0%|          | 0/1074 [00:00<?, ?it/s]\n"
     ]
    },
    {
     "name": "stdout",
     "output_type": "stream",
     "text": [
      "|-------------------------------------------------------------------------------------------------------------|\n"
     ]
    },
    {
     "name": "stderr",
     "output_type": "stream",
     "text": [
      "Epoch: 052 |       loss:  2.630 |       em: 34.375 |       f1: 41.076:   0%|          | 0/2709 [00:00<?, ?it/s]\n",
      "           | valid_loss: 10.355 | valid_em:  0.000 | valid_f1:  2.262:   0%|          | 0/1074 [00:00<?, ?it/s]\n"
     ]
    },
    {
     "name": "stdout",
     "output_type": "stream",
     "text": [
      "|-------------------------------------------------------------------------------------------------------------|\n"
     ]
    },
    {
     "name": "stderr",
     "output_type": "stream",
     "text": [
      "Epoch: 053 |       loss:  2.439 |       em: 37.500 |       f1: 45.002:   0%|          | 0/2709 [00:00<?, ?it/s]\n",
      "           | valid_loss: 10.493 | valid_em:  0.000 | valid_f1:  3.544:   0%|          | 0/1074 [00:00<?, ?it/s]\n"
     ]
    },
    {
     "name": "stdout",
     "output_type": "stream",
     "text": [
      "|-------------------------------------------------------------------------------------------------------------|\n"
     ]
    },
    {
     "name": "stderr",
     "output_type": "stream",
     "text": [
      "Epoch: 054 |       loss:  2.253 |       em: 40.625 |       f1: 48.127:   0%|          | 0/2709 [00:00<?, ?it/s]\n",
      "           | valid_loss: 10.634 | valid_em:  0.000 | valid_f1:  3.544:   0%|          | 0/1074 [00:00<?, ?it/s]\n"
     ]
    },
    {
     "name": "stdout",
     "output_type": "stream",
     "text": [
      "|-------------------------------------------------------------------------------------------------------------|\n"
     ]
    },
    {
     "name": "stderr",
     "output_type": "stream",
     "text": [
      "Epoch: 055 |       loss:  2.067 |       em: 50.000 |       f1: 58.908:   0%|          | 0/2709 [00:00<?, ?it/s]\n",
      "           | valid_loss: 10.779 | valid_em:  0.000 | valid_f1:  3.544:   0%|          | 0/1074 [00:00<?, ?it/s]\n"
     ]
    },
    {
     "name": "stdout",
     "output_type": "stream",
     "text": [
      "|-------------------------------------------------------------------------------------------------------------|\n"
     ]
    },
    {
     "name": "stderr",
     "output_type": "stream",
     "text": [
      "Epoch: 056 |       loss:  1.881 |       em: 56.250 |       f1: 64.430:   0%|          | 0/2709 [00:00<?, ?it/s]\n",
      "           | valid_loss: 10.942 | valid_em:  0.000 | valid_f1:  3.544:   0%|          | 0/1074 [00:00<?, ?it/s]\n"
     ]
    },
    {
     "name": "stdout",
     "output_type": "stream",
     "text": [
      "|-------------------------------------------------------------------------------------------------------------|\n"
     ]
    },
    {
     "name": "stderr",
     "output_type": "stream",
     "text": [
      "Epoch: 057 |       loss:  1.698 |       em: 62.500 |       f1: 70.930:   0%|          | 0/2709 [00:00<?, ?it/s]\n",
      "           | valid_loss: 11.122 | valid_em:  0.000 | valid_f1:  2.589:   0%|          | 0/1074 [00:00<?, ?it/s]\n"
     ]
    },
    {
     "name": "stdout",
     "output_type": "stream",
     "text": [
      "|-------------------------------------------------------------------------------------------------------------|\n"
     ]
    },
    {
     "name": "stderr",
     "output_type": "stream",
     "text": [
      "Epoch: 058 |       loss:  1.530 |       em: 68.750 |       f1: 79.938:   0%|          | 0/2709 [00:00<?, ?it/s]\n",
      "           | valid_loss: 11.320 | valid_em:  0.000 | valid_f1:  5.801:   0%|          | 0/1074 [00:00<?, ?it/s]\n"
     ]
    },
    {
     "name": "stdout",
     "output_type": "stream",
     "text": [
      "|-------------------------------------------------------------------------------------------------------------|\n"
     ]
    },
    {
     "name": "stderr",
     "output_type": "stream",
     "text": [
      "Epoch: 059 |       loss:  1.375 |       em: 75.000 |       f1: 85.820:   0%|          | 0/2709 [00:00<?, ?it/s]\n",
      "           | valid_loss: 11.526 | valid_em:  0.000 | valid_f1:  4.820:   0%|          | 0/1074 [00:00<?, ?it/s]\n"
     ]
    },
    {
     "name": "stdout",
     "output_type": "stream",
     "text": [
      "|-------------------------------------------------------------------------------------------------------------|\n"
     ]
    },
    {
     "name": "stderr",
     "output_type": "stream",
     "text": [
      "Epoch: 060 |       loss:  1.228 |       em: 75.000 |       f1: 85.820:   0%|          | 0/2709 [00:00<?, ?it/s]\n",
      "           | valid_loss: 11.723 | valid_em:  0.000 | valid_f1:  4.820:   0%|          | 0/1074 [00:00<?, ?it/s]\n"
     ]
    },
    {
     "name": "stdout",
     "output_type": "stream",
     "text": [
      "|-------------------------------------------------------------------------------------------------------------|\n"
     ]
    },
    {
     "name": "stderr",
     "output_type": "stream",
     "text": [
      "Epoch: 061 |       loss:  1.084 |       em: 75.000 |       f1: 85.907:   0%|          | 0/2709 [00:00<?, ?it/s]\n",
      "           | valid_loss: 11.922 | valid_em:  0.000 | valid_f1:  4.820:   0%|          | 0/1074 [00:00<?, ?it/s]\n"
     ]
    },
    {
     "name": "stdout",
     "output_type": "stream",
     "text": [
      "|-------------------------------------------------------------------------------------------------------------|\n"
     ]
    },
    {
     "name": "stderr",
     "output_type": "stream",
     "text": [
      "Epoch: 062 |       loss:  0.943 |       em: 78.125 |       f1: 89.334:   0%|          | 0/2709 [00:00<?, ?it/s]\n",
      "           | valid_loss: 12.113 | valid_em:  0.000 | valid_f1:  4.820:   0%|          | 0/1074 [00:00<?, ?it/s]\n"
     ]
    },
    {
     "name": "stdout",
     "output_type": "stream",
     "text": [
      "|-------------------------------------------------------------------------------------------------------------|\n"
     ]
    },
    {
     "name": "stderr",
     "output_type": "stream",
     "text": [
      "Epoch: 063 |       loss:  0.828 |       em: 81.250 |       f1: 91.070:   0%|          | 0/2709 [00:00<?, ?it/s]\n",
      "           | valid_loss: 12.306 | valid_em:  0.000 | valid_f1:  4.820:   0%|          | 0/1074 [00:00<?, ?it/s]\n"
     ]
    },
    {
     "name": "stdout",
     "output_type": "stream",
     "text": [
      "|-------------------------------------------------------------------------------------------------------------|\n"
     ]
    },
    {
     "name": "stderr",
     "output_type": "stream",
     "text": [
      "Epoch: 064 |       loss:  0.773 |       em: 75.000 |       f1: 85.138:   0%|          | 0/2709 [00:00<?, ?it/s]\n",
      "           | valid_loss: 12.477 | valid_em:  0.000 | valid_f1:  4.820:   0%|          | 0/1074 [00:00<?, ?it/s]\n"
     ]
    },
    {
     "name": "stdout",
     "output_type": "stream",
     "text": [
      "|-------------------------------------------------------------------------------------------------------------|\n"
     ]
    },
    {
     "name": "stderr",
     "output_type": "stream",
     "text": [
      "Epoch: 065 |       loss:  0.635 |       em: 84.375 |       f1: 93.911:   0%|          | 0/2709 [00:00<?, ?it/s]\n",
      "           | valid_loss: 12.680 | valid_em:  0.000 | valid_f1:  4.493:   0%|          | 0/1074 [00:00<?, ?it/s]\n"
     ]
    },
    {
     "name": "stdout",
     "output_type": "stream",
     "text": [
      "|-------------------------------------------------------------------------------------------------------------|\n"
     ]
    },
    {
     "name": "stderr",
     "output_type": "stream",
     "text": [
      "Epoch: 066 |       loss:  0.589 |       em: 84.375 |       f1: 93.911:   0%|          | 0/2709 [00:00<?, ?it/s]\n",
      "           | valid_loss: 12.904 | valid_em:  0.000 | valid_f1:  4.493:   0%|          | 0/1074 [00:00<?, ?it/s]\n"
     ]
    },
    {
     "name": "stdout",
     "output_type": "stream",
     "text": [
      "|-------------------------------------------------------------------------------------------------------------|\n"
     ]
    },
    {
     "name": "stderr",
     "output_type": "stream",
     "text": [
      "Epoch: 067 |       loss:  0.491 |       em: 84.375 |       f1: 93.911:   0%|          | 0/2709 [00:00<?, ?it/s]\n",
      "           | valid_loss: 13.087 | valid_em:  0.000 | valid_f1:  4.167:   0%|          | 0/1074 [00:00<?, ?it/s]\n"
     ]
    },
    {
     "name": "stdout",
     "output_type": "stream",
     "text": [
      "|-------------------------------------------------------------------------------------------------------------|\n"
     ]
    },
    {
     "name": "stderr",
     "output_type": "stream",
     "text": [
      "Epoch: 068 |       loss:  0.449 |       em: 84.375 |       f1: 93.911:   0%|          | 0/2709 [00:00<?, ?it/s]\n",
      "           | valid_loss: 13.245 | valid_em:  0.000 | valid_f1:  4.167:   0%|          | 0/1074 [00:00<?, ?it/s]\n"
     ]
    },
    {
     "name": "stdout",
     "output_type": "stream",
     "text": [
      "|-------------------------------------------------------------------------------------------------------------|\n"
     ]
    },
    {
     "name": "stderr",
     "output_type": "stream",
     "text": [
      "Epoch: 069 |       loss:  0.381 |       em: 84.375 |       f1: 93.609:   0%|          | 0/2709 [00:00<?, ?it/s]\n",
      "           | valid_loss: 13.393 | valid_em:  0.000 | valid_f1:  4.167:   0%|          | 0/1074 [00:00<?, ?it/s]\n"
     ]
    },
    {
     "name": "stdout",
     "output_type": "stream",
     "text": [
      "|-------------------------------------------------------------------------------------------------------------|\n"
     ]
    },
    {
     "name": "stderr",
     "output_type": "stream",
     "text": [
      "Epoch: 070 |       loss:  0.329 |       em: 81.250 |       f1: 91.786:   0%|          | 0/2709 [00:00<?, ?it/s]\n",
      "           | valid_loss: 13.535 | valid_em:  0.000 | valid_f1:  4.167:   0%|          | 0/1074 [00:00<?, ?it/s]\n"
     ]
    },
    {
     "name": "stdout",
     "output_type": "stream",
     "text": [
      "|-------------------------------------------------------------------------------------------------------------|\n"
     ]
    },
    {
     "name": "stderr",
     "output_type": "stream",
     "text": [
      "Epoch: 071 |       loss:  0.300 |       em: 81.250 |       f1: 91.786:   0%|          | 0/2709 [00:00<?, ?it/s]\n",
      "           | valid_loss: 13.683 | valid_em:  0.000 | valid_f1:  4.167:   0%|          | 0/1074 [00:00<?, ?it/s]\n"
     ]
    },
    {
     "name": "stdout",
     "output_type": "stream",
     "text": [
      "|-------------------------------------------------------------------------------------------------------------|\n"
     ]
    },
    {
     "name": "stderr",
     "output_type": "stream",
     "text": [
      "Epoch: 072 |       loss:  0.263 |       em: 84.375 |       f1: 93.824:   0%|          | 0/2709 [00:00<?, ?it/s]\n",
      "           | valid_loss: 13.847 | valid_em:  0.000 | valid_f1:  4.167:   0%|          | 0/1074 [00:00<?, ?it/s]\n"
     ]
    },
    {
     "name": "stdout",
     "output_type": "stream",
     "text": [
      "|-------------------------------------------------------------------------------------------------------------|\n"
     ]
    },
    {
     "name": "stderr",
     "output_type": "stream",
     "text": [
      "Epoch: 073 |       loss:  0.229 |       em: 87.500 |       f1: 95.647:   0%|          | 0/2709 [00:00<?, ?it/s]\n",
      "           | valid_loss: 14.036 | valid_em:  0.000 | valid_f1:  4.167:   0%|          | 0/1074 [00:00<?, ?it/s]\n"
     ]
    },
    {
     "name": "stdout",
     "output_type": "stream",
     "text": [
      "|-------------------------------------------------------------------------------------------------------------|\n"
     ]
    },
    {
     "name": "stderr",
     "output_type": "stream",
     "text": [
      "Epoch: 074 |       loss:  0.205 |       em: 84.375 |       f1: 92.522:   0%|          | 0/2709 [00:00<?, ?it/s]\n",
      "           | valid_loss: 14.226 | valid_em:  0.000 | valid_f1:  4.167:   0%|          | 0/1074 [00:00<?, ?it/s]\n"
     ]
    },
    {
     "name": "stdout",
     "output_type": "stream",
     "text": [
      "|-------------------------------------------------------------------------------------------------------------|\n"
     ]
    },
    {
     "name": "stderr",
     "output_type": "stream",
     "text": [
      "Epoch: 075 |       loss:  0.181 |       em: 84.375 |       f1: 92.522:   0%|          | 0/2709 [00:00<?, ?it/s]\n",
      "           | valid_loss: 14.370 | valid_em:  0.000 | valid_f1:  4.167:   0%|          | 0/1074 [00:00<?, ?it/s]\n"
     ]
    },
    {
     "name": "stdout",
     "output_type": "stream",
     "text": [
      "|-------------------------------------------------------------------------------------------------------------|\n"
     ]
    },
    {
     "name": "stderr",
     "output_type": "stream",
     "text": [
      "Epoch: 076 |       loss:  0.163 |       em: 87.500 |       f1: 95.647:   0%|          | 0/2709 [00:00<?, ?it/s]\n",
      "           | valid_loss: 14.455 | valid_em:  0.000 | valid_f1:  4.167:   0%|          | 0/1074 [00:00<?, ?it/s]\n"
     ]
    },
    {
     "name": "stdout",
     "output_type": "stream",
     "text": [
      "|-------------------------------------------------------------------------------------------------------------|\n"
     ]
    },
    {
     "name": "stderr",
     "output_type": "stream",
     "text": [
      "Epoch: 077 |       loss:  0.143 |       em: 87.500 |       f1: 95.647:   0%|          | 0/2709 [00:00<?, ?it/s]\n",
      "           | valid_loss: 14.526 | valid_em:  0.000 | valid_f1:  4.167:   0%|          | 0/1074 [00:00<?, ?it/s]\n"
     ]
    },
    {
     "name": "stdout",
     "output_type": "stream",
     "text": [
      "|-------------------------------------------------------------------------------------------------------------|\n"
     ]
    },
    {
     "name": "stderr",
     "output_type": "stream",
     "text": [
      "Epoch: 078 |       loss:  0.130 |       em: 87.500 |       f1: 95.647:   0%|          | 0/2709 [00:00<?, ?it/s]\n",
      "           | valid_loss: 14.643 | valid_em:  0.000 | valid_f1:  4.167:   0%|          | 0/1074 [00:00<?, ?it/s]\n"
     ]
    },
    {
     "name": "stdout",
     "output_type": "stream",
     "text": [
      "|-------------------------------------------------------------------------------------------------------------|\n"
     ]
    },
    {
     "name": "stderr",
     "output_type": "stream",
     "text": [
      "Epoch: 079 |       loss:  0.117 |       em: 87.500 |       f1: 95.647:   0%|          | 0/2709 [00:00<?, ?it/s]\n",
      "           | valid_loss: 14.797 | valid_em:  0.000 | valid_f1:  4.167:   0%|          | 0/1074 [00:00<?, ?it/s]\n"
     ]
    },
    {
     "name": "stdout",
     "output_type": "stream",
     "text": [
      "|-------------------------------------------------------------------------------------------------------------|\n"
     ]
    },
    {
     "name": "stderr",
     "output_type": "stream",
     "text": [
      "Epoch: 080 |       loss:  0.102 |       em: 87.500 |       f1: 95.647:   0%|          | 0/2709 [00:00<?, ?it/s]\n",
      "           | valid_loss: 14.953 | valid_em:  0.000 | valid_f1:  4.167:   0%|          | 0/1074 [00:00<?, ?it/s]\n"
     ]
    },
    {
     "name": "stdout",
     "output_type": "stream",
     "text": [
      "|-------------------------------------------------------------------------------------------------------------|\n"
     ]
    },
    {
     "name": "stderr",
     "output_type": "stream",
     "text": [
      "Epoch: 081 |       loss:  0.091 |       em: 87.500 |       f1: 95.647:   0%|          | 0/2709 [00:00<?, ?it/s]\n",
      "           | valid_loss: 15.084 | valid_em:  0.000 | valid_f1:  4.167:   0%|          | 0/1074 [00:00<?, ?it/s]\n"
     ]
    },
    {
     "name": "stdout",
     "output_type": "stream",
     "text": [
      "|-------------------------------------------------------------------------------------------------------------|\n"
     ]
    },
    {
     "name": "stderr",
     "output_type": "stream",
     "text": [
      "Epoch: 082 |       loss:  0.080 |       em: 87.500 |       f1: 95.647:   0%|          | 0/2709 [00:00<?, ?it/s]\n",
      "           | valid_loss: 15.200 | valid_em:  0.000 | valid_f1:  4.167:   0%|          | 0/1074 [00:00<?, ?it/s]\n"
     ]
    },
    {
     "name": "stdout",
     "output_type": "stream",
     "text": [
      "|-------------------------------------------------------------------------------------------------------------|\n"
     ]
    },
    {
     "name": "stderr",
     "output_type": "stream",
     "text": [
      "Epoch: 083 |       loss:  0.072 |       em: 87.500 |       f1: 95.647:   0%|          | 0/2709 [00:00<?, ?it/s]\n",
      "           | valid_loss: 15.280 | valid_em:  0.000 | valid_f1:  4.167:   0%|          | 0/1074 [00:00<?, ?it/s]\n"
     ]
    },
    {
     "name": "stdout",
     "output_type": "stream",
     "text": [
      "|-------------------------------------------------------------------------------------------------------------|\n"
     ]
    },
    {
     "name": "stderr",
     "output_type": "stream",
     "text": [
      "Epoch: 084 |       loss:  0.064 |       em: 87.500 |       f1: 95.647:   0%|          | 0/2709 [00:00<?, ?it/s]\n",
      "           | valid_loss: 15.336 | valid_em:  0.000 | valid_f1:  4.167:   0%|          | 0/1074 [00:00<?, ?it/s]\n"
     ]
    },
    {
     "name": "stdout",
     "output_type": "stream",
     "text": [
      "|-------------------------------------------------------------------------------------------------------------|\n"
     ]
    },
    {
     "name": "stderr",
     "output_type": "stream",
     "text": [
      "Epoch: 085 |       loss:  0.054 |       em: 87.500 |       f1: 95.647:   0%|          | 0/2709 [00:00<?, ?it/s]\n",
      "           | valid_loss: 15.391 | valid_em:  0.000 | valid_f1:  2.778:   0%|          | 0/1074 [00:00<?, ?it/s]\n"
     ]
    },
    {
     "name": "stdout",
     "output_type": "stream",
     "text": [
      "|-------------------------------------------------------------------------------------------------------------|\n"
     ]
    },
    {
     "name": "stderr",
     "output_type": "stream",
     "text": [
      "Epoch: 086 |       loss:  0.048 |       em: 87.500 |       f1: 95.647:   0%|          | 0/2709 [00:00<?, ?it/s]\n",
      "           | valid_loss: 15.464 | valid_em:  0.000 | valid_f1:  2.778:   0%|          | 0/1074 [00:00<?, ?it/s]\n"
     ]
    },
    {
     "name": "stdout",
     "output_type": "stream",
     "text": [
      "|-------------------------------------------------------------------------------------------------------------|\n"
     ]
    },
    {
     "name": "stderr",
     "output_type": "stream",
     "text": [
      "Epoch: 087 |       loss:  0.042 |       em: 87.500 |       f1: 95.647:   0%|          | 0/2709 [00:00<?, ?it/s]\n",
      "           | valid_loss: 15.530 | valid_em:  0.000 | valid_f1:  2.778:   0%|          | 0/1074 [00:00<?, ?it/s]\n"
     ]
    },
    {
     "name": "stdout",
     "output_type": "stream",
     "text": [
      "|-------------------------------------------------------------------------------------------------------------|\n"
     ]
    },
    {
     "name": "stderr",
     "output_type": "stream",
     "text": [
      "Epoch: 088 |       loss:  0.036 |       em: 87.500 |       f1: 95.647:   0%|          | 0/2709 [00:00<?, ?it/s]\n",
      "           | valid_loss: 15.588 | valid_em:  0.000 | valid_f1:  2.778:   0%|          | 0/1074 [00:00<?, ?it/s]\n"
     ]
    },
    {
     "name": "stdout",
     "output_type": "stream",
     "text": [
      "|-------------------------------------------------------------------------------------------------------------|\n"
     ]
    },
    {
     "name": "stderr",
     "output_type": "stream",
     "text": [
      "Epoch: 089 |       loss:  0.031 |       em: 87.500 |       f1: 95.647:   0%|          | 0/2709 [00:00<?, ?it/s]\n",
      "           | valid_loss: 15.649 | valid_em:  0.000 | valid_f1:  2.778:   0%|          | 0/1074 [00:00<?, ?it/s]\n"
     ]
    },
    {
     "name": "stdout",
     "output_type": "stream",
     "text": [
      "|-------------------------------------------------------------------------------------------------------------|\n"
     ]
    },
    {
     "name": "stderr",
     "output_type": "stream",
     "text": [
      "Epoch: 090 |       loss:  0.027 |       em: 87.500 |       f1: 95.647:   0%|          | 0/2709 [00:00<?, ?it/s]\n",
      "           | valid_loss: 15.724 | valid_em:  0.000 | valid_f1:  2.778:   0%|          | 0/1074 [00:00<?, ?it/s]\n"
     ]
    },
    {
     "name": "stdout",
     "output_type": "stream",
     "text": [
      "|-------------------------------------------------------------------------------------------------------------|\n"
     ]
    },
    {
     "name": "stderr",
     "output_type": "stream",
     "text": [
      "Epoch: 091 |       loss:  0.023 |       em: 87.500 |       f1: 95.647:   0%|          | 0/2709 [00:00<?, ?it/s]\n",
      "           | valid_loss: 15.806 | valid_em:  0.000 | valid_f1:  2.778:   0%|          | 0/1074 [00:00<?, ?it/s]\n"
     ]
    },
    {
     "name": "stdout",
     "output_type": "stream",
     "text": [
      "|-------------------------------------------------------------------------------------------------------------|\n"
     ]
    },
    {
     "name": "stderr",
     "output_type": "stream",
     "text": [
      "Epoch: 092 |       loss:  0.020 |       em: 87.500 |       f1: 95.647:   0%|          | 0/2709 [00:00<?, ?it/s]\n",
      "           | valid_loss: 15.885 | valid_em:  0.000 | valid_f1:  2.778:   0%|          | 0/1074 [00:00<?, ?it/s]\n"
     ]
    },
    {
     "name": "stdout",
     "output_type": "stream",
     "text": [
      "|-------------------------------------------------------------------------------------------------------------|\n"
     ]
    },
    {
     "name": "stderr",
     "output_type": "stream",
     "text": [
      "Epoch: 093 |       loss:  0.018 |       em: 87.500 |       f1: 95.647:   0%|          | 0/2709 [00:00<?, ?it/s]\n",
      "           | valid_loss: 15.951 | valid_em:  0.000 | valid_f1:  2.778:   0%|          | 0/1074 [00:00<?, ?it/s]\n"
     ]
    },
    {
     "name": "stdout",
     "output_type": "stream",
     "text": [
      "|-------------------------------------------------------------------------------------------------------------|\n"
     ]
    },
    {
     "name": "stderr",
     "output_type": "stream",
     "text": [
      "Epoch: 094 |       loss:  0.016 |       em: 87.500 |       f1: 95.647:   0%|          | 0/2709 [00:00<?, ?it/s]\n",
      "           | valid_loss: 16.010 | valid_em:  0.000 | valid_f1:  2.778:   0%|          | 0/1074 [00:00<?, ?it/s]\n"
     ]
    },
    {
     "name": "stdout",
     "output_type": "stream",
     "text": [
      "|-------------------------------------------------------------------------------------------------------------|\n"
     ]
    },
    {
     "name": "stderr",
     "output_type": "stream",
     "text": [
      "Epoch: 095 |       loss:  0.015 |       em: 87.500 |       f1: 95.647:   0%|          | 0/2709 [00:00<?, ?it/s]\n",
      "           | valid_loss: 16.062 | valid_em:  0.000 | valid_f1:  2.778:   0%|          | 0/1074 [00:00<?, ?it/s]\n"
     ]
    },
    {
     "name": "stdout",
     "output_type": "stream",
     "text": [
      "|-------------------------------------------------------------------------------------------------------------|\n"
     ]
    },
    {
     "name": "stderr",
     "output_type": "stream",
     "text": [
      "Epoch: 096 |       loss:  0.014 |       em: 87.500 |       f1: 95.647:   0%|          | 0/2709 [00:00<?, ?it/s]\n",
      "           | valid_loss: 16.108 | valid_em:  0.000 | valid_f1:  2.778:   0%|          | 0/1074 [00:00<?, ?it/s]\n"
     ]
    },
    {
     "name": "stdout",
     "output_type": "stream",
     "text": [
      "|-------------------------------------------------------------------------------------------------------------|\n"
     ]
    },
    {
     "name": "stderr",
     "output_type": "stream",
     "text": [
      "Epoch: 097 |       loss:  0.012 |       em: 87.500 |       f1: 95.647:   0%|          | 0/2709 [00:00<?, ?it/s]\n",
      "           | valid_loss: 16.145 | valid_em:  0.000 | valid_f1:  2.778:   0%|          | 0/1074 [00:00<?, ?it/s]\n"
     ]
    },
    {
     "name": "stdout",
     "output_type": "stream",
     "text": [
      "|-------------------------------------------------------------------------------------------------------------|\n"
     ]
    },
    {
     "name": "stderr",
     "output_type": "stream",
     "text": [
      "Epoch: 098 |       loss:  0.011 |       em: 87.500 |       f1: 95.647:   0%|          | 0/2709 [00:00<?, ?it/s]\n",
      "           | valid_loss: 16.177 | valid_em:  0.000 | valid_f1:  2.778:   0%|          | 0/1074 [00:00<?, ?it/s]\n"
     ]
    },
    {
     "name": "stdout",
     "output_type": "stream",
     "text": [
      "|-------------------------------------------------------------------------------------------------------------|\n"
     ]
    },
    {
     "name": "stderr",
     "output_type": "stream",
     "text": [
      "Epoch: 099 |       loss:  0.011 |       em: 87.500 |       f1: 95.647:   0%|          | 0/2709 [00:00<?, ?it/s]\n",
      "           | valid_loss: 16.204 | valid_em:  0.000 | valid_f1:  2.778:   0%|          | 0/1074 [00:00<?, ?it/s]\n"
     ]
    },
    {
     "name": "stdout",
     "output_type": "stream",
     "text": [
      "|-------------------------------------------------------------------------------------------------------------|\n"
     ]
    },
    {
     "name": "stderr",
     "output_type": "stream",
     "text": [
      "Epoch: 100 |       loss:  0.010 |       em: 87.500 |       f1: 95.647:   0%|          | 0/2709 [00:00<?, ?it/s]\n",
      "           | valid_loss: 16.227 | valid_em:  0.000 | valid_f1:  2.778:   0%|          | 0/1074 [00:00<?, ?it/s]\n"
     ]
    }
   ],
   "source": [
    "!mkdir -p ./checkpoints\n",
    "history = trainer.train(\n",
    "    train_loader=train_dataloader,\n",
    "    valid_loader=valid_dataloader,\n",
    "    n_epochs=N_EPOCHS,\n",
    "    gradient_clipping=GRAD_CLIP\n",
    ")"
   ]
  },
  {
   "cell_type": "code",
   "execution_count": 121,
   "metadata": {
    "colab": {
     "base_uri": "https://localhost:8080/",
     "height": 350
    },
    "id": "8C-bSJpY-qZM",
    "outputId": "db26fdee-279c-4fe8-b5d6-7f26a8587271",
    "pycharm": {
     "name": "#%%\n"
    }
   },
   "outputs": [
    {
     "data": {
      "image/png": "[encoded data removed]",
      "text/plain": [
       "<Figure size 1500x500 with 3 Axes>"
      ]
     },
     "metadata": {},
     "output_type": "display_data"
    }
   ],
   "source": [
    "_, axes = plt.subplots(1, 3, figsize=(15, 5))\n",
    "\n",
    "axes[0].plot(history['loss'], label='train')\n",
    "axes[0].plot(history['valid_loss'], label='valid')\n",
    "axes[0].set_title('Loss history')\n",
    "axes[0].set_xlabel('Epoch')\n",
    "axes[0].set_ylabel('Loss')\n",
    "axes[0].grid(True)\n",
    "axes[0].legend()\n",
    "\n",
    "axes[1].plot(history['em'], label='train')\n",
    "axes[1].plot(history['valid_em'], label='valid')\n",
    "axes[1].set_title('Exact match history')\n",
    "axes[1].set_xlabel('Epoch')\n",
    "axes[1].set_ylabel('Exact match (%)')\n",
    "axes[1].grid(True)\n",
    "axes[1].legend()\n",
    "\n",
    "axes[2].plot(history['f1'], label='train')\n",
    "axes[2].plot(history['valid_f1'], label='valid')\n",
    "axes[2].set_title('F1 history')\n",
    "axes[2].set_xlabel('Epoch')\n",
    "axes[2].set_ylabel('F1 (%)')\n",
    "axes[2].grid(True)\n",
    "axes[2].legend()\n",
    "\n",
    "plt.show()"
   ]
  },
  {
   "cell_type": "markdown",
   "metadata": {
    "id": "Z_99dtAVn5CL",
    "pycharm": {
     "name": "#%% md\n"
    }
   },
   "source": [
    "***Inference***"
   ]
  },
  {
   "cell_type": "code",
   "execution_count": 85,
   "metadata": {
    "colab": {
     "base_uri": "https://localhost:8080/"
    },
    "id": "Gk9dSwSR_OM9",
    "outputId": "dfc3f33a-a716-44fd-ae2d-3ce5fdaa745f",
    "pycharm": {
     "name": "#%%\n"
    }
   },
   "outputs": [],
   "source": [
    "# model.load_state_dict(torch.load(\"./checkpoints/drqa.pth\"))\n",
    "# model.to(DEVICE)"
   ]
  },
  {
   "cell_type": "code",
   "execution_count": 86,
   "metadata": {
    "id": "p1CVgakLDtsU",
    "pycharm": {
     "name": "#%%\n"
    }
   },
   "outputs": [],
   "source": [
    "def inference(model: nn.Module, context: spacy.tokens.doc.Doc, question: spacy.tokens.doc.Doc,\n",
    "              text_vocab: Vocabulary, pos_vocab: Vocabulary, ner_vocab: Vocabulary, device: torch.device):\n",
    "    # Build extra features\n",
    "    question = [token.text.lower() for token in question]\n",
    "    counts = collections.Counter(map(lambda token: token.text.lower(), context))\n",
    "    freqs = {index: counts[token.text.lower()] for index, token in enumerate(context)}\n",
    "    freqs_norm = sum(freqs.values())\n",
    "    em, pos, ner, ntf = zip(\n",
    "        *map(lambda index: [\n",
    "            context[index].text.lower() in question, context[index].tag_,\n",
    "            context[index].ent_type_ or 'None',\n",
    "            freqs[index] / freqs_norm\n",
    "        ], range(len(context)))\n",
    "    )\n",
    "\n",
    "    # Build tensors\n",
    "    batch = DrQATensorDatasetBatch(\n",
    "        id_=None,\n",
    "        context=(\n",
    "            torch.LongTensor([*map(lambda word: text_vocab.stoi(word), context)]).unsqueeze(0).to(device),\n",
    "            torch.LongTensor([len(context)])\n",
    "        ), question=(\n",
    "            torch.LongTensor([*map(lambda word: text_vocab.stoi(word), question)]).unsqueeze(0).to(device),\n",
    "            torch.LongTensor([len(question)])\n",
    "        ), target=None,\n",
    "        exact_match=torch.LongTensor(em).unsqueeze(0).to(device),\n",
    "        part_of_speech=torch.LongTensor([*map(lambda x: pos_vocab.stoi(x), pos)]).unsqueeze(0).to(device),\n",
    "        named_entity_type=torch.LongTensor([*map(lambda x: ner_vocab.stoi(x), ner)]).unsqueeze(0).to(device),\n",
    "        normalized_term_frequency=torch.LongTensor(ntf).unsqueeze(0).to(device)\n",
    "    )\n",
    "\n",
    "    # Prediction\n",
    "    model.eval()\n",
    "    with torch.no_grad():\n",
    "        # Feed the model\n",
    "        start, end = model(batch)\n",
    "    \n",
    "        # Decode the result indexes\n",
    "        start_index, end_index, proba = model.decode(starts=F.softmax(start, dim=-1), ends=F.softmax(end, dim=-1))\n",
    "        print(start_index, end_index)\n",
    "\n",
    "        # Extract the answer\n",
    "        answer = context[start_index[0]:end_index[0] + 1]\n",
    "\n",
    "    return answer, proba[0]"
   ]
  },
  {
   "cell_type": "code",
   "execution_count": 87,
   "metadata": {
    "colab": {
     "base_uri": "https://localhost:8080/",
     "height": 1000
    },
    "id": "dI-ME2Q1-WzB",
    "outputId": "7ddd80ef-e885-476d-a8e7-32e1a031417b",
    "pycharm": {
     "name": "#%%\n"
    },
    "scrolled": false
   },
   "outputs": [
    {
     "name": "stdout",
     "output_type": "stream",
     "text": [
      "[195] [122]\n"
     ]
    },
    {
     "data": {
      "text/html": [
       "<p><span><b>Context:</b> Larger drugs (>500 Da) can provoke a neutralizing immune response, particularly if the drugs are administered repeatedly, or in larger doses. This limits the effectiveness of drugs based on larger peptides and proteins (which are typically larger than 6000 Da). In some cases, the drug itself is not immunogenic, but may be co-administered with an immunogenic compound, as is sometimes the case for Taxol. Computational methods have been developed to predict the immunogenicity of peptides and proteins, which are particularly useful in designing therapeutic antibodies, assessing likely virulence of mutations in viral coat particles, and validation of proposed peptide-based drug treatments. Early techniques relied mainly on the observation that hydrophilic amino acids are overrepresented in epitope regions than hydrophobic amino acids; however, more recent developments rely on machine learning techniques using databases of existing known epitopes, usually on well-studied virus proteins, as a training set. A publicly accessible database has been established for the cataloguing of epitopes from pathogens known to be recognizable by B cells. The emerging field of bioinformatics-based studies of immunogenicity is referred to as immunoinformatics. Immunoproteomics is the study of large sets of proteins (proteomics) involved in the immune response.</span><br /><span><b>Question:</b> At what size and larger can drugs elicit a neutralizing immune response?</span><br /><span style=\"color:blue\"><b>Possible answers:</b><br /><ul><li style=\"color:blue\">>500 Da</li><li style=\"color:blue\">>500 Da</li><li style=\"color:blue\">>500 Da</li></ul></span><br /><span style=\"color:green\"><b>Prediction:</b>==</span><br /><span style=\"color:green\"><b>Probability:</b> 0.005%</span><br />"
      ],
      "text/plain": [
       "<IPython.core.display.HTML object>"
      ]
     },
     "metadata": {},
     "output_type": "display_data"
    },
    {
     "name": "stdout",
     "output_type": "stream",
     "text": [
      "====================================================================================================\n",
      "[126] [154]\n"
     ]
    },
    {
     "data": {
      "text/html": [
       "<p><span><b>Context:</b> Ctenophores may be abundant during the summer months in some coastal locations, but in other places they are uncommon and difficult to find. In bays where they occur in very high numbers, predation by ctenophores may control the populations of small zooplanktonic organisms such as copepods, which might otherwise wipe out the phytoplankton (planktonic plants), which are a vital part of marine food chains. One ctenophore, Mnemiopsis, has accidentally been introduced into the Black Sea, where it is blamed for causing fish stocks to collapse by eating both fish larvae and organisms that would otherwise have fed the fish. The situation was aggravated by other factors, such as over-fishing and long-term environmental changes that promoted the growth of the Mnemiopsis population. The later accidental introduction of Beroe helped to mitigate the problem, as Beroe preys on other ctenophores.</span><br /><span><b>Question:</b> Where do ctenophores be found in large numbers?</span><br /><span style=\"color:blue\"><b>Possible answers:</b><br /><ul><li style=\"color:blue\">In bays</li><li style=\"color:blue\">bays</li><li style=\"color:blue\">bays</li></ul></span><br /><span style=\"color:green\"><b>Prediction:</b>=-term environmental changes that promoted the growth of the Mnemiopsis population. The later accidental introduction of Beroe helped to mitigate the problem, as Beroe preys on=</span><br /><span style=\"color:green\"><b>Probability:</b> 0.012%</span><br />"
      ],
      "text/plain": [
       "<IPython.core.display.HTML object>"
      ]
     },
     "metadata": {},
     "output_type": "display_data"
    },
    {
     "name": "stdout",
     "output_type": "stream",
     "text": [
      "====================================================================================================\n",
      "[73] [84]\n"
     ]
    },
    {
     "data": {
      "text/html": [
       "<p><span><b>Context:</b> The Mongol Empire was governed by a civilian and military code, called the Yassa, created by Genghis Khan. The Mongol Empire did not emphasize the importance of ethnicity and race in the administrative realm, instead adopting an approach grounded in meritocracy. The exception was the role of Genghis Khan and his family. The Mongol Empire was one of the most ethnically and culturally diverse empires in history, as befitted its size. Many of the empire's nomadic inhabitants considered themselves Mongols in military and civilian life, including Mongols, Turks and others and included many diverse Khans of various ethnicities as part of the Mongol Empire such as Muhammad Khan.</span><br /><span><b>Question:</b> Who was exempt from the meritocratic principles of the Mongol Empire?</span><br /><span style=\"color:blue\"><b>Possible answers:</b><br /><ul><li style=\"color:blue\">Genghis Khan and his family</li><li style=\"color:blue\">Genghis Khan and his family</li><li style=\"color:blue\">Genghis Khan and his family</li></ul></span><br /><span style=\"color:green\"><b>Prediction:</b>=, as befitted its size. Many of the empire's nomadic=</span><br /><span style=\"color:green\"><b>Probability:</b> 0.070%</span><br />"
      ],
      "text/plain": [
       "<IPython.core.display.HTML object>"
      ]
     },
     "metadata": {},
     "output_type": "display_data"
    },
    {
     "name": "stdout",
     "output_type": "stream",
     "text": [
      "====================================================================================================\n",
      "[9] [22]\n"
     ]
    },
    {
     "data": {
      "text/html": [
       "<p><span><b>Context:</b> Newcastle has three cathedrals, the Anglican St. Nicholas, with its elegant lantern tower of 1474, the Roman Catholic St. Mary's designed by Augustus Welby Pugin and the Coptic Cathedral located in Fenham. All three cathedrals began their lives as parish churches. St Mary's became a cathedral in 1850 and St Nicholas' in 1882. Another prominent church in the city centre is the Church of St Thomas the Martyr which is the only parish church in the Church of England without a parish and which is not a peculiar.</span><br /><span><b>Question:</b> What year was St. Nicholas' lantern tower made?</span><br /><span style=\"color:blue\"><b>Possible answers:</b><br /><ul><li style=\"color:blue\">1474</li><li style=\"color:blue\">1474</li><li style=\"color:blue\">1474</li></ul></span><br /><span style=\"color:green\"><b>Prediction:</b>=, with its elegant lantern tower of 1474, the Roman Catholic St. Mary=</span><br /><span style=\"color:green\"><b>Probability:</b> 0.021%</span><br />"
      ],
      "text/plain": [
       "<IPython.core.display.HTML object>"
      ]
     },
     "metadata": {},
     "output_type": "display_data"
    },
    {
     "name": "stdout",
     "output_type": "stream",
     "text": [
      "====================================================================================================\n",
      "[17] [17]\n"
     ]
    },
    {
     "data": {
      "text/html": [
       "<p><span><b>Context:</b> Through combining the definition of electric current as the time rate of change of electric charge, a rule of vector multiplication called Lorentz's Law describes the force on a charge moving in a magnetic field. The connection between electricity and magnetism allows for the description of a unified electromagnetic force that acts on a charge. This force can be written as a sum of the electrostatic force (due to the electric field) and the magnetic force (due to the magnetic field). Fully stated, this is the law:</span><br /><span><b>Question:</b> What magnetic and electric force acts on a charge?</span><br /><span style=\"color:blue\"><b>Possible answers:</b><br /><ul><li style=\"color:blue\">unified electromagnetic</li><li style=\"color:blue\">unified electromagnetic force</li><li style=\"color:blue\">electromagnetic</li><li style=\"color:blue\">unified electromagnetic force</li></ul></span><br /><span style=\"color:green\"><b>Prediction:</b>=a=</span><br /><span style=\"color:green\"><b>Probability:</b> 0.017%</span><br />"
      ],
      "text/plain": [
       "<IPython.core.display.HTML object>"
      ]
     },
     "metadata": {},
     "output_type": "display_data"
    },
    {
     "name": "stdout",
     "output_type": "stream",
     "text": [
      "====================================================================================================\n",
      "[203] [154]\n"
     ]
    },
    {
     "data": {
      "text/html": [
       "<p><span><b>Context:</b> However, a problem emerged regarding the directions taken by ABC and UPT. In 1950, Noble appointed Robert Kintner to be ABC's president while he himself served as its CEO, a position he would hold until his death in 1958. Despite the promise of non-interference between ABC and UPT, Goldenson had to intervene in ABC's decisions because of financial problems and the FCC's long period of indecision. Goldenson added to the confusion when, in October 1954, he proposed a merger between UPT and the DuMont Television Network, which was also mired in financial trouble. As part of this merger, the network would have been renamed \"ABC-DuMont\" for five years, and DuMont would have received $5 million in cash, room on the schedule for existing DuMont programming, and guaranteed advertising time for DuMont Laboratories receivers. In addition, to comply with FCC ownership restrictions, it would have been required to sell either WABC-TV or DuMont owned-and-operated station WABD in the New York City market, as well as two other stations. The merged ABC-DuMont would have had the resources to compete with CBS and NBC.</span><br /><span><b>Question:</b> Goldenson proposed a merger between UPT and what network in October 1954?</span><br /><span style=\"color:blue\"><b>Possible answers:</b><br /><ul><li style=\"color:blue\">DuMont Television Network</li><li style=\"color:blue\">DuMont Television Network</li><li style=\"color:blue\">DuMont Television Network</li></ul></span><br /><span style=\"color:green\"><b>Prediction:</b>==</span><br /><span style=\"color:green\"><b>Probability:</b> 0.008%</span><br />"
      ],
      "text/plain": [
       "<IPython.core.display.HTML object>"
      ]
     },
     "metadata": {},
     "output_type": "display_data"
    },
    {
     "name": "stdout",
     "output_type": "stream",
     "text": [
      "====================================================================================================\n",
      "[80] [109]\n"
     ]
    },
    {
     "data": {
      "text/html": [
       "<p><span><b>Context:</b> Luther's Commentary on Genesis contains a passage which concludes that \"the soul does not sleep (anima non sic dormit), but wakes (sed vigilat) and experiences visions\". Francis Blackburne in 1765 argued that John Jortin misread this and other passages from Luther, while Gottfried Fritschel pointed out in 1867 that it actually refers to the soul of a man \"in this life\" (homo enim in hac vita) tired from his daily labour (defatigus diurno labore) who at night enters his bedchamber (sub noctem intrat in cubiculum suum) and whose sleep is interrupted by dreams.</span><br /><span><b>Question:</b> Who stated that John Jortin misunderstood Luther?</span><br /><span style=\"color:blue\"><b>Possible answers:</b><br /><ul><li style=\"color:blue\">Francis Blackburne</li><li style=\"color:blue\">Francis Blackburne</li><li style=\"color:blue\">Blackburne</li></ul></span><br /><span style=\"color:green\"><b>Prediction:</b>=tired from his daily labour (defatigus diurno labore) who at night enters his bedchamber (sub noctem intrat in cubiculum suum) and whose sleep is interrupted by=</span><br /><span style=\"color:green\"><b>Probability:</b> 0.026%</span><br />"
      ],
      "text/plain": [
       "<IPython.core.display.HTML object>"
      ]
     },
     "metadata": {},
     "output_type": "display_data"
    },
    {
     "name": "stdout",
     "output_type": "stream",
     "text": [
      "====================================================================================================\n",
      "[0] [75]\n"
     ]
    },
    {
     "data": {
      "text/html": [
       "<p><span><b>Context:</b> The Mallee and upper Wimmera are Victoria's warmest regions with hot winds blowing from nearby semi-deserts. Average temperatures exceed 32 °C (90 °F) during summer and 15 °C (59 °F) in winter. Except at cool mountain elevations, the inland monthly temperatures are 2–7 °C (4–13 °F) warmer than around Melbourne (see chart). Victoria's highest maximum temperature since World War II, of 48.8 °C (119.8 °F) was recorded in Hopetoun on 7 February 2009, during the 2009 southeastern Australia heat wave.</span><br /><span><b>Question:</b> What is Victoria's highest monthly temperature?</span><br /><span style=\"color:blue\"><b>Possible answers:</b><br /><ul><li style=\"color:blue\">48.8 °C</li><li style=\"color:blue\">48.8 °C</li><li style=\"color:blue\">48.8 °C (119.8 °F)</li></ul></span><br /><span style=\"color:green\"><b>Prediction:</b>=The Mallee and upper Wimmera are Victoria's warmest regions with hot winds blowing from nearby semi-deserts. Average temperatures exceed 32 °C (90 °F) during summer and 15 °C (59 °F) in winter. Except at cool mountain elevations, the inland monthly temperatures are 2–7 °C (4–13 °F) warmer than around Melbourne (see chart). Victoria's highest=</span><br /><span style=\"color:green\"><b>Probability:</b> 0.027%</span><br />"
      ],
      "text/plain": [
       "<IPython.core.display.HTML object>"
      ]
     },
     "metadata": {},
     "output_type": "display_data"
    },
    {
     "name": "stdout",
     "output_type": "stream",
     "text": [
      "====================================================================================================\n",
      "[3] [125]\n"
     ]
    },
    {
     "data": {
      "text/html": [
       "<p><span><b>Context:</b> The sculpture collection at the V&A is the most comprehensive holding of post-classical European sculpture in the world. There are approximately 22,000 objects in the collection that cover the period from about 400 AD to 1914. This covers among other periods Byzantine and Anglo Saxon ivory sculptures, British, French and Spanish medieval statues and carvings, the Renaissance, Baroque, Neo-Classical, Victorian and Art Nouveau periods. All uses of sculpture are represented, from tomb and memorial, to portrait, allegorical, religious, mythical, statues for gardens including fountains, as well as architectural decorations. Materials used include, marble, alabaster, stone, terracotta, wood (history of wood carving), ivory, gesso, plaster, bronze, lead and ceramics.</span><br /><span><b>Question:</b> Approximately how many objects are in the V&A sculpture collection?</span><br /><span style=\"color:blue\"><b>Possible answers:</b><br /><ul><li style=\"color:blue\">22,000</li><li style=\"color:blue\">22,000 objects</li><li style=\"color:blue\">22,000</li></ul></span><br /><span style=\"color:green\"><b>Prediction:</b>=at the V&A is the most comprehensive holding of post-classical European sculpture in the world. There are approximately 22,000 objects in the collection that cover the period from about 400 AD to 1914. This covers among other periods Byzantine and Anglo Saxon ivory sculptures, British, French and Spanish medieval statues and carvings, the Renaissance, Baroque, Neo-Classical, Victorian and Art Nouveau periods. All uses of sculpture are represented, from tomb and memorial, to portrait, allegorical, religious, mythical, statues for gardens including fountains, as well as architectural decorations. Materials used include, marble, alabaster, stone, terracotta, wood (history of=</span><br /><span style=\"color:green\"><b>Probability:</b> 0.016%</span><br />"
      ],
      "text/plain": [
       "<IPython.core.display.HTML object>"
      ]
     },
     "metadata": {},
     "output_type": "display_data"
    },
    {
     "name": "stdout",
     "output_type": "stream",
     "text": [
      "====================================================================================================\n",
      "[8] [106]\n"
     ]
    },
    {
     "data": {
      "text/html": [
       "<p><span><b>Context:</b> After an unmanned LM test flight AS-206, a crew would fly the first Block II CSM and LM in a dual mission known as AS-207/208, or AS-278 (each spacecraft would be launched on a separate Saturn IB.) The Block II crew positions were titled Commander (CDR) Command Module Pilot (CMP) and Lunar Module Pilot (LMP). The astronauts would begin wearing a new Apollo spacesuit, designed to accommodate lunar extravehicular activity (EVA). The traditional visor helmet was replaced with a clear \"fishbowl\" type for greater visibility, and the lunar surface EVA suit would include a water-cooled undergarment.</span><br /><span><b>Question:</b> What did the LMP acronym stand for regarding the Block II launch positions?</span><br /><span style=\"color:blue\"><b>Possible answers:</b><br /><ul><li style=\"color:blue\">Lunar Module Pilot</li><li style=\"color:blue\">Lunar Module Pilot</li><li style=\"color:blue\">Lunar Module Pilot</li><li style=\"color:blue\">Lunar Module Pilot</li><li style=\"color:blue\">Lunar Module Pilot</li></ul></span><br /><span style=\"color:green\"><b>Prediction:</b>=a crew would fly the first Block II CSM and LM in a dual mission known as AS-207/208, or AS-278 (each spacecraft would be launched on a separate Saturn IB.) The Block II crew positions were titled Commander (CDR) Command Module Pilot (CMP) and Lunar Module Pilot (LMP). The astronauts would begin wearing a new Apollo spacesuit, designed to accommodate lunar extravehicular activity (EVA). The traditional visor helmet was replaced with a clear \"fishbowl\" type for greater visibility, and the lunar=</span><br /><span style=\"color:green\"><b>Probability:</b> 0.025%</span><br />"
      ],
      "text/plain": [
       "<IPython.core.display.HTML object>"
      ]
     },
     "metadata": {},
     "output_type": "display_data"
    },
    {
     "name": "stdout",
     "output_type": "stream",
     "text": [
      "====================================================================================================\n",
      "[0] [84]\n"
     ]
    },
    {
     "data": {
      "text/html": [
       "<p><span><b>Context:</b> Some of the oldest schools in South Africa are private church schools that were established by missionaries in the early nineteenth century. The private sector has grown ever since. After the abolition of apartheid, the laws governing private education in South Africa changed significantly. The South African Schools Act of 1996 recognises two categories of schools: \"public\" (state-controlled) and \"independent\" (which includes traditional private schools and schools which are privately governed[clarification needed].)</span><br /><span><b>Question:</b> What South African law recognized two types of schools?</span><br /><span style=\"color:blue\"><b>Possible answers:</b><br /><ul><li style=\"color:blue\">South African Schools Act</li><li style=\"color:blue\">South African Schools Act</li><li style=\"color:blue\">South African Schools Act</li></ul></span><br /><span style=\"color:green\"><b>Prediction:</b>=Some of the oldest schools in South Africa are private church schools that were established by missionaries in the early nineteenth century. The private sector has grown ever since. After the abolition of apartheid, the laws governing private education in South Africa changed significantly. The South African Schools Act of 1996 recognises two categories of schools: \"public\" (state-controlled) and \"independent\" (which includes traditional private schools and schools which are privately governed[clarification=</span><br /><span style=\"color:green\"><b>Probability:</b> 0.287%</span><br />"
      ],
      "text/plain": [
       "<IPython.core.display.HTML object>"
      ]
     },
     "metadata": {},
     "output_type": "display_data"
    },
    {
     "name": "stdout",
     "output_type": "stream",
     "text": [
      "====================================================================================================\n",
      "[36] [37]\n"
     ]
    },
    {
     "data": {
      "text/html": [
       "<p><span><b>Context:</b> A B cell identifies pathogens when antibodies on its surface bind to a specific foreign antigen. This antigen/antibody complex is taken up by the B cell and processed by proteolysis into peptides. The B cell then displays these antigenic peptides on its surface MHC class II molecules. This combination of MHC and antigen attracts a matching helper T cell, which releases lymphokines and activates the B cell. As the activated B cell then begins to divide, its offspring (plasma cells) secrete millions of copies of the antibody that recognizes this antigen. These antibodies circulate in blood plasma and lymph, bind to pathogens expressing the antigen and mark them for destruction by complement activation or for uptake and destruction by phagocytes. Antibodies can also neutralize challenges directly, by binding to bacterial toxins or by interfering with the receptors that viruses and bacteria use to infect cells.</span><br /><span><b>Question:</b> What is the process by which the antigen/antibody complex is processed in to peptides?</span><br /><span style=\"color:blue\"><b>Possible answers:</b><br /><ul><li style=\"color:blue\">proteolysis</li><li style=\"color:blue\">proteolysis</li><li style=\"color:blue\">proteolysis</li></ul></span><br /><span style=\"color:green\"><b>Prediction:</b>=The B=</span><br /><span style=\"color:green\"><b>Probability:</b> 0.011%</span><br />"
      ],
      "text/plain": [
       "<IPython.core.display.HTML object>"
      ]
     },
     "metadata": {},
     "output_type": "display_data"
    },
    {
     "name": "stdout",
     "output_type": "stream",
     "text": [
      "====================================================================================================\n",
      "[134] [146]\n"
     ]
    },
    {
     "data": {
      "text/html": [
       "<p><span><b>Context:</b> The main gallery was redesigned in 1994, the glass balustrade on the staircase and mezzanine are the work of Danny Lane, the gallery covering contemporary glass opened in 2004 and the sacred silver and stained-glass gallery in 2005. In this latter gallery stained glass is displayed alongside silverware starting in the 12th century and continuing to the present. Some of the most outstanding stained glass, dated 1243–48 comes from the Sainte-Chapelle, is displayed along with other examples in the new Medieval & Renaissance galleries. The important 13th-century glass beaker known as the Luck of Edenhall is also displayed in these galleries. Examples of British stained glass are displayed in the British Galleries. One of the most spectacular items in the collection is the chandelier by Dale Chihuly in the rotunda at the Museum's main entrance.</span><br /><span><b>Question:</b> Whose chandelier grace the rotunda at the V&A's main entrance?</span><br /><span style=\"color:blue\"><b>Possible answers:</b><br /><ul><li style=\"color:blue\">Dale Chihuly</li><li style=\"color:blue\">Dale Chihuly</li><li style=\"color:blue\">Dale Chihuly</li></ul></span><br /><span style=\"color:green\"><b>Prediction:</b>=the collection is the chandelier by Dale Chihuly in the rotunda at the=</span><br /><span style=\"color:green\"><b>Probability:</b> 0.013%</span><br />"
      ],
      "text/plain": [
       "<IPython.core.display.HTML object>"
      ]
     },
     "metadata": {},
     "output_type": "display_data"
    },
    {
     "name": "stdout",
     "output_type": "stream",
     "text": [
      "====================================================================================================\n",
      "[38] [129]\n"
     ]
    },
    {
     "data": {
      "text/html": [
       "<p><span><b>Context:</b> There is evidence that there have been significant changes in Amazon rainforest vegetation over the last 21,000 years through the Last Glacial Maximum (LGM) and subsequent deglaciation. Analyses of sediment deposits from Amazon basin paleolakes and from the Amazon Fan indicate that rainfall in the basin during the LGM was lower than for the present, and this was almost certainly associated with reduced moist tropical vegetation cover in the basin. There is debate, however, over how extensive this reduction was. Some scientists argue that the rainforest was reduced to small, isolated refugia separated by open forest and grassland; other scientists argue that the rainforest remained largely intact but extended less far to the north, south, and east than is seen today. This debate has proved difficult to resolve because the practical limitations of working in the rainforest mean that data sampling is biased away from the center of the Amazon basin, and both explanations are reasonably well supported by the available data.</span><br /><span><b>Question:</b> What has been analyzed to compare Amazon rainfall in the past and present?</span><br /><span style=\"color:blue\"><b>Possible answers:</b><br /><ul><li style=\"color:blue\">sediment deposits</li><li style=\"color:blue\">sediment deposits</li><li style=\"color:blue\">sediment deposits</li></ul></span><br /><span style=\"color:green\"><b>Prediction:</b>=and from the Amazon Fan indicate that rainfall in the basin during the LGM was lower than for the present, and this was almost certainly associated with reduced moist tropical vegetation cover in the basin. There is debate, however, over how extensive this reduction was. Some scientists argue that the rainforest was reduced to small, isolated refugia separated by open forest and grassland; other scientists argue that the rainforest remained largely intact but extended less far to the north, south, and east than=</span><br /><span style=\"color:green\"><b>Probability:</b> 0.011%</span><br />"
      ],
      "text/plain": [
       "<IPython.core.display.HTML object>"
      ]
     },
     "metadata": {},
     "output_type": "display_data"
    },
    {
     "name": "stdout",
     "output_type": "stream",
     "text": [
      "====================================================================================================\n",
      "[165] [14]\n"
     ]
    },
    {
     "data": {
      "text/html": [
       "<p><span><b>Context:</b>  Seamans' establishment of an ad-hoc committee headed by his special technical assistant Nicholas E. Golovin in July 1961, to recommend a launch vehicle to be used in the Apollo program, represented a turning point in NASA's mission mode decision. This committee recognized that the chosen mode was an important part of the launch vehicle choice, and recommended in favor of a hybrid EOR-LOR mode. Its consideration of LOR —as well as Houbolt's ceaseless work— played an important role in publicizing the workability of the approach. In late 1961 and early 1962, members of the Manned Spacecraft Center began to come around to support LOR, including the newly hired deputy director of the Office of Manned Space Flight, Joseph Shea, who became a champion of LOR. The engineers at Marshall Space Flight Center (MSFC) took longer to become convinced of its merits, but their conversion was announced by Wernher von Braun at a briefing in June 1962.</span><br /><span><b>Question:</b> Who led the committee established by Seaman?</span><br /><span style=\"color:blue\"><b>Possible answers:</b><br /><ul><li style=\"color:blue\">Nicholas E. Golovin</li><li style=\"color:blue\">Nicholas E. Golovin</li><li style=\"color:blue\">Nicholas E. Golovin</li><li style=\"color:blue\">Nicholas E. Golovin</li><li style=\"color:blue\">Nicholas E. Golovin</li><li style=\"color:blue\">Nicholas E. Golovin</li></ul></span><br /><span style=\"color:green\"><b>Prediction:</b>==</span><br /><span style=\"color:green\"><b>Probability:</b> 0.009%</span><br />"
      ],
      "text/plain": [
       "<IPython.core.display.HTML object>"
      ]
     },
     "metadata": {},
     "output_type": "display_data"
    },
    {
     "name": "stdout",
     "output_type": "stream",
     "text": [
      "====================================================================================================\n",
      "[112] [91]\n"
     ]
    },
    {
     "data": {
      "text/html": [
       "<p><span><b>Context:</b> There are also several smaller freight operators and numerous tourist railways operating over lines which were once parts of a state-owned system. Victorian lines mainly use the 1,600 mm (5 ft 3 in) broad gauge. However, the interstate trunk routes, as well as a number of branch lines in the west of the state have been converted to 1,435 mm (4 ft 8 1⁄2 in) standard gauge. Two tourist railways operate over 760 mm (2 ft 6 in) narrow gauge lines, which are the remnants of five formerly government-owned lines which were built in mountainous areas.</span><br /><span><b>Question:</b> What gauge of rail lines do two tourist lines use?</span><br /><span style=\"color:blue\"><b>Possible answers:</b><br /><ul><li style=\"color:blue\">760 mm</li><li style=\"color:blue\">760 mm (2 ft 6 in) narrow gauge lines</li><li style=\"color:blue\">760 mm (2 ft 6 in) narrow gauge lines</li></ul></span><br /><span style=\"color:green\"><b>Prediction:</b>==</span><br /><span style=\"color:green\"><b>Probability:</b> 0.051%</span><br />"
      ],
      "text/plain": [
       "<IPython.core.display.HTML object>"
      ]
     },
     "metadata": {},
     "output_type": "display_data"
    },
    {
     "name": "stdout",
     "output_type": "stream",
     "text": [
      "====================================================================================================\n",
      "[91] [33]\n"
     ]
    },
    {
     "data": {
      "text/html": [
       "<p><span><b>Context:</b> Trevithick continued his own experiments using a trio of locomotives, concluding with the Catch Me Who Can in 1808. Only four years later, the successful twin-cylinder locomotive Salamanca by Matthew Murray was used by the edge railed rack and pinion Middleton Railway. In 1825 George Stephenson built the Locomotion for the Stockton and Darlington Railway. This was the first public steam railway in the world and then in 1829, he built The Rocket which was entered in and won the Rainhill Trials. The Liverpool and Manchester Railway opened in 1830 making exclusive use of steam power for both passenger and freight trains.</span><br /><span><b>Question:</b> On what railroad was Salamanca used?</span><br /><span style=\"color:blue\"><b>Possible answers:</b><br /><ul><li style=\"color:blue\">Middleton Railway</li><li style=\"color:blue\">Middleton Railway</li><li style=\"color:blue\">Middleton Railway</li></ul></span><br /><span style=\"color:green\"><b>Prediction:</b>==</span><br /><span style=\"color:green\"><b>Probability:</b> 0.028%</span><br />"
      ],
      "text/plain": [
       "<IPython.core.display.HTML object>"
      ]
     },
     "metadata": {},
     "output_type": "display_data"
    },
    {
     "name": "stdout",
     "output_type": "stream",
     "text": [
      "====================================================================================================\n",
      "[91] [33]\n"
     ]
    },
    {
     "data": {
      "text/html": [
       "<p><span><b>Context:</b> Trevithick continued his own experiments using a trio of locomotives, concluding with the Catch Me Who Can in 1808. Only four years later, the successful twin-cylinder locomotive Salamanca by Matthew Murray was used by the edge railed rack and pinion Middleton Railway. In 1825 George Stephenson built the Locomotion for the Stockton and Darlington Railway. This was the first public steam railway in the world and then in 1829, he built The Rocket which was entered in and won the Rainhill Trials. The Liverpool and Manchester Railway opened in 1830 making exclusive use of steam power for both passenger and freight trains.</span><br /><span><b>Question:</b> On what railroad was Salamanca used?</span><br /><span style=\"color:blue\"><b>Possible answers:</b><br /><ul><li style=\"color:blue\">Middleton Railway</li><li style=\"color:blue\">Middleton Railway</li><li style=\"color:blue\">Middleton Railway</li></ul></span><br /><span style=\"color:green\"><b>Prediction:</b>==</span><br /><span style=\"color:green\"><b>Probability:</b> 0.028%</span><br />"
      ],
      "text/plain": [
       "<IPython.core.display.HTML object>"
      ]
     },
     "metadata": {},
     "output_type": "display_data"
    },
    {
     "name": "stdout",
     "output_type": "stream",
     "text": [
      "====================================================================================================\n",
      "[37] [123]\n"
     ]
    },
    {
     "data": {
      "text/html": [
       "<p><span><b>Context:</b> Once Mutual's appeals against the FCC were rejected, RCA decided to sell NBC Blue in 1941, and gave the mandate to do so to Mark Woods. RCA converted the NBC Blue Network into an independent subsidiary, formally divorcing the operations of NBC Red and NBC Blue on January 8, 1942, with the Blue Network being referred to on-air as either \"Blue\" or \"Blue Network\". The newly separated NBC Red and NBC Blue divided their respective corporate assets. Between 1942 and 1943, Woods offered to sell the entire NBC Blue Network, a package that included leases on landlines, three pending television licenses (WJZ-TV in New York City, KGO-TV in San Francisco and WENR-TV in Chicago), 60 affiliates, four operations facilities (in New York City, Chicago, Los Angeles and Washington D.C.), contracts with actors, and the brand associated with the Blue Network. Investment firm Dillon, Read & Co. (which was later acquired by the Swiss Bank Corporation in 1997) offered $7.5 million to purchase the network, but the offer was rejected by Woods and RCA president David Sarnoff.</span><br /><span><b>Question:</b> What network was converted into an independent subsidiary by RCA in 1942?</span><br /><span style=\"color:blue\"><b>Possible answers:</b><br /><ul><li style=\"color:blue\">NBC Blue Network</li><li style=\"color:blue\">NBC Blue Network</li><li style=\"color:blue\">NBC Blue Network</li></ul></span><br /><span style=\"color:green\"><b>Prediction:</b>=an independent subsidiary, formally divorcing the operations of NBC Red and NBC Blue on January 8, 1942, with the Blue Network being referred to on-air as either \"Blue\" or \"Blue Network\". The newly separated NBC Red and NBC Blue divided their respective corporate assets. Between 1942 and 1943, Woods offered to sell the entire NBC Blue Network, a package that included leases on landlines, three pending television licenses (WJZ-TV in=</span><br /><span style=\"color:green\"><b>Probability:</b> 0.004%</span><br />"
      ],
      "text/plain": [
       "<IPython.core.display.HTML object>"
      ]
     },
     "metadata": {},
     "output_type": "display_data"
    },
    {
     "name": "stdout",
     "output_type": "stream",
     "text": [
      "====================================================================================================\n",
      "[58] [60]\n"
     ]
    },
    {
     "data": {
      "text/html": [
       "<p><span><b>Context:</b> In Germany, teachers are mainly civil servants recruited in special university classes, called Lehramtstudien (Teaching Education Studies). There are many differences between the teachers for elementary schools (Grundschule), lower secondary schools (Hauptschule), middle level secondary schools (Realschule) and higher level secondary schools (Gymnasium). Salaries for teachers depend on the civil servants' salary index scale (Bundesbesoldungsordnung).</span><br /><span><b>Question:</b> What are teachers considered to be in Germany?</span><br /><span style=\"color:blue\"><b>Possible answers:</b><br /><ul><li style=\"color:blue\">civil servants</li><li style=\"color:blue\">civil servants</li><li style=\"color:blue\">civil servants</li></ul></span><br /><span style=\"color:green\"><b>Prediction:</b>=. Salaries for=</span><br /><span style=\"color:green\"><b>Probability:</b> 0.051%</span><br />"
      ],
      "text/plain": [
       "<IPython.core.display.HTML object>"
      ]
     },
     "metadata": {},
     "output_type": "display_data"
    },
    {
     "name": "stdout",
     "output_type": "stream",
     "text": [
      "====================================================================================================\n",
      "[141] [164]\n"
     ]
    },
    {
     "data": {
      "text/html": [
       "<p><span><b>Context:</b> A large body of mathematical work would still be valid when calling 1 a prime, but Euclid's fundamental theorem of arithmetic (mentioned above) would not hold as stated. For example, the number 15 can be factored as 3 · 5 and 1 · 3 · 5; if 1 were admitted as a prime, these two presentations would be considered different factorizations of 15 into prime numbers, so the statement of that theorem would have to be modified. Similarly, the sieve of Eratosthenes would not work correctly if 1 were considered a prime: a modified version of the sieve that considers 1 as prime would eliminate all multiples of 1 (that is, all other numbers) and produce as output only the single number 1. Furthermore, the prime numbers have several properties that the number 1 lacks, such as the relationship of the number to its corresponding value of Euler's totient function or the sum of divisors function.</span><br /><span><b>Question:</b> What is another function that primes have that the number 1 does not?</span><br /><span style=\"color:blue\"><b>Possible answers:</b><br /><ul><li style=\"color:blue\">Euler's totient function</li><li style=\"color:blue\">sum of divisors function</li><li style=\"color:blue\">sum of divisors function</li><li style=\"color:blue\">the sum of divisors function</li><li style=\"color:blue\">sum of divisors</li></ul></span><br /><span style=\"color:green\"><b>Prediction:</b>=the prime numbers have several properties that the number 1 lacks, such as the relationship of the number to its corresponding value of=</span><br /><span style=\"color:green\"><b>Probability:</b> 0.008%</span><br />"
      ],
      "text/plain": [
       "<IPython.core.display.HTML object>"
      ]
     },
     "metadata": {},
     "output_type": "display_data"
    },
    {
     "name": "stdout",
     "output_type": "stream",
     "text": [
      "====================================================================================================\n",
      "[33] [55]\n"
     ]
    },
    {
     "data": {
      "text/html": [
       "<p><span><b>Context:</b> It has been claimed that the transmission of the first episode was delayed by ten minutes due to extended news coverage of the assassination of US President John F. Kennedy the previous day; whereas in fact it went out after a delay of eighty seconds. The BBC believed that many viewers had missed this introduction to a new series due to the coverage of the assassination, as well as a series of power blackouts across the country, and they broadcast it again on 30 November 1963, just before episode two.</span><br /><span><b>Question:</b> How long was the broadcast delay the first time the series premiered?</span><br /><span style=\"color:blue\"><b>Possible answers:</b><br /><ul><li style=\"color:blue\">eighty seconds</li><li style=\"color:blue\">ten minutes</li><li style=\"color:blue\">ten minutes</li></ul></span><br /><span style=\"color:green\"><b>Prediction:</b>=; whereas in fact it went out after a delay of eighty seconds. The BBC believed that many viewers had missed this=</span><br /><span style=\"color:green\"><b>Probability:</b> 0.062%</span><br />"
      ],
      "text/plain": [
       "<IPython.core.display.HTML object>"
      ]
     },
     "metadata": {},
     "output_type": "display_data"
    },
    {
     "name": "stdout",
     "output_type": "stream",
     "text": [
      "====================================================================================================\n",
      "[49] [98]\n"
     ]
    },
    {
     "data": {
      "text/html": [
       "<p><span><b>Context:</b> In February 2010, in response to controversies regarding claims in the Fourth Assessment Report, five climate scientists – all contributing or lead IPCC report authors – wrote in the journal Nature calling for changes to the IPCC. They suggested a range of new organizational options, from tightening the selection of lead authors and contributors, to dumping it in favor of a small permanent body, or even turning the whole climate science assessment process into a moderated \"living\" Wikipedia-IPCC. Other recommendations included that the panel employ a full-time staff and remove government oversight from its processes to avoid political interference.</span><br /><span><b>Question:</b> How many scientists called to change the IPCC in Feb 2010?</span><br /><span style=\"color:blue\"><b>Possible answers:</b><br /><ul><li style=\"color:blue\">five</li><li style=\"color:blue\">five</li><li style=\"color:blue\">five</li></ul></span><br /><span style=\"color:green\"><b>Prediction:</b>=from tightening the selection of lead authors and contributors, to dumping it in favor of a small permanent body, or even turning the whole climate science assessment process into a moderated \"living\" Wikipedia-IPCC. Other recommendations included that the panel employ a full-=</span><br /><span style=\"color:green\"><b>Probability:</b> 0.021%</span><br />"
      ],
      "text/plain": [
       "<IPython.core.display.HTML object>"
      ]
     },
     "metadata": {},
     "output_type": "display_data"
    },
    {
     "name": "stdout",
     "output_type": "stream",
     "text": [
      "====================================================================================================\n",
      "[5] [103]\n"
     ]
    },
    {
     "data": {
      "text/html": [
       "<p><span><b>Context:</b> Tesla gained experience in telephony and electrical engineering before emigrating to the United States in 1884 to work for Thomas Edison in New York City. He soon struck out on his own with financial backers, setting up laboratories and companies to develop a range of electrical devices. His patented AC induction motor and transformer were licensed by George Westinghouse, who also hired Tesla for a short time as a consultant. His work in the formative years of electric power development was involved in a corporate alternating current/direct current \"War of Currents\" as well as various patent battles.</span><br /><span><b>Question:</b> What \"war\" was Tesla involved in?</span><br /><span style=\"color:blue\"><b>Possible answers:</b><br /><ul><li style=\"color:blue\">War of Currents</li><li style=\"color:blue\">War of Currents</li><li style=\"color:blue\">War of Currents</li></ul></span><br /><span style=\"color:green\"><b>Prediction:</b>=and electrical engineering before emigrating to the United States in 1884 to work for Thomas Edison in New York City. He soon struck out on his own with financial backers, setting up laboratories and companies to develop a range of electrical devices. His patented AC induction motor and transformer were licensed by George Westinghouse, who also hired Tesla for a short time as a consultant. His work in the formative years of electric power development was involved in a corporate alternating current/direct current \"War of Currents\" as well as various=</span><br /><span style=\"color:green\"><b>Probability:</b> 0.031%</span><br />"
      ],
      "text/plain": [
       "<IPython.core.display.HTML object>"
      ]
     },
     "metadata": {},
     "output_type": "display_data"
    },
    {
     "name": "stdout",
     "output_type": "stream",
     "text": [
      "====================================================================================================\n",
      "[0] [13]\n"
     ]
    },
    {
     "data": {
      "text/html": [
       "<p><span><b>Context:</b> Environmentalists are concerned about loss of biodiversity that will result from destruction of the forest, and also about the release of the carbon contained within the vegetation, which could accelerate global warming. Amazonian evergreen forests account for about 10% of the world's terrestrial primary productivity and 10% of the carbon stores in ecosystems—of the order of 1.1 × 1011 metric tonnes of carbon. Amazonian forests are estimated to have accumulated 0.62 ± 0.37 tons of carbon per hectare per year between 1975 and 1996.</span><br /><span><b>Question:</b> The loss of biodiversity may be the result of what, according to environmentalists?</span><br /><span style=\"color:blue\"><b>Possible answers:</b><br /><ul><li style=\"color:blue\">destruction of the forest</li><li style=\"color:blue\">destruction of the forest</li><li style=\"color:blue\">destruction of the forest</li></ul></span><br /><span style=\"color:green\"><b>Prediction:</b>=Environmentalists are concerned about loss of biodiversity that will result from destruction of the=</span><br /><span style=\"color:green\"><b>Probability:</b> 0.230%</span><br />"
      ],
      "text/plain": [
       "<IPython.core.display.HTML object>"
      ]
     },
     "metadata": {},
     "output_type": "display_data"
    },
    {
     "name": "stdout",
     "output_type": "stream",
     "text": [
      "====================================================================================================\n"
     ]
    }
   ],
   "source": [
    "for index in np.random.choice(len(valid_qas), size=25, replace=False):\n",
    "    id = valid_qas[index].id_\n",
    "    context = valid_qas[index].context\n",
    "    question = valid_qas[index].question\n",
    "\n",
    "    answers = []\n",
    "    for qa in valid_qas:\n",
    "        if id == qa.id_:\n",
    "            answers.append(qa.answer)\n",
    "\n",
    "    prediction, proba = inference(\n",
    "        model=model,\n",
    "        context=context,\n",
    "        question=question,\n",
    "        text_vocab=text_vocabulary,\n",
    "        pos_vocab=part_of_speech_vocabulary,\n",
    "        ner_vocab=named_entity_types_vocabulary,\n",
    "        device=DEVICE\n",
    "    )\n",
    "    \n",
    "    html = f'<p><span><b>Context:</b> {context.text}</span><br />'\n",
    "    html += f'<span><b>Question:</b> {question.text}</span><br />'\n",
    "    html += f'<span style=\"color:blue\"><b>Possible answers:</b><br /><ul>'\n",
    "    for answer in answers:\n",
    "        html += f'<li style=\"color:blue\">{answer.text}</li>'\n",
    "    html += '</ul></span><br />'\n",
    "    html += f'<span style=\"color:green\"><b>Prediction:</b>={prediction}=</span><br />'\n",
    "    html += f'<span style=\"color:green\"><b>Probability:</b> {proba * 100:.3f}%</span><br />'\n",
    "    display(HTML(html))\n",
    "    print('='*100)"
   ]
  },
  {
   "cell_type": "code",
   "execution_count": null,
   "metadata": {
    "id": "v7JFJMsaEQAL",
    "pycharm": {
     "name": "#%%\n"
    }
   },
   "outputs": [],
   "source": []
  }
 ],
 "metadata": {
  "accelerator": "GPU",
  "colab": {
   "authorship_tag": "ABX9TyNbESkBXxHvfxvShB4a49KZ",
   "collapsed_sections": [],
   "include_colab_link": true,
   "name": "1 - DrQA, Document reader Question Answering.ipynb",
   "provenance": []
  },
  "kernelspec": {
   "display_name": "Python 3 (ipykernel)",
   "language": "python",
   "name": "python3"
  },
  "language_info": {
   "codemirror_mode": {
    "name": "ipython",
    "version": 3
   },
   "file_extension": ".py",
   "mimetype": "text/x-python",
   "name": "python",
   "nbconvert_exporter": "python",
   "pygments_lexer": "ipython3",
   "version": "3.7.13"
  }
 },
 "nbformat": 4,
 "nbformat_minor": 1
}
