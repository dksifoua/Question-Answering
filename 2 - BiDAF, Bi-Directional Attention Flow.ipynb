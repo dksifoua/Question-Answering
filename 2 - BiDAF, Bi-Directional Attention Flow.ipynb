{
  "nbformat": 4,
  "nbformat_minor": 0,
  "metadata": {
    "colab": {
      "name": "2 - BiDAF, Bi-Directional Attention Flow.ipynb",
      "provenance": [],
      "authorship_tag": "ABX9TyOxH8o87fFSDw0EwNZdztiC",
      "include_colab_link": true
    },
    "kernelspec": {
      "name": "python3",
      "display_name": "Python 3"
    },
    "accelerator": "GPU"
  },
  "cells": [
    {
      "cell_type": "markdown",
      "metadata": {
        "id": "view-in-github",
        "colab_type": "text"
      },
      "source": [
        "<a href=\"https://colab.research.google.com/github/dksifoua/Question-Answering/blob/master/2%20-%20BiDAF%2C%20Bi-Directional%20Attention%20Flow.ipynb\" target=\"_parent\"><img src=\"https://colab.research.google.com/assets/colab-badge.svg\" alt=\"Open In Colab\"/></a>"
      ]
    },
    {
      "cell_type": "code",
      "metadata": {
        "id": "v3jaO1fBTsLh",
        "outputId": "0de32081-3b70-4db4-ce01-2feea5c79198",
        "colab": {
          "base_uri": "https://localhost:8080/"
        }
      },
      "source": [
        "!nvidia-smi"
      ],
      "execution_count": null,
      "outputs": [
        {
          "output_type": "stream",
          "text": [
            "Mon Nov  2 00:15:26 2020       \n",
            "+-----------------------------------------------------------------------------+\n",
            "| NVIDIA-SMI 455.32.00    Driver Version: 418.67       CUDA Version: 10.1     |\n",
            "|-------------------------------+----------------------+----------------------+\n",
            "| GPU  Name        Persistence-M| Bus-Id        Disp.A | Volatile Uncorr. ECC |\n",
            "| Fan  Temp  Perf  Pwr:Usage/Cap|         Memory-Usage | GPU-Util  Compute M. |\n",
            "|                               |                      |               MIG M. |\n",
            "|===============================+======================+======================|\n",
            "|   0  Tesla T4            Off  | 00000000:00:04.0 Off |                    0 |\n",
            "| N/A   32C    P8     9W /  70W |      0MiB / 15079MiB |      0%      Default |\n",
            "|                               |                      |                 ERR! |\n",
            "+-------------------------------+----------------------+----------------------+\n",
            "                                                                               \n",
            "+-----------------------------------------------------------------------------+\n",
            "| Processes:                                                                  |\n",
            "|  GPU   GI   CI        PID   Type   Process name                  GPU Memory |\n",
            "|        ID   ID                                                   Usage      |\n",
            "|=============================================================================|\n",
            "|  No running processes found                                                 |\n",
            "+-----------------------------------------------------------------------------+\n"
          ],
          "name": "stdout"
        }
      ]
    },
    {
      "cell_type": "markdown",
      "metadata": {
        "id": "DGiJMYm_B81X"
      },
      "source": [
        "## Load dependencies"
      ]
    },
    {
      "cell_type": "code",
      "metadata": {
        "id": "8gPQcEJLBv1v"
      },
      "source": [
        "!pip install tqdm --upgrade >> /dev/null 2>&1\n",
        "!pip install spacy --upgrade >> /dev/null 2>&1\n",
        "!python -m spacy download en >> /dev/null 2>&1"
      ],
      "execution_count": null,
      "outputs": []
    },
    {
      "cell_type": "code",
      "metadata": {
        "id": "xWtyKHkMB_8G"
      },
      "source": [
        "import re\n",
        "import json\n",
        "import time\n",
        "import tqdm\n",
        "import spacy\n",
        "import string\n",
        "import itertools\n",
        "import collections\n",
        "import numpy as np\n",
        "import matplotlib.pyplot as plt\n",
        "%matplotlib inline\n",
        "\n",
        "from IPython.core.display import display, HTML\n",
        "\n",
        "import torch\n",
        "import torch.nn as nn\n",
        "import torch.nn.functional as F\n",
        "import torch.optim as optim\n",
        "from torch.nn.utils.rnn import pack_padded_sequence, pad_sequence, pad_packed_sequence\n",
        "from torch.utils.data import Dataset, DataLoader"
      ],
      "execution_count": null,
      "outputs": []
    },
    {
      "cell_type": "code",
      "metadata": {
        "id": "pW1BjtqnCBsT",
        "outputId": "70c06412-be53-44ae-9dbe-cc6caca03f62",
        "colab": {
          "base_uri": "https://localhost:8080/"
        }
      },
      "source": [
        "SEED = 546\n",
        "np.random.seed(SEED)\n",
        "torch.manual_seed(SEED)\n",
        "torch.cuda.manual_seed(SEED)\n",
        "torch.backends.cudnn.deterministic = True\n",
        "\n",
        "DEVICE = torch.device('cuda' if torch.cuda.is_available() else 'cpu')\n",
        "print(f'Device: {DEVICE}')"
      ],
      "execution_count": null,
      "outputs": [
        {
          "output_type": "stream",
          "text": [
            "Device: cuda\n"
          ],
          "name": "stdout"
        }
      ]
    },
    {
      "cell_type": "markdown",
      "metadata": {
        "id": "6ggRN9-XCFHt"
      },
      "source": [
        "## Prepare data\n",
        "\n",
        "***Download data***"
      ]
    },
    {
      "cell_type": "code",
      "metadata": {
        "id": "kb86TTR9CDo1",
        "outputId": "4d32332f-4ae0-4525-c0c9-9472d554d6f8",
        "colab": {
          "base_uri": "https://localhost:8080/"
        }
      },
      "source": [
        "!rm -rf ./data\n",
        "!mkdir ./data\n",
        "\n",
        "!wget --no-check-certificate \\\n",
        "    https://rajpurkar.github.io/SQuAD-explorer/dataset/train-v1.1.json \\\n",
        "    -O ./data/train-v1.1.json\n",
        "\n",
        "!wget --no-check-certificate \\\n",
        "    https://rajpurkar.github.io/SQuAD-explorer/dataset/dev-v1.1.json \\\n",
        "    -O ./data/dev-v1.1.json"
      ],
      "execution_count": null,
      "outputs": [
        {
          "output_type": "stream",
          "text": [
            "--2020-11-02 00:15:51--  https://rajpurkar.github.io/SQuAD-explorer/dataset/train-v1.1.json\n",
            "Resolving rajpurkar.github.io (rajpurkar.github.io)... 185.199.110.153, 185.199.111.153, 185.199.108.153, ...\n",
            "Connecting to rajpurkar.github.io (rajpurkar.github.io)|185.199.110.153|:443... connected.\n",
            "HTTP request sent, awaiting response... 200 OK\n",
            "Length: 30288272 (29M) [application/json]\n",
            "Saving to: ‘./data/train-v1.1.json’\n",
            "\n",
            "./data/train-v1.1.j 100%[===================>]  28.88M  60.8MB/s    in 0.5s    \n",
            "\n",
            "2020-11-02 00:15:53 (60.8 MB/s) - ‘./data/train-v1.1.json’ saved [30288272/30288272]\n",
            "\n",
            "--2020-11-02 00:15:53--  https://rajpurkar.github.io/SQuAD-explorer/dataset/dev-v1.1.json\n",
            "Resolving rajpurkar.github.io (rajpurkar.github.io)... 185.199.110.153, 185.199.111.153, 185.199.108.153, ...\n",
            "Connecting to rajpurkar.github.io (rajpurkar.github.io)|185.199.110.153|:443... connected.\n",
            "HTTP request sent, awaiting response... 200 OK\n",
            "Length: 4854279 (4.6M) [application/json]\n",
            "Saving to: ‘./data/dev-v1.1.json’\n",
            "\n",
            "./data/dev-v1.1.jso 100%[===================>]   4.63M  22.3MB/s    in 0.2s    \n",
            "\n",
            "2020-11-02 00:15:54 (22.3 MB/s) - ‘./data/dev-v1.1.json’ saved [4854279/4854279]\n",
            "\n"
          ],
          "name": "stdout"
        }
      ]
    },
    {
      "cell_type": "markdown",
      "metadata": {
        "id": "R0y727K0CLPi"
      },
      "source": [
        "***Load JSON data***"
      ]
    },
    {
      "cell_type": "code",
      "metadata": {
        "id": "qfu-hBviCJlX"
      },
      "source": [
        "def load(path):\n",
        "    with open(path, mode='r', encoding='utf-8') as file:\n",
        "        return json.load(file)['data']\n",
        "    raise FileNotFoundError"
      ],
      "execution_count": null,
      "outputs": []
    },
    {
      "cell_type": "code",
      "metadata": {
        "id": "f4fMZAv3CNrn",
        "outputId": "be3786f9-0e68-43e1-819c-c784781055f4",
        "colab": {
          "base_uri": "https://localhost:8080/"
        }
      },
      "source": [
        "train_raw_data = load('./data/train-v1.1.json')\n",
        "valid_raw_data = load('./data/dev-v1.1.json')\n",
        "print(f'Length of raw train data: {len(train_raw_data):,}')\n",
        "print(f'Length of raw valid data: {len(valid_raw_data):,}')"
      ],
      "execution_count": null,
      "outputs": [
        {
          "output_type": "stream",
          "text": [
            "Length of raw train data: 442\n",
            "Length of raw valid data: 48\n"
          ],
          "name": "stdout"
        }
      ]
    },
    {
      "cell_type": "markdown",
      "metadata": {
        "id": "ERscP6f0CQ0O"
      },
      "source": [
        "***Parse JSON data***"
      ]
    },
    {
      "cell_type": "code",
      "metadata": {
        "id": "ATlQnyzzCPiD"
      },
      "source": [
        "def parse(data, nlp=spacy.load('en')):\n",
        "    qas = []\n",
        "    for paragraphs in tqdm.tqdm(data):\n",
        "        for para in paragraphs['paragraphs']:\n",
        "            context = nlp(para['context'], disable=['parser'])\n",
        "            for qa in para['qas']:\n",
        "                id = qa['id']\n",
        "                question = nlp(qa['question'], disable=['parser', 'tagger', 'ner'])\n",
        "                for ans in qa['answers']:\n",
        "                    qas.append({\n",
        "                        'id': id,\n",
        "                        'context': context,\n",
        "                        'question': question,\n",
        "                        'answer': nlp(ans['text'], disable=['parser', 'tagger', 'ner']),\n",
        "                        'answer_start': ans['answer_start'],\n",
        "                    })\n",
        "    return qas"
      ],
      "execution_count": null,
      "outputs": []
    },
    {
      "cell_type": "code",
      "metadata": {
        "id": "lt9BCilFCUQa",
        "outputId": "7a1a5380-259b-44de-f1ea-64fe56c5e965",
        "colab": {
          "base_uri": "https://localhost:8080/"
        }
      },
      "source": [
        "train_qas = parse(train_raw_data)\n",
        "valid_qas = parse(valid_raw_data)\n",
        "print()\n",
        "print(f'Length of train qa pairs: {len(train_qas):,}')\n",
        "print(f'Length of valid qa pairs: {len(valid_qas):,}')\n",
        "print('==================== Example ====================')\n",
        "print('Id:', train_qas[0]['id'])\n",
        "print('Context:', train_qas[0]['context'])\n",
        "print('Question:', train_qas[0]['question'])\n",
        "print('Answer starts at:', train_qas[0]['answer_start'])\n",
        "print('Answer:', train_qas[0]['answer'])"
      ],
      "execution_count": null,
      "outputs": [
        {
          "output_type": "stream",
          "text": [
            "100%|██████████| 442/442 [04:43<00:00,  1.56it/s]\n",
            "100%|██████████| 48/48 [00:34<00:00,  1.40it/s]"
          ],
          "name": "stderr"
        },
        {
          "output_type": "stream",
          "text": [
            "\n",
            "Length of train qa pairs: 87,599\n",
            "Length of valid qa pairs: 34,726\n",
            "==================== Example ====================\n",
            "Id: 5733be284776f41900661182\n",
            "Context: Architecturally, the school has a Catholic character. Atop the Main Building's gold dome is a golden statue of the Virgin Mary. Immediately in front of the Main Building and facing it, is a copper statue of Christ with arms upraised with the legend \"Venite Ad Me Omnes\". Next to the Main Building is the Basilica of the Sacred Heart. Immediately behind the basilica is the Grotto, a Marian place of prayer and reflection. It is a replica of the grotto at Lourdes, France where the Virgin Mary reputedly appeared to Saint Bernadette Soubirous in 1858. At the end of the main drive (and in a direct line that connects through 3 statues and the Gold Dome), is a simple, modern stone statue of Mary.\n",
            "Question: To whom did the Virgin Mary allegedly appear in 1858 in Lourdes France?\n",
            "Answer starts at: 515\n",
            "Answer: Saint Bernadette Soubirous\n"
          ],
          "name": "stdout"
        },
        {
          "output_type": "stream",
          "text": [
            "\n"
          ],
          "name": "stderr"
        }
      ]
    },
    {
      "cell_type": "code",
      "metadata": {
        "id": "nHPb0qoZCWJI"
      },
      "source": [
        "def test_answer_start(qas):\n",
        "    \"\"\"Test answer_start are correct in train set\"\"\"\n",
        "    for qa in tqdm.tqdm(qas):\n",
        "        answer = qa['answer'].text\n",
        "        context = qa['context'].text\n",
        "        answer_start = qa['answer_start']\n",
        "        assert answer == context[answer_start:answer_start + len(answer)]"
      ],
      "execution_count": null,
      "outputs": []
    },
    {
      "cell_type": "code",
      "metadata": {
        "id": "0DlkS-j_CYGP",
        "outputId": "d79ce175-3e01-4f85-a60d-d71139d6c63f",
        "colab": {
          "base_uri": "https://localhost:8080/"
        }
      },
      "source": [
        "test_answer_start(train_qas)\n",
        "test_answer_start(valid_qas)"
      ],
      "execution_count": null,
      "outputs": [
        {
          "output_type": "stream",
          "text": [
            "100%|██████████| 87599/87599 [00:07<00:00, 11019.19it/s]\n",
            "100%|██████████| 34726/34726 [00:02<00:00, 11754.15it/s]\n"
          ],
          "name": "stderr"
        }
      ]
    },
    {
      "cell_type": "markdown",
      "metadata": {
        "id": "ouXUgEPDCbLD"
      },
      "source": [
        "***Add targets***"
      ]
    },
    {
      "cell_type": "code",
      "metadata": {
        "id": "buP4vPkYCZw7"
      },
      "source": [
        "def add_targets(qas):\n",
        "    \"\"\"Add start and end index token\"\"\"\n",
        "    for qa in qas:\n",
        "        context = qa['context']\n",
        "        answer = qa['answer']\n",
        "        ans_start = qa['answer_start']\n",
        "        for i in range(len(context)):\n",
        "            if context[i].idx == ans_start:\n",
        "                ans = context[i:i + len(answer)]\n",
        "                qa['target'] = [ans[0].i, ans[-1].i]\n",
        "                break"
      ],
      "execution_count": null,
      "outputs": []
    },
    {
      "cell_type": "code",
      "metadata": {
        "id": "B7mSkiVkCd_K",
        "outputId": "bbb0a053-13b7-4a0a-aaa0-5ed75554c163",
        "colab": {
          "base_uri": "https://localhost:8080/"
        }
      },
      "source": [
        "%%time\n",
        "add_targets(train_qas)\n",
        "add_targets(valid_qas)\n",
        "print(f'Length of train qa pairs: {len(train_qas):,}')\n",
        "print(f'Length of valid qa pairs: {len(valid_qas):,}')"
      ],
      "execution_count": null,
      "outputs": [
        {
          "output_type": "stream",
          "text": [
            "Length of train qa pairs: 87,599\n",
            "Length of valid qa pairs: 34,726\n",
            "CPU times: user 1.5 s, sys: 22 ms, total: 1.52 s\n",
            "Wall time: 1.53 s\n"
          ],
          "name": "stdout"
        }
      ]
    },
    {
      "cell_type": "code",
      "metadata": {
        "id": "Q5_zJuHvCffV"
      },
      "source": [
        "def filter_qas(qa):\n",
        "    \"\"\"Remove bad targets\"\"\"\n",
        "    if 'target' in [*qa.keys()]:\n",
        "        start, end = qa['target']\n",
        "        return qa['context'][start:end + 1].text == qa['answer'].text\n",
        "    return False"
      ],
      "execution_count": null,
      "outputs": []
    },
    {
      "cell_type": "code",
      "metadata": {
        "id": "KkVgJ6IyCg0x",
        "outputId": "2e7d4001-b6d5-422a-b274-4ef0931deb29",
        "colab": {
          "base_uri": "https://localhost:8080/"
        }
      },
      "source": [
        "%%time\n",
        "train_qas = [*filter(filter_qas, train_qas)]\n",
        "valid_qas = [*filter(filter_qas, valid_qas)]\n",
        "print(f'Length of train qa pairs after filtering out bad qa pairs: {len(train_qas):,}')\n",
        "print(f'Length of valid qa pairs after filtering out bad qa pairs: {len(valid_qas):,}')"
      ],
      "execution_count": null,
      "outputs": [
        {
          "output_type": "stream",
          "text": [
            "Length of train qa pairs after filtering out bad qa pairs: 86,597\n",
            "Length of valid qa pairs after filtering out bad qa pairs: 34,295\n",
            "CPU times: user 1.16 s, sys: 2.01 ms, total: 1.16 s\n",
            "Wall time: 1.16 s\n"
          ],
          "name": "stdout"
        }
      ]
    },
    {
      "cell_type": "code",
      "metadata": {
        "id": "RSMjuQhwCiNv"
      },
      "source": [
        "def test_targets(qas):\n",
        "    for qa in qas:\n",
        "        if 'target' in [*qa.keys()]:\n",
        "            start, end = qa['target']\n",
        "            assert qa['context'][start:end + 1].text == qa['answer'].text"
      ],
      "execution_count": null,
      "outputs": []
    },
    {
      "cell_type": "code",
      "metadata": {
        "id": "Sr7E1xOjCj-K",
        "outputId": "7e54fee5-81d9-44ad-8ee8-c931532d76a0",
        "colab": {
          "base_uri": "https://localhost:8080/"
        }
      },
      "source": [
        "%%time\n",
        "test_targets(train_qas)\n",
        "test_targets(valid_qas)"
      ],
      "execution_count": null,
      "outputs": [
        {
          "output_type": "stream",
          "text": [
            "CPU times: user 1.09 s, sys: 957 µs, total: 1.09 s\n",
            "Wall time: 1.1 s\n"
          ],
          "name": "stdout"
        }
      ]
    },
    {
      "cell_type": "markdown",
      "metadata": {
        "id": "84HJAR6GdpED"
      },
      "source": [
        "***Build vocabularies***"
      ]
    },
    {
      "cell_type": "code",
      "metadata": {
        "id": "JAmWSXQjCljY"
      },
      "source": [
        "class Vocab:\n",
        "\n",
        "    def __init__(self, pad_token, unk_token):\n",
        "        self.pad_token = pad_token\n",
        "        self.unk_token = unk_token\n",
        "        self.vocab = None\n",
        "        self.word2count = None\n",
        "        self.word2index = None\n",
        "        self.index2word = None\n",
        "    \n",
        "    def build(self, data, min_freq):\n",
        "        \"\"\"\n",
        "        :param List[Union[spacy.tokens.doc.Doc, str]] data\n",
        "        :param int min_freq\n",
        "        \"\"\"\n",
        "        words = [self.pad_token, self.unk_token]\n",
        "        type_0 = type(data[0])\n",
        "        if type_0 == spacy.tokens.doc.Doc:\n",
        "            for item in data: # context and question\n",
        "                words += [word.text.lower() for word in item]\n",
        "        elif type_0 == str: # id\n",
        "            words += data\n",
        "        self.word2count = collections.Counter(words)\n",
        "        self.vocab = sorted(filter(\n",
        "            lambda word: self.word2count[word] >= min_freq or word == self.pad_token or word == self.unk_token, self.word2count\n",
        "        ))\n",
        "        self.word2index = {word: index for index, word in enumerate(self.vocab)}\n",
        "        self.index2word = {index: word for index, word in enumerate(self.vocab)}\n",
        "    \n",
        "    def __len__(self):\n",
        "        return len(self.vocab)\n",
        "    \n",
        "    def stoi(self, word):\n",
        "        return self.word2index.get(str(word), self.word2index[self.unk_token])\n",
        "\n",
        "    def itos(self, index):\n",
        "        return self.index2word[index]"
      ],
      "execution_count": null,
      "outputs": []
    },
    {
      "cell_type": "code",
      "metadata": {
        "id": "8r99JmT2jWWL"
      },
      "source": [
        "class CharVocab:\n",
        "\n",
        "    def __init__(self, pad_token, unk_token):\n",
        "        self.pad_token = pad_token\n",
        "        self.unk_token = unk_token\n",
        "        self.vocab = None\n",
        "        self.char2count = None\n",
        "        self.char2index = None\n",
        "        self.index2char = None\n",
        "    \n",
        "    def build(self, data, min_freq):\n",
        "        \"\"\"\n",
        "        :param List[Union[spacy.tokens.doc.Doc, str, Tuple]] data\n",
        "        :param int min_freq\n",
        "        \"\"\"\n",
        "        chars = [self.pad_token, self.unk_token]\n",
        "        type_0 = type(data[0])\n",
        "        if type_0 == spacy.tokens.doc.Doc:\n",
        "            for item in data: # context and question\n",
        "                for word in item:\n",
        "                    chars += [*word.text.lower().strip()]\n",
        "        else:\n",
        "            raise Exception\n",
        "        self.char2count = collections.Counter(chars)\n",
        "        self.vocab = sorted(filter(\n",
        "            lambda char: self.char2count[char] >= min_freq or char == self.pad_token or char == self.unk_token, self.char2count\n",
        "        ))\n",
        "        self.char2index = {char: index for index, char in enumerate(self.vocab)}\n",
        "        self.index2char = {index: char for index, char in enumerate(self.vocab)}\n",
        "    \n",
        "    def __len__(self):\n",
        "        return len(self.vocab)\n",
        "    \n",
        "    def stoi(self, char):\n",
        "        return self.char2index.get(str(char), self.char2index[self.unk_token])\n",
        "\n",
        "    def itos(self, index):\n",
        "        return self.index2char[index]"
      ],
      "execution_count": null,
      "outputs": []
    },
    {
      "cell_type": "code",
      "metadata": {
        "id": "F7tXPZ9Tds_8",
        "outputId": "4887463d-584e-4ad3-983e-f8b56acfe970",
        "colab": {
          "base_uri": "https://localhost:8080/"
        }
      },
      "source": [
        "%%time\n",
        "PAD_TOKEN = '<pad>'\n",
        "UNK_TOKEN = '<unk>'\n",
        "\n",
        "ID = Vocab(pad_token=PAD_TOKEN, unk_token=UNK_TOKEN)\n",
        "TEXT = Vocab(pad_token=PAD_TOKEN, unk_token=UNK_TOKEN)\n",
        "CHAR = CharVocab(pad_token=PAD_TOKEN, unk_token=UNK_TOKEN)\n",
        "\n",
        "ids = [*map(lambda qa: qa['id'], train_qas)] + [*map(lambda qa: qa['id'], valid_qas)]\n",
        "contexts, questions = zip(*map(lambda qa: (qa['context'], qa['question']), train_qas))\n",
        "\n",
        "ID.build(data=[*set(ids)], min_freq=0)\n",
        "TEXT.build(data=[*set(contexts)] + [*set(questions)], min_freq=5)\n",
        "CHAR.build(data=[*set(contexts)] + [*set(questions)], min_freq=0)\n",
        "\n",
        "print(f'Length of ID vocabulary: {len(ID):,}')\n",
        "print(f'Length of TEXT vocabulary: {len(TEXT):,}')\n",
        "print(f'Length of CHAR vocabulary: {len(CHAR):,}')"
      ],
      "execution_count": null,
      "outputs": [
        {
          "output_type": "stream",
          "text": [
            "Length of ID vocabulary: 97,108\n",
            "Length of TEXT vocabulary: 26,885\n",
            "Length of CHAR vocabulary: 1,261\n",
            "CPU times: user 9.44 s, sys: 271 ms, total: 9.71 s\n",
            "Wall time: 9.71 s\n"
          ],
          "name": "stdout"
        }
      ]
    },
    {
      "cell_type": "markdown",
      "metadata": {
        "id": "rapWup-Ud2Av"
      },
      "source": [
        "***Build datasets***"
      ]
    },
    {
      "cell_type": "code",
      "metadata": {
        "id": "sdtOEqEudz6d"
      },
      "source": [
        "class SQuADV1Dataset(Dataset):\n",
        "\n",
        "    def __init__(self, data, id_vocab, text_vocab, char_vocab):\n",
        "        self.data = data\n",
        "        self.id_vocab = id_vocab\n",
        "        self.text_vocab = text_vocab\n",
        "        self.char_vocab = char_vocab\n",
        "    \n",
        "    def __len__(self):\n",
        "        return len(self.data)\n",
        "    \n",
        "    def __getitem__(self, idx):\n",
        "        item = self.data[idx]\n",
        "        \n",
        "        id = torch.LongTensor([self.id_vocab.stoi(item['id'])])\n",
        "\n",
        "        context = item['context']\n",
        "        ctx = torch.LongTensor([*map(lambda word: self.text_vocab.stoi(word.text.lower()), context)])\n",
        "        char_ctx = [*map(lambda word: [*map(self.char_vocab.stoi, [*word.text.lower().strip()])], context)]\n",
        "        char_len_ctx = torch.LongTensor([*map(len, char_ctx)])\n",
        "        char_ctx = torch.LongTensor([*itertools.chain.from_iterable(char_ctx)])\n",
        "        \n",
        "        question = item['question']\n",
        "        qst = torch.LongTensor([*map(lambda word: self.text_vocab.stoi(word.text.lower()), question)])\n",
        "        char_qst = [*map(lambda word: [*map(self.char_vocab.stoi, [*word.text.lower().strip()])], question)]\n",
        "        char_len_qst = torch.LongTensor([*map(len, char_qst)])\n",
        "        char_qst = torch.LongTensor([*itertools.chain.from_iterable(char_qst)])\n",
        "        \n",
        "        trg = torch.LongTensor(item['target'])\n",
        "        \n",
        "        return id, ctx, char_ctx, char_len_ctx, qst, char_qst, char_len_qst, trg"
      ],
      "execution_count": null,
      "outputs": []
    },
    {
      "cell_type": "code",
      "metadata": {
        "id": "e-HEQ-hXd-Ku",
        "outputId": "a4c985d4-5baa-4bfe-9088-9c7fad3df1d3",
        "colab": {
          "base_uri": "https://localhost:8080/"
        }
      },
      "source": [
        "train_dataset = SQuADV1Dataset(data=train_qas, id_vocab=ID, text_vocab=TEXT, char_vocab=CHAR)\n",
        "valid_dataset = SQuADV1Dataset(data=valid_qas, id_vocab=ID, text_vocab=TEXT, char_vocab=CHAR)\n",
        "\n",
        "id, ctx, char_ctx, char_len_ctx, qst, char_qst, char_len_qst, trg = train_dataset[0]\n",
        "print(f'id shape: {id.shape}')\n",
        "print(f'ctx shape: {ctx.shape}')\n",
        "print(f'char_ctx shape: {char_ctx.shape}')\n",
        "print(f'char_len_ctx shape: {char_len_ctx.shape}')\n",
        "print(f'qst shape: {qst.shape}')\n",
        "print(f'char_qst shape: {char_qst.shape}')\n",
        "print(f'char_len_qst shape: {char_len_qst.shape}')\n",
        "print(f'trg shape: {trg.shape}')"
      ],
      "execution_count": null,
      "outputs": [
        {
          "output_type": "stream",
          "text": [
            "id shape: torch.Size([1])\n",
            "ctx shape: torch.Size([142])\n",
            "char_ctx shape: torch.Size([572])\n",
            "char_len_ctx shape: torch.Size([142])\n",
            "qst shape: torch.Size([14])\n",
            "char_qst shape: torch.Size([59])\n",
            "char_len_qst shape: torch.Size([14])\n",
            "trg shape: torch.Size([2])\n"
          ],
          "name": "stdout"
        }
      ]
    },
    {
      "cell_type": "markdown",
      "metadata": {
        "id": "oega32XHeGKk"
      },
      "source": [
        "***Build data loaders***"
      ]
    },
    {
      "cell_type": "code",
      "metadata": {
        "id": "dVTo0LX2eDUM"
      },
      "source": [
        "class DotDict(dict):\n",
        "    __getattr__ = dict.get"
      ],
      "execution_count": null,
      "outputs": []
    },
    {
      "cell_type": "code",
      "metadata": {
        "id": "4Srky9S0INuy"
      },
      "source": [
        "def pad_char_sequence(batch_padded_seq, batch_char_seq, batch_char_len, pad_index):\n",
        "    \"\"\"\n",
        "    :param Tensor[batch_size, seq_len] batch_padded_seq\n",
        "    :param ListTensor[batch_size, seq_len * n_chars] batch_char_seq\n",
        "    :param ListTensor[batch_size, seq_len] batch_char_len\n",
        "    \"\"\"\n",
        "    max_char_len = 0\n",
        "    for char_len in batch_char_len:\n",
        "        m = char_len.max().item()\n",
        "        if m > max_char_len:\n",
        "            max_char_len = m\n",
        "    batch_padded_char = torch.ones((batch_padded_seq.size(0), batch_padded_seq.size(1), max_char_len), dtype=torch.long) * pad_index\n",
        "    for i in range(batch_padded_seq.size(0)):\n",
        "        seq = batch_padded_seq[i] # [seq_len]\n",
        "        char_seq = batch_char_seq[i] # [seq_len * n_chars]\n",
        "        char_len = batch_char_len[i] # [seq_len]\n",
        "        j = 0\n",
        "        for k, length in enumerate(char_len):\n",
        "            batch_padded_char[i, k, j:length] = char_seq[j:length]\n",
        "            j += length\n",
        "    return batch_padded_char"
      ],
      "execution_count": null,
      "outputs": []
    },
    {
      "cell_type": "code",
      "metadata": {
        "id": "JPCbAkgieIHA"
      },
      "source": [
        "def add_padding(batch, text_vocab=TEXT, char_vocab=CHAR, include_lengths=True, device=DEVICE):\n",
        "    \"\"\"Pad batch of sequence with different lengths\"\"\"\n",
        "    batch_id, batch_ctx, batch_char_ctx, batch_char_len_ctx, batch_qst, batch_char_qst, batch_char_len_qst, batch_trg = zip(*batch)\n",
        "    if include_lengths:\n",
        "        len_ctx = torch.LongTensor([ctx.size(0) for ctx in batch_ctx]).to(device)\n",
        "        len_qst = torch.LongTensor([qst.size(0) for qst in batch_qst]).to(device)\n",
        "    batch_padded_id = pad_sequence(batch_id, batch_first=True).to(device)\n",
        "    batch_padded_ctx = pad_sequence(batch_ctx, batch_first=True, padding_value=text_vocab.stoi(text_vocab.pad_token)).to(device)\n",
        "    batch_padded_qst = pad_sequence(batch_qst, batch_first=True, padding_value=text_vocab.stoi(text_vocab.pad_token)).to(device)\n",
        "    batch_padded_trg = pad_sequence(batch_trg, batch_first=True).to(device)\n",
        "\n",
        "    pad_index = char_vocab.stoi(text_vocab.pad_token)\n",
        "    batch_padded_char_ctx = pad_char_sequence(batch_padded_seq=batch_padded_ctx,\n",
        "                                              batch_char_seq=batch_char_ctx,\n",
        "                                              batch_char_len=batch_char_len_ctx,\n",
        "                                              pad_index=pad_index).to(device)\n",
        "    batch_padded_char_qst = pad_char_sequence(batch_padded_seq=batch_padded_qst,\n",
        "                                              batch_char_seq=batch_char_qst,\n",
        "                                              batch_char_len=batch_char_len_qst,\n",
        "                                              pad_index=pad_index).to(device)\n",
        "    return DotDict({\n",
        "        'id': batch_padded_id,\n",
        "        'ctx': (batch_padded_ctx, len_ctx) if include_lengths else batch_padded_ctx,\n",
        "        'ctx_char': batch_padded_char_ctx,\n",
        "        'qst': (batch_padded_qst, len_qst) if include_lengths else batch_padded_qst,\n",
        "        'qst_char': batch_padded_char_qst,\n",
        "        'trg': batch_padded_trg\n",
        "    })"
      ],
      "execution_count": null,
      "outputs": []
    },
    {
      "cell_type": "code",
      "metadata": {
        "id": "Fzjzrs0jeRqH",
        "outputId": "bb1fd569-30cf-41d1-e67b-8e2703c653fa",
        "colab": {
          "base_uri": "https://localhost:8080/"
        }
      },
      "source": [
        "BATCH_SIZE = 60\n",
        "\n",
        "train_dataloader = DataLoader(train_dataset, batch_size=BATCH_SIZE, collate_fn=add_padding)\n",
        "valid_dataloader = DataLoader(valid_dataset, batch_size=BATCH_SIZE, collate_fn=add_padding)\n",
        "\n",
        "for batch in train_dataloader:\n",
        "    print('batch.id shape:', batch.id.shape)\n",
        "    print('batch.ctx shape:', batch.ctx[0].shape, batch.ctx[1].shape)\n",
        "    print('batch.ctx_char shape:', batch.ctx_char.shape)\n",
        "    print('batch.qst shape:', batch.qst[0].shape, batch.qst[1].shape)\n",
        "    print('batch.qst_char shape:', batch.qst_char.shape)\n",
        "    print('batch.trg shape:', batch.trg.shape)\n",
        "    break"
      ],
      "execution_count": null,
      "outputs": [
        {
          "output_type": "stream",
          "text": [
            "batch.id shape: torch.Size([60, 1])\n",
            "batch.ctx shape: torch.Size([60, 253]) torch.Size([60])\n",
            "batch.ctx_char shape: torch.Size([60, 253, 15])\n",
            "batch.qst shape: torch.Size([60, 19]) torch.Size([60])\n",
            "batch.qst_char shape: torch.Size([60, 19, 14])\n",
            "batch.trg shape: torch.Size([60, 2])\n"
          ],
          "name": "stdout"
        }
      ]
    },
    {
      "cell_type": "markdown",
      "metadata": {
        "id": "To4eVORkeW7m"
      },
      "source": [
        "***TODO: Download pretrained GloVe embedding***"
      ]
    },
    {
      "cell_type": "markdown",
      "metadata": {
        "id": "VEigy0CNeZLl"
      },
      "source": [
        "## Modeling\n",
        "\n",
        "***Character Embedding Layer***"
      ]
    },
    {
      "cell_type": "code",
      "metadata": {
        "id": "fnVyXJRoMVWx"
      },
      "source": [
        "class CharacterEmbeddingLayer(nn.Module):\n",
        "\n",
        "    def __init__(self, char_vocab_size, char_embedding_size, token_embedding_size, kernel_size, pad_index):\n",
        "        super(CharacterEmbeddingLayer, self).__init__()\n",
        "        self.char_vocab_size = char_vocab_size\n",
        "        self.char_embedding_size = char_embedding_size\n",
        "        self.token_embedding_size = token_embedding_size\n",
        "        self.kernel_size = kernel_size\n",
        "        self.pad_index = pad_index\n",
        "        self.embedding = nn.Embedding(char_vocab_size, char_embedding_size, padding_idx=pad_index)\n",
        "        self.cond2d = nn.Conv2d(1, token_embedding_size, kernel_size=(char_embedding_size, kernel_size))\n",
        "    \n",
        "    def forward(self, char_sequences):\n",
        "        \"\"\"\n",
        "        :param LongTensor[batch_size, seq_len, char_len]\n",
        "        :return FloatTensor[batch_size, seq_len, token_embedding_size]\n",
        "        \"\"\"\n",
        "        embedded = self.embedding(char_sequences) # [batch_size, seq_len, char_len, char_embedding_size]\n",
        "        embedded = embedded.transpose(-1, -2) # [batch_size, seq_len, char_embedding_size, char_len]\n",
        "        embedded = embedded.view(-1, self.char_embedding_size, embedded.size(-1)) # [batch_size * seq_len, char_embedding_size, char_len]\n",
        "        embedded = embedded.unsqueeze(1) # [batch_size * seq_len, 1, char_embedding_size, char_len]\n",
        "        conved = F.relu(self.cond2d(embedded)) # [batch_size * seq_len, token_embedding_size, 1, char_len - kernel_size + 1]\n",
        "        conved = conved.squeeze(2) # [batch_size * seq_len, token_embedding_size, char_len - kernel_size + 1]\n",
        "        out = F.max_pool1d(conved, kernel_size=conved.size(-1)) # [batch_size * seq_len, token_embedding_size, 1]\n",
        "        # print(out.shape, '[batch_size * seq_len, token_embedding_size, 1, char_len - kernel_size + 1]')\n",
        "        out = out.squeeze(-1) # [batch_size * seq_len, token_embedding_size]\n",
        "        out = out.view(char_sequences.size(0), -1, out.size(-1)) # [batch_size, seq_len, token_embedding_size]\n",
        "        # May be apply bias + tanh non linearity???\n",
        "        return out"
      ],
      "execution_count": null,
      "outputs": []
    },
    {
      "cell_type": "markdown",
      "metadata": {
        "id": "z0RZx7dnc2VL"
      },
      "source": [
        "***Highway Network Layer***\n",
        "\n",
        "[Highway Networks paper](https://arxiv.org/pdf/1505.00387.pdf)"
      ]
    },
    {
      "cell_type": "code",
      "metadata": {
        "id": "oUEGI76ac0eS"
      },
      "source": [
        "class HighwayNetworkLayer(nn.Module):\n",
        "\n",
        "    def __init__(self, hidden_size, n_layers):\n",
        "        super(HighwayNetworkLayer, self).__init__()\n",
        "        self.hidden_size = hidden_size\n",
        "        self.n_layers = n_layers\n",
        "        self.fc_flow = nn.ModuleList([nn.Linear(hidden_size, hidden_size) for _ in range(n_layers)])\n",
        "        self.fc_gate = nn.ModuleList([nn.Linear(hidden_size, hidden_size) for _ in range(n_layers)])\n",
        "    \n",
        "    def forward(self, x):\n",
        "        \"\"\"\n",
        "        :param FloatTensor[batch_size, seq_len, hidden_size] x\n",
        "        :return FloatTensor[batch_size, seq_len, hidden_size]\n",
        "        \"\"\"\n",
        "        for i in range(self.n_layers):\n",
        "            flow = F.relu(self.fc_flow[i](x))\n",
        "            gate = torch.sigmoid(self.fc_gate[i](x))\n",
        "            x = gate * flow + (1 - gate) * x\n",
        "        return x"
      ],
      "execution_count": null,
      "outputs": []
    },
    {
      "cell_type": "markdown",
      "metadata": {
        "id": "JmkM5YvfiCEY"
      },
      "source": [
        "***Contextual Embedding Layer***"
      ]
    },
    {
      "cell_type": "code",
      "metadata": {
        "id": "1WmZQqxaiAXv"
      },
      "source": [
        "class ContextualEmbeddingLayer(nn.Module):\n",
        "\n",
        "    def __init__(self, hidden_size, n_layers):\n",
        "        super(ContextualEmbeddingLayer, self).__init__()\n",
        "        self.hidden_size = hidden_size\n",
        "        self.n_layers = n_layers\n",
        "        self.high_network_layer = HighwayNetworkLayer(hidden_size=hidden_size, n_layers=n_layers)\n",
        "        self.lstm = nn.LSTM(hidden_size, hidden_size, batch_first=True, bidirectional=True)\n",
        "\n",
        "    def forward(self, inputs, sequence_lengths):\n",
        "        \"\"\"\n",
        "        :param FloatTensor[batch_size, seq_len, hidden_size] inputs\n",
        "        :param FloatTensor[batch_size,] sequence_lengths\n",
        "        :return FloatTensor[batch_size, seq_len, hidden_size * 2]\n",
        "        \"\"\"\n",
        "        highway = self.high_network_layer(inputs) # [batch_size, seq_len, hidden_size]\n",
        "        packed = pack_padded_sequence(highway, sequence_lengths, batch_first=True, enforce_sorted=False)\n",
        "        out_packed, _ = self.lstm(packed)\n",
        "        out_padded, _ = pad_packed_sequence(out_packed, batch_first=True) # [batch_size, seq_len, hidden_size * 2]\n",
        "        return out_padded"
      ],
      "execution_count": null,
      "outputs": []
    },
    {
      "cell_type": "markdown",
      "metadata": {
        "id": "gdscRrrflg98"
      },
      "source": [
        "***Attention Flow Layer***"
      ]
    },
    {
      "cell_type": "code",
      "metadata": {
        "id": "CiY3M145lTC1"
      },
      "source": [
        "class AttentionFlowLayer(nn.Module):\n",
        "\n",
        "    def __init__(self, hidden_size):\n",
        "        super(AttentionFlowLayer, self).__init__()\n",
        "        self.hidden_size = hidden_size\n",
        "        self.W = nn.Linear(hidden_size * 3, 1, bias=False)\n",
        "    \n",
        "    def context_query_similarity(self, context, query):\n",
        "        \"\"\"\n",
        "        :param FloatTensor[batch_size, context_len, hidden_size] context\n",
        "        :param FloatTensor[batch_size, query_len, hidden_size] query\n",
        "        :return FloatTensor[batch_size, context_len, query_len]\n",
        "        \"\"\"\n",
        "        context_len, query_len = context.size(1), query.size(1)\n",
        "        context = context.unsqueeze(2).repeat(1, 1, query_len, 1) # [batch_size, context_len, query_len, hidden_size]\n",
        "        query = query.unsqueeze(1).repeat(1, context_len, 1, 1) # [batch_size, context_len, query_len, hidden_size]\n",
        "        concat = torch.cat([context, query, context * query], dim=-1) # [batch_size, context_len, query_len, hidden_size * 3]\n",
        "        return self.W(concat).squeeze(-1)\n",
        "    \n",
        "    def context_query_attention(self, query, scores):\n",
        "        \"\"\"\n",
        "        :param FloatTensor[batch_size, query_len, hidden_size] query\n",
        "        :param FloatTensor[batch_size, context_len, query_len] scores\n",
        "        :return FloatTensor[batch_size, context_len, hidden_size]\n",
        "        \"\"\"\n",
        "        attention_weights = F.softmax(scores, dim=-1) # [batch_size, context_len, query_len]\n",
        "        return torch.bmm(attention_weights, query)\n",
        "    \n",
        "    def query_context_attention(self, context, scores):\n",
        "        \"\"\"\n",
        "        :param FloatTensor[batch_size, context_len, hidden_size] context\n",
        "        :param FloatTensor[batch_size, context_len, query_len] scores\n",
        "        :return FloatTensor[batch_size, 1, hidden_size]\n",
        "        \"\"\"\n",
        "        attention_weights = F.softmax(scores.max(dim=-1).values, dim=-1) # [batch_size, context_len]\n",
        "        return torch.bmm(attention_weights.unsqueeze(1), context)\n",
        "\n",
        "    def query_aware_representation(self, context, context2query, query2context):\n",
        "        \"\"\"\n",
        "        :param FloatTensor[batch_size, context_len, hidden_size] context\n",
        "        :param FloatTensor[batch_size, context_len, hidden_size] context2query\n",
        "        :param FloatTensor[batch_size, 1, hidden_size] query2context\n",
        "        :return FloatTensor[batch_size, context_len, hidden_size * 4]\n",
        "        \"\"\"\n",
        "        query2context = query2context.repeat(1, context.size(1), 1) # [batch_size, context_len, hidden_size]\n",
        "        return torch.cat([context, context2query, context * context2query, context * query2context], dim=-1)\n",
        "\n",
        "    def forward(self, context, query):\n",
        "        \"\"\"\n",
        "        :param FloatTensor[batch_size, context_len, hidden_size] context\n",
        "        :param FloatTensor[batch_size, query_len, hidden_size] query\n",
        "        :return FloatTensor[batch_size, context_len, hidden_size * 4]\n",
        "        \"\"\"\n",
        "        scores = self.context_query_similarity(context=context, query=query)\n",
        "        context2query = self.context_query_attention(query=query, scores=scores)\n",
        "        query2context = self.query_context_attention(context=context, scores=scores)\n",
        "        return self.query_aware_representation(context=context, context2query=context2query, query2context=query2context)"
      ],
      "execution_count": null,
      "outputs": []
    },
    {
      "cell_type": "markdown",
      "metadata": {
        "id": "FduLQiymxe16"
      },
      "source": [
        "***Modeling Layer***"
      ]
    },
    {
      "cell_type": "code",
      "metadata": {
        "id": "csB1ZD4cxcQ-"
      },
      "source": [
        "class ModelingLayer(nn.Module):\n",
        "\n",
        "    def __init__(self, input_size, hidden_size, n_layers):\n",
        "        super(ModelingLayer, self).__init__()\n",
        "        self.input_size = input_size\n",
        "        self.hidden_size = hidden_size\n",
        "        self.n_layers = n_layers\n",
        "        self.lstm = nn.LSTM(input_size, hidden_size, num_layers=n_layers, batch_first=True, bidirectional=True)\n",
        "    \n",
        "    def forward(self, inputs, sequence_lengths):\n",
        "        \"\"\"\n",
        "        :param FloatTensor[batch_size, seq_len, input_size] inputs\n",
        "        :param FloatTensor[batch_size,] sequence_lengths\n",
        "        :return FloatTensor[batch_size, seq_len, hidden_size * 2]\n",
        "        \"\"\"\n",
        "        packed = pack_padded_sequence(inputs, sequence_lengths, batch_first=True, enforce_sorted=False)\n",
        "        out_packed, _ = self.lstm(packed)\n",
        "        out_padded, _ = pad_packed_sequence(out_packed, batch_first=True) # [batch_size, seq_len, hidden_size * 2]\n",
        "        return out_padded"
      ],
      "execution_count": null,
      "outputs": []
    },
    {
      "cell_type": "markdown",
      "metadata": {
        "id": "8MlQDne1zX0R"
      },
      "source": [
        "***Bi-Directional Attention Flow Model***"
      ]
    },
    {
      "cell_type": "code",
      "metadata": {
        "id": "5KajXHxozXBm"
      },
      "source": [
        "class BiDAF(nn.Module):\n",
        "\n",
        "    def __init__(self, char_vocab_size, token_vocab_size, char_embedding_size, token_embedding_size, kernel_size, char_pad_index, token_pad_index, highway_n_layers, modeling_n_layers):\n",
        "        super(BiDAF, self).__init__()\n",
        "        self.char_vocab_size = char_vocab_size\n",
        "        self.token_vocab_size = token_vocab_size\n",
        "        self.char_embedding_size = char_embedding_size\n",
        "        self.token_embedding_size = token_embedding_size\n",
        "        self.kernel_size = kernel_size\n",
        "        self.char_pad_index = char_pad_index\n",
        "        self.token_pad_index = token_pad_index\n",
        "        self.highway_n_layers = highway_n_layers\n",
        "        self.modeling_n_layers = modeling_n_layers\n",
        "        new_hidden_size = token_embedding_size + token_embedding_size\n",
        "        self.token_embedding = nn.Embedding(token_vocab_size, token_embedding_size, padding_idx=token_pad_index)\n",
        "        self.char_embedding = CharacterEmbeddingLayer(char_vocab_size=char_vocab_size,\n",
        "                                                      char_embedding_size=char_embedding_size,\n",
        "                                                      token_embedding_size=token_embedding_size,\n",
        "                                                      kernel_size=kernel_size,\n",
        "                                                      pad_index=char_pad_index)\n",
        "        self.contextual_embedding = ContextualEmbeddingLayer(hidden_size=new_hidden_size, n_layers=highway_n_layers)\n",
        "        self.attention_flow = AttentionFlowLayer(hidden_size=new_hidden_size * 2)\n",
        "        self.modeling = ModelingLayer(input_size=new_hidden_size * 8, hidden_size=new_hidden_size, n_layers=modeling_n_layers)\n",
        "        self.fc_start = nn.Linear(new_hidden_size * 10, 1, bias=False)\n",
        "        self.lstm_end = nn.LSTM(new_hidden_size * 2, new_hidden_size, batch_first=True, bidirectional=True)\n",
        "        self.fc_end = nn.Linear(new_hidden_size * 10, 1, bias=False)\n",
        "    \n",
        "    def feed_lstm(self, inputs, sequence_lengths):\n",
        "        \"\"\"\n",
        "        :param FloatTensor[batch_size, seq_len, hidden_size] x\n",
        "        :param FloatTensor[batch_size,] sequence_lengths\n",
        "        :return FloatTensor[batch_size, seq_len, hidden_size * 2]\n",
        "        \"\"\"\n",
        "        packed = pack_padded_sequence(inputs, sequence_lengths, batch_first=True, enforce_sorted=False)\n",
        "        out_packed, _ = self.lstm_end(packed)\n",
        "        out_padded, _ = pad_packed_sequence(out_packed, batch_first=True) # [batch_size, seq_len, hidden_size * 2]\n",
        "        return out_padded\n",
        "    \n",
        "    @staticmethod\n",
        "    def decode(starts, ends):\n",
        "        \"\"\"\n",
        "        :param IntTensor[batch_size, ctx_len] starts\n",
        "        :param IntTensor[batch_size, ctx_len] ends\n",
        "        :return list(int) start_indexes\n",
        "        :return list(int) end_indexes\n",
        "        :return list(float) pred_probas\n",
        "        \"\"\"\n",
        "        start_indexes, end_indexes, pred_probas = [], [], []\n",
        "        for i in range(starts.size(0)):\n",
        "            probas = torch.ger(starts[i], ends[i]) # [ctx_len, ctx_len]\n",
        "            proba, index = torch.topk(probas.view(-1), k=1)\n",
        "            start_indexes.append(index.tolist()[0] // probas.size(0))\n",
        "            end_indexes.append(index.tolist()[0] % probas.size(1))\n",
        "            pred_probas.append(proba.tolist()[0])\n",
        "        return start_indexes, end_indexes, pred_probas\n",
        "    \n",
        "    def forward(self, ctx, ctx_lengths, ctx_char, qst, qst_lengths, qst_char):\n",
        "        \"\"\"\n",
        "        :param LongTensor[batch_size, ctx_len] ctx\n",
        "        :param LongTensor[batch_size,] ctx_lengths\n",
        "        :param LongTensor[batch_size, ctx_len, ctx_char_len] ctx_char\n",
        "        :param LongTensor[batch_size, qst_len] qst\n",
        "        :param LongTensor[batch_size,] qst_lengths\n",
        "        :param LongTensor[batch_size, qst_len, qst_char_len] qst_char\n",
        "        :return Tensor[batch_size, ctx_len] starts\n",
        "        :return Tensor[batch_size, ctx_len] ends\n",
        "        \"\"\"\n",
        "        # Embeddings + Highway Networks\n",
        "        ctx_token_embedded = self.token_embedding(ctx) # [batch_size, ctx_len, token_embedding_size]\n",
        "        qst_token_embedded = self.token_embedding(qst) # [batch_size, qst_len, token_embedding_size]\n",
        "        ctx_char_embedded = self.char_embedding(char_sequences=ctx_char) # [batch_size, ctx_len, token_embedding_size]\n",
        "        qst_char_embedded = self.char_embedding(char_sequences=qst_char) # [batch_size, qst_len, token_embedding_size]\n",
        "        ctx_embedded = torch.cat([ctx_token_embedded, ctx_char_embedded], dim=-1) # [batch_size, ctx_len, hidden_size=token_embedding_size * 2]\n",
        "        qst_embedded = torch.cat([qst_token_embedded, qst_char_embedded], dim=-1) # [batch_size, qst_len, hidden_size=token_embedding_size * 2]\n",
        "\n",
        "        # Contextualized Embeddings\n",
        "        ctx_contextual_embedded = self.contextual_embedding(inputs=ctx_embedded, sequence_lengths=ctx_lengths) # [batch_size, ctx_len, hidden_size * 2]\n",
        "        qst_contextual_embedded = self.contextual_embedding(inputs=qst_embedded, sequence_lengths=qst_lengths) # [batch_size, qst_len, hidden_size * 2]\n",
        "\n",
        "        # Attention Flow\n",
        "        representation = self.attention_flow(context=ctx_contextual_embedded, query=qst_contextual_embedded) # [batch_size, ctx_len, hidden_size * 8]\n",
        "        \n",
        "        # Modeling\n",
        "        modeled = self.modeling(inputs=representation, sequence_lengths=ctx_lengths) # [batch_size, ctx_len, hidden_size * 2]\n",
        "\n",
        "        # Outputs\n",
        "        x = torch.cat([representation, modeled], dim=-1) # [batch_size, ctx_len, hidden_size * 10]\n",
        "        starts = self.fc_start(x) # [batch_size, ctx_len, 1]\n",
        "        x = self.feed_lstm(inputs=modeled, sequence_lengths=ctx_lengths) # [batch_size, ctx_len, hidden_size * 2]\n",
        "        x = torch.cat([representation, x], dim=-1) # [batch_size, ctx_len, hidden_size * 10]\n",
        "        ends = self.fc_end(x) # [batch_size, ctx_len, 1]\n",
        "\n",
        "        return starts.squeeze(-1), ends.squeeze(-1)"
      ],
      "execution_count": null,
      "outputs": []
    },
    {
      "cell_type": "markdown",
      "metadata": {
        "id": "t52hPSmD-pcU"
      },
      "source": [
        "***Training routines***"
      ]
    },
    {
      "cell_type": "code",
      "metadata": {
        "id": "izLR5Mul-o6k"
      },
      "source": [
        "class AverageMeter:\n",
        "    \n",
        "    def __init__(self):\n",
        "        self.value = 0.\n",
        "        self.sum = 0.\n",
        "        self.count = 0\n",
        "        self.average = 0.\n",
        "        \n",
        "    def reset(self):\n",
        "        self.value = 0.\n",
        "        self.sum = 0.\n",
        "        self.count = 0\n",
        "        self.average = 0.\n",
        "        \n",
        "    def update(self, value, n=1):\n",
        "        self.value = value\n",
        "        self.sum += value * n\n",
        "        self.count += n\n",
        "        self.average = self.sum / self.count"
      ],
      "execution_count": null,
      "outputs": []
    },
    {
      "cell_type": "code",
      "metadata": {
        "id": "CsxucwW9xc9V"
      },
      "source": [
        "def normalize(answer: str):\n",
        "    \"\"\"Performs a series of cleaning steps on the ground truth and predicted answer.\"\"\"\n",
        "    def remove_articles(text):\n",
        "        return re.sub(r'\\b(a|an|the)\\b', ' ', text)\n",
        "\n",
        "    def white_space_fix(text):\n",
        "        return ' '.join(text.split())\n",
        "\n",
        "    def remove_punc(text):\n",
        "        return ''.join(ch for ch in text if ch not in set(string.punctuation))\n",
        "\n",
        "    def lower(text):\n",
        "        return text.lower()\n",
        "\n",
        "    return white_space_fix(remove_articles(remove_punc(lower(answer))))"
      ],
      "execution_count": null,
      "outputs": []
    },
    {
      "cell_type": "code",
      "metadata": {
        "id": "tXV1JCVz_X2I"
      },
      "source": [
        "def get_scores(prediction: str, ground_truth: str):\n",
        "    prediction, ground_truth = normalize(prediction), normalize(ground_truth)\n",
        "    em_score = prediction == ground_truth\n",
        "\n",
        "    prediction_tokens, ground_truth_tokens = prediction.split(), ground_truth.split()\n",
        "    common = collections.Counter(prediction_tokens) & collections.Counter(ground_truth_tokens)\n",
        "    num_same = sum(common.values())\n",
        "    if num_same == 0:\n",
        "        f1_score = 0\n",
        "    else:\n",
        "        precision = 1.0 * num_same / len(prediction_tokens)\n",
        "        recall = 1.0 * num_same / len(ground_truth_tokens)\n",
        "        f1_score = (2 * precision * recall) / (precision + recall)\n",
        "\n",
        "    return em_score, f1_score"
      ],
      "execution_count": null,
      "outputs": []
    },
    {
      "cell_type": "code",
      "metadata": {
        "id": "kJqH0doi_ZaO"
      },
      "source": [
        "def max_metrics_over_ground_truths(prediction: str, ground_truths: list):\n",
        "    scores = [get_scores(prediction, ground_truth) for ground_truth in ground_truths]\n",
        "    em_score = max(scores, key=lambda score: score[0])[0]\n",
        "    f1_score = max(scores, key=lambda score: score[1])[1]\n",
        "    return em_score, f1_score"
      ],
      "execution_count": null,
      "outputs": []
    },
    {
      "cell_type": "code",
      "metadata": {
        "id": "nqPjKiFQ_a54"
      },
      "source": [
        "def metrics(predictions: dict, qas=valid_qas):\n",
        "    ground_truths = collections.defaultdict(lambda: [])\n",
        "    for qa in qas:\n",
        "        if qa['id'] in predictions:\n",
        "            ground_truths[qa['id']].append(qa['answer'].text)\n",
        "\n",
        "    em_scores, f1_scores, total = [], [], 0\n",
        "    for id in predictions:\n",
        "        em_score, f1_score = max_metrics_over_ground_truths(predictions[id], ground_truths[id])\n",
        "        em_scores.append(em_score); f1_scores.append(f1_score)\n",
        "        total += 1\n",
        "\n",
        "    em_score = 100.0 * sum(em_scores) / total\n",
        "    f1_score = 100.0 * sum(f1_scores) / total\n",
        "    return em_score, f1_score"
      ],
      "execution_count": null,
      "outputs": []
    },
    {
      "cell_type": "code",
      "metadata": {
        "id": "NAz3Fid7_cp0"
      },
      "source": [
        "class Trainer:\n",
        "    \n",
        "    def __init__(self, model, optimizer, criterion, id_field, text_field):\n",
        "        self.model = model\n",
        "        self.optimizer = optimizer\n",
        "        self.criterion = criterion\n",
        "        self.id_field = id_field\n",
        "        self.text_field = text_field\n",
        "        \n",
        "    def train_step(self, loader, epoch, grad_clip):\n",
        "        loss_tracker = AverageMeter()\n",
        "        self.model.train()\n",
        "        progress_bar = tqdm.tqdm(enumerate(loader), total=len(loader))\n",
        "        for i, batch in progress_bar:\n",
        "            self.optimizer.zero_grad()\n",
        "            starts, ends = self.model(*batch.ctx, batch.ctx_char, *batch.qst, batch.qst_char) # [batch_size, ctx_len]\n",
        "            loss = self.criterion(starts, batch.trg[:, 0]) + self.criterion(ends, batch.trg[:, 1])\n",
        "            loss.backward()\n",
        "            nn.utils.clip_grad_norm_(self.model.parameters(), grad_clip)\n",
        "            self.optimizer.step()\n",
        "            loss_tracker.update(loss.item())\n",
        "            progress_bar.set_description(f'Epoch: {epoch+1:02d} -     loss: {loss_tracker.average:.3f}')\n",
        "        return loss_tracker.average\n",
        "    \n",
        "    def validate(self, loader, epoch):\n",
        "        loss_tracker, predictions = AverageMeter(), {}\n",
        "        self.model.eval()\n",
        "        with torch.no_grad():\n",
        "            progress_bar = tqdm.tqdm(enumerate(loader), total=len(loader))\n",
        "            for i, batch in progress_bar:\n",
        "                starts, ends = self.model(*batch.ctx, batch.ctx_char, *batch.qst, batch.qst_char) # [batch_size, ctx_len]\n",
        "                loss = self.criterion(starts, batch.trg[:, 0]) + self.criterion(ends, batch.trg[:, 1])\n",
        "                start_indexes, end_indexes, _ = BiDAF.decode(starts=F.softmax(starts, dim=-1), ends=F.softmax(ends, dim=-1))\n",
        "                for i in range(starts.size(0)):\n",
        "                    id = self.id_field.itos(batch.id[i].item())\n",
        "                    prediction = batch.ctx[0][i][start_indexes[i]:end_indexes[i]+1]\n",
        "                    predictions[id] = ' '.join([self.text_field.itos(indice.item()) for indice in prediction])\n",
        "                loss_tracker.update(loss.item())\n",
        "                progress_bar.set_description(f'Epoch: {epoch+1:02d} - val_loss: {loss_tracker.average:.3f}')\n",
        "        return loss_tracker.average, predictions\n",
        "    \n",
        "    def train(self, train_loader, valid_loader, n_epochs, grad_clip):\n",
        "        history, best_loss = {'loss': [], 'val_loss': [], 'em': [], 'f1': []}, float('inf')\n",
        "        for epoch in range(n_epochs):\n",
        "            loss = self.train_step(train_loader, epoch, grad_clip)\n",
        "            val_loss, predictions = self.validate(valid_loader, epoch)\n",
        "            em_score, f1_score = metrics(predictions)\n",
        "            history['loss'].append(loss); history['val_loss'].append(val_loss)\n",
        "            history['em'].append(em_score); history['f1'].append(f1_score)\n",
        "            if best_loss > val_loss:\n",
        "                best_loss = val_loss\n",
        "                torch.save(self.model.state_dict(), './checkpoints/BiDAF.pth')\n",
        "            time.sleep(1)\n",
        "            print(f'\\nEM={em_score:.3f}% - F1={f1_score:.3f}%')\n",
        "        return history"
      ],
      "execution_count": null,
      "outputs": []
    },
    {
      "cell_type": "markdown",
      "metadata": {
        "id": "TYo7IJhIAWCW"
      },
      "source": [
        "***Train the model***"
      ]
    },
    {
      "cell_type": "code",
      "metadata": {
        "id": "UMhDfpKBAGxv"
      },
      "source": [
        "CHAR_EMBED_SIZE = 8\n",
        "TOKEN_EMBED_SIZE = 100\n",
        "KERNEL_SIZE = 5\n",
        "HIGHWAY_N_LAYERS = 2\n",
        "MODELING_N_LAYERS = 2\n",
        "N_EPOCHS = 10\n",
        "GRAD_CLIP = 1.0"
      ],
      "execution_count": null,
      "outputs": []
    },
    {
      "cell_type": "code",
      "metadata": {
        "id": "SndGRwooB-ZH",
        "outputId": "1006f8a8-08af-4159-b629-20b7f3cd1c99",
        "colab": {
          "base_uri": "https://localhost:8080/"
        }
      },
      "source": [
        "bidaf = BiDAF(char_vocab_size=len(CHAR),\n",
        "              token_vocab_size=len(TEXT),\n",
        "              char_embedding_size=CHAR_EMBED_SIZE,\n",
        "              token_embedding_size=TOKEN_EMBED_SIZE,\n",
        "              kernel_size=KERNEL_SIZE,\n",
        "              char_pad_index=CHAR.stoi(PAD_TOKEN),\n",
        "              token_pad_index=TEXT.stoi(PAD_TOKEN),\n",
        "              highway_n_layers=HIGHWAY_N_LAYERS,\n",
        "              modeling_n_layers=MODELING_N_LAYERS)\n",
        "bidaf.to(DEVICE)\n",
        "optimizer = optim.Adadelta(params=bidaf.parameters())\n",
        "criterion = nn.CrossEntropyLoss(ignore_index=TEXT.stoi(PAD_TOKEN))\n",
        "print(f'Number of parameters of the model: {sum(p.numel() for p in bidaf.parameters() if p.requires_grad):,}')\n",
        "print(bidaf)\n",
        "trainer = Trainer(model=bidaf, optimizer=optimizer, criterion=criterion, id_field=ID, text_field=TEXT)"
      ],
      "execution_count": null,
      "outputs": [
        {
          "output_type": "stream",
          "text": [
            "Number of parameters of the model: 8,321,488\n",
            "BiDAF(\n",
            "  (token_embedding): Embedding(26885, 100, padding_idx=1318)\n",
            "  (char_embedding): CharacterEmbeddingLayer(\n",
            "    (embedding): Embedding(1261, 8, padding_idx=28)\n",
            "    (cond2d): Conv2d(1, 100, kernel_size=(8, 5), stride=(1, 1))\n",
            "  )\n",
            "  (contextual_embedding): ContextualEmbeddingLayer(\n",
            "    (high_network_layer): HighwayNetworkLayer(\n",
            "      (fc_flow): ModuleList(\n",
            "        (0): Linear(in_features=200, out_features=200, bias=True)\n",
            "        (1): Linear(in_features=200, out_features=200, bias=True)\n",
            "      )\n",
            "      (fc_gate): ModuleList(\n",
            "        (0): Linear(in_features=200, out_features=200, bias=True)\n",
            "        (1): Linear(in_features=200, out_features=200, bias=True)\n",
            "      )\n",
            "    )\n",
            "    (lstm): LSTM(200, 200, batch_first=True, bidirectional=True)\n",
            "  )\n",
            "  (attention_flow): AttentionFlowLayer(\n",
            "    (W): Linear(in_features=1200, out_features=1, bias=False)\n",
            "  )\n",
            "  (modeling): ModelingLayer(\n",
            "    (lstm): LSTM(1600, 200, num_layers=2, batch_first=True, bidirectional=True)\n",
            "  )\n",
            "  (fc_start): Linear(in_features=2000, out_features=1, bias=False)\n",
            "  (lstm_end): LSTM(400, 200, batch_first=True, bidirectional=True)\n",
            "  (fc_end): Linear(in_features=2000, out_features=1, bias=False)\n",
            ")\n"
          ],
          "name": "stdout"
        }
      ]
    },
    {
      "cell_type": "code",
      "metadata": {
        "id": "GH3B2KHmDFOh",
        "outputId": "b93b9960-c853-4f7f-c418-6c444428813b",
        "colab": {
          "base_uri": "https://localhost:8080/"
        }
      },
      "source": [
        "!mkdir -p ./checkpoints\n",
        "history = trainer.train(train_loader=train_dataloader, valid_loader=valid_dataloader, n_epochs=N_EPOCHS, grad_clip=GRAD_CLIP)"
      ],
      "execution_count": null,
      "outputs": [
        {
          "output_type": "stream",
          "text": [
            "Epoch: 01 -     loss: 9.496:   3%|▎         | 45/1444 [00:37<16:01,  1.46it/s]"
          ],
          "name": "stderr"
        }
      ]
    },
    {
      "cell_type": "code",
      "metadata": {
        "id": "S9bwjDaHFdZv"
      },
      "source": [
        ""
      ],
      "execution_count": null,
      "outputs": []
    },
    {
      "cell_type": "code",
      "metadata": {
        "id": "vI5lfPEBEMzs"
      },
      "source": [
        ""
      ],
      "execution_count": null,
      "outputs": []
    }
  ]
}
